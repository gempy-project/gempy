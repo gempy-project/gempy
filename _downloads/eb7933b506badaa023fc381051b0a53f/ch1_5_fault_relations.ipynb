{
  "cells": [
    {
      "cell_type": "code",
      "execution_count": null,
      "metadata": {
        "collapsed": false
      },
      "outputs": [],
      "source": [
        "%matplotlib inline\nfrom pyvista import set_plot_theme\nset_plot_theme('document')"
      ]
    },
    {
      "cell_type": "markdown",
      "metadata": {},
      "source": [
        "\n# 1.5: Fault relations\n"
      ]
    },
    {
      "cell_type": "markdown",
      "metadata": {},
      "source": [
        "Importing gempy\n\n"
      ]
    },
    {
      "cell_type": "code",
      "execution_count": null,
      "metadata": {
        "collapsed": false
      },
      "outputs": [],
      "source": [
        "import gempy as gp\nimport gempy_viewer as gpv\n\n# Aux imports\nimport numpy as np\nimport os\n\nnp.random.seed(1515)"
      ]
    },
    {
      "cell_type": "markdown",
      "metadata": {},
      "source": [
        "We import a model from an existing folder.\n\n\n"
      ]
    },
    {
      "cell_type": "code",
      "execution_count": null,
      "metadata": {
        "collapsed": false
      },
      "outputs": [],
      "source": [
        "data_path = os.path.abspath('../../')\n\ngeo_model: gp.data.GeoModel = gp.create_geomodel(\n    project_name='Faults_relations',\n    extent=[0, 1000, 0, 1000, -1000, -400],\n    resolution=[20, 20, 20],\n    refinement=6,  # * For this model is better not to use octrees because we want to see what is happening in the scalar fields\n    importer_helper=gp.data.ImporterHelper(\n        path_to_orientations=data_path + \"/data/input_data/tut-ch1-5/tut_ch1-5_orientations.csv\",\n        path_to_surface_points=data_path + \"/data/input_data/tut-ch1-5/tut_ch1-5_points.csv\",\n    )\n)\n\nprint(geo_model)"
      ]
    },
    {
      "cell_type": "markdown",
      "metadata": {},
      "source": [
        "## One fault model\n\n"
      ]
    },
    {
      "cell_type": "markdown",
      "metadata": {},
      "source": [
        "Setting the structural frame\n\n"
      ]
    },
    {
      "cell_type": "code",
      "execution_count": null,
      "metadata": {
        "collapsed": false
      },
      "outputs": [],
      "source": [
        "fault1: gp.data.StructuralElement = geo_model.structural_frame.get_element_by_name(\"fault1\")\nfault2: gp.data.StructuralElement = geo_model.structural_frame.get_element_by_name(\"fault2\")\n\n# Remove the faults from the default group\ndefault_group: gp.data.StructuralGroup = geo_model.structural_frame.get_group_by_name(\"default_formation\")\ndefault_group.elements.remove(fault1)\ndefault_group.elements.remove(fault2)\n\n# Add a new group for the fault\ngp.add_structural_group(\n    model=geo_model,\n    group_index=0,\n    structural_group_name=\"fault_series_1\",\n    elements=[fault1],\n    structural_relation=gp.data.StackRelationType.FAULT,\n    fault_relations=gp.data.FaultsRelationSpecialCase.OFFSET_ALL\n)\n\nprint(geo_model.structural_frame)"
      ]
    },
    {
      "cell_type": "code",
      "execution_count": null,
      "metadata": {
        "collapsed": false
      },
      "outputs": [],
      "source": [
        "geo_model.input_transform.apply_anisotropy(gp.data.GlobalAnisotropy.NONE)\ngp.compute_model(geo_model)"
      ]
    },
    {
      "cell_type": "code",
      "execution_count": null,
      "metadata": {
        "collapsed": false
      },
      "outputs": [],
      "source": [
        "print(geo_model.solutions.raw_arrays.block_matrix[0])  # This contains the block values for the fault1\nprint(geo_model.solutions.raw_arrays.block_matrix[1])  # This contains the block values for the formations"
      ]
    },
    {
      "cell_type": "code",
      "execution_count": null,
      "metadata": {
        "collapsed": false
      },
      "outputs": [],
      "source": [
        "gpv.plot_2d(geo_model, show_data=True)\ngpv.plot_3d(geo_model, show_data=True, kwargs_plot_structured_grid={'opacity': .2})\n\n\n# %5\n# Graben example\n# --------------"
      ]
    },
    {
      "cell_type": "code",
      "execution_count": null,
      "metadata": {
        "collapsed": false
      },
      "outputs": [],
      "source": [
        "gp.add_structural_group(\n    model=geo_model,\n    group_index=1,\n    structural_group_name=\"fault_series_2\",\n    elements=[fault2],\n    structural_relation=gp.data.StackRelationType.FAULT,\n    fault_relations=gp.data.FaultsRelationSpecialCase.OFFSET_ALL\n)\nprint(geo_model.structural_frame)\n\ngp.compute_model(geo_model)"
      ]
    },
    {
      "cell_type": "code",
      "execution_count": null,
      "metadata": {
        "collapsed": false
      },
      "outputs": [],
      "source": [
        "gpv.plot_2d(geo_model, show_data=True)\ngpv.plot_3d(geo_model, show_data=True, image=True, kwargs_plot_structured_grid={'opacity': .2})"
      ]
    },
    {
      "cell_type": "code",
      "execution_count": null,
      "metadata": {
        "collapsed": false
      },
      "outputs": [],
      "source": [
        "gpv.plot_2d(geo_model, show_scalar=True, show_lith=False, series_n=0)\ngpv.plot_2d(geo_model, show_scalar=True, show_lith=False, series_n=1)\ngpv.plot_2d(geo_model, show_scalar=True, show_lith=False, series_n=2)"
      ]
    },
    {
      "cell_type": "markdown",
      "metadata": {},
      "source": [
        "## Finite Faults\n\n"
      ]
    },
    {
      "cell_type": "markdown",
      "metadata": {},
      "source": [
        "## Faults relations\n\n"
      ]
    },
    {
      "cell_type": "markdown",
      "metadata": {},
      "source": [
        "Let's split the formations in two groups\n\n"
      ]
    },
    {
      "cell_type": "code",
      "execution_count": null,
      "metadata": {
        "collapsed": false
      },
      "outputs": [],
      "source": [
        "gp.add_structural_group(\n    model=geo_model,\n    group_index=2,\n    structural_group_name=\"series_1\",\n    elements=[\n        geo_model.structural_frame.get_element_by_name(\"rock4\"),\n        geo_model.structural_frame.get_element_by_name(\"rock3\")\n    ],\n    structural_relation=gp.data.StackRelationType.ERODE\n)\n\ndefault_group.elements.remove(geo_model.structural_frame.get_element_by_name(\"rock4\"))\ndefault_group.elements.remove(geo_model.structural_frame.get_element_by_name(\"rock3\"))\n\ngp.set_fault_relation(\n    frame=geo_model.structural_frame,\n    rel_matrix=np.array([\n        [0, 1, 1, 1],\n        [0, 0, 0, 1],\n        [0, 0, 0, 0],\n        [0, 0, 0, 0]\n    ]\n    )\n)\nprint(geo_model.structural_frame)"
      ]
    },
    {
      "cell_type": "code",
      "execution_count": null,
      "metadata": {
        "collapsed": false
      },
      "outputs": [],
      "source": [
        "gp.compute_model(geo_model)"
      ]
    },
    {
      "cell_type": "code",
      "execution_count": null,
      "metadata": {
        "collapsed": false
      },
      "outputs": [],
      "source": [
        "gpv.plot_2d(geo_model, show_data=True)\ngpv.plot_3d(geo_model, show_data=True, image=False, kwargs_plot_structured_grid={'opacity': .2})"
      ]
    }
  ],
  "metadata": {
    "kernelspec": {
      "display_name": "Python 3",
      "language": "python",
      "name": "python3"
    },
    "language_info": {
      "codemirror_mode": {
        "name": "ipython",
        "version": 3
      },
      "file_extension": ".py",
      "mimetype": "text/x-python",
      "name": "python",
      "nbconvert_exporter": "python",
      "pygments_lexer": "ipython3",
      "version": "3.10.12"
    }
  },
  "nbformat": 4,
  "nbformat_minor": 0
}