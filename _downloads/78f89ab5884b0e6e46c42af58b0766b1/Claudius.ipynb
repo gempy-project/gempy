{
  "cells": [
    {
      "cell_type": "code",
      "execution_count": null,
      "metadata": {
        "collapsed": false
      },
      "outputs": [],
      "source": [
        "%matplotlib inline\nfrom pyvista import set_plot_theme\nset_plot_theme('document')"
      ]
    },
    {
      "cell_type": "markdown",
      "metadata": {},
      "source": [
        "\n# Geomodeling benchmark: the \"Claudius\"-Model\n\nThis model is part of a geomodeling benchmaring effort. More information (and, hopefully, publication) coming.\n"
      ]
    },
    {
      "cell_type": "code",
      "execution_count": null,
      "metadata": {
        "collapsed": false
      },
      "outputs": [],
      "source": [
        "import sys, os\n\n# Importing gempy\nimport gempy as gp\nimport gempy_viewer as gpv\n\n# Aux imports\nimport numpy as np\nimport pandas as pn"
      ]
    },
    {
      "cell_type": "markdown",
      "metadata": {},
      "source": [
        "## Loading data from repository:\n\nWith pandas we can do it directly from the web and with the right args\nwe can directly tidy the data in gempy style:\n\n\n"
      ]
    },
    {
      "cell_type": "code",
      "execution_count": null,
      "metadata": {
        "collapsed": false
      },
      "outputs": [],
      "source": [
        "data_path = os.path.abspath('../../data/input_data/Claudius')\n\nreduce_data_by = 30\n\ndfs = []\nfor letter in 'ABCD':\n    dfs.append(\n        pn.read_csv(\n            filepath_or_buffer=f\"{data_path}/{letter}Points.csv\",\n            sep=';',\n            names=['X', 'Y', 'Z', 'surface', 'cutoff'],\n            header=0\n        )[::reduce_data_by]\n    )\n\n# Add fault:\ndfs.append(\n    pn.read_csv(\n        filepath_or_buffer=f\"{data_path}/Fault.csv\",\n        names=['X', 'Y', 'Z', 'surface'],\n        header=0,\n        sep=','\n    )\n)\n\nsurface_points = pn.concat(dfs, sort=True)\nsurface_points['surface'] = surface_points['surface'].astype('str')\nsurface_points.reset_index(inplace=True, drop=False)\nsurface_points.tail()"
      ]
    },
    {
      "cell_type": "code",
      "execution_count": null,
      "metadata": {
        "collapsed": false
      },
      "outputs": [],
      "source": [
        "surface_points.dtypes"
      ]
    },
    {
      "cell_type": "markdown",
      "metadata": {},
      "source": [
        "How many points are per surface\n\n\n"
      ]
    },
    {
      "cell_type": "code",
      "execution_count": null,
      "metadata": {
        "collapsed": false
      },
      "outputs": [],
      "source": [
        "surface_points.groupby('surface').count()"
      ]
    },
    {
      "cell_type": "markdown",
      "metadata": {},
      "source": [
        "Now we do the same with the orientations:\n\n\n"
      ]
    },
    {
      "cell_type": "code",
      "execution_count": null,
      "metadata": {
        "collapsed": false
      },
      "outputs": [],
      "source": [
        "dfs = []\n\nfor surf in ['0', '330']:\n    o = pn.read_csv(\n        filepath_or_buffer=f\"{data_path}/Dips.csv\",\n        sep=';',\n        names=['X', 'Y', 'Z', 'G_x', 'G_y', 'G_z', '-'],\n        header=1\n    )\n\n    # Orientation needs to belong to a surface. This is mainly to categorize to which series belong and to\n    # use the same color\n    o['surface'] = surf\n    dfs.append(o)\norientations = pn.concat(dfs, sort=True)\norientations.reset_index(inplace=True, drop=False)\n\norientations.tail()"
      ]
    },
    {
      "cell_type": "code",
      "execution_count": null,
      "metadata": {
        "collapsed": false
      },
      "outputs": [],
      "source": [
        "orientations.dtypes"
      ]
    },
    {
      "cell_type": "markdown",
      "metadata": {},
      "source": [
        "## Data initialization:\n\nSuggested size of the axis-aligned modeling box: Origin: 548800 7816600\n-8400 Maximum: 552500 7822000 -11010\n\nSuggested resolution: 100m x 100m x -90m (grid size 38 x 55 x 30)\n\n\n"
      ]
    },
    {
      "cell_type": "markdown",
      "metadata": {},
      "source": [
        "Number of voxels:\n\n"
      ]
    },
    {
      "cell_type": "code",
      "execution_count": null,
      "metadata": {
        "collapsed": false
      },
      "outputs": [],
      "source": [
        "np.array([38, 55, 30]).prod()\n\nsurface_points_table: gp.data.SurfacePointsTable = gp.data.SurfacePointsTable.from_arrays(\n    x=surface_points['X'].values,\n    y=surface_points['Y'].values,\n    z=surface_points['Z'].values,\n    names=surface_points['surface'].values\n)\n\norientations_table: gp.data.OrientationsTable = gp.data.OrientationsTable.from_arrays(\n    x=orientations['X'].values,\n    y=orientations['Y'].values,\n    z=orientations['Z'].values,\n    G_x=orientations['G_x'].values,\n    G_y=orientations['G_y'].values,\n    G_z=orientations['G_z'].values,\n    names=orientations['surface'].values,\n    name_id_map=surface_points_table.name_id_map  # ! Make sure that ids and names are shared\n)\n\nstructural_frame: gp.data.StructuralFrame = gp.data.StructuralFrame.from_data_tables(\n    surface_points=surface_points_table,\n    orientations=orientations_table\n)\n\ngeo_model: gp.data.GeoModel = gp.create_geomodel(\n    project_name='Claudius',\n    extent=[548800, 552500, 7816600, 7822000, -11010, -8400],\n    resolution=[38, 55, 30],\n    refinement=5,\n    structural_frame=structural_frame\n)\n\ngroup_fault = gp.data.StructuralGroup(\n    name='Fault1',\n    elements=[geo_model.structural_frame.structural_elements.pop(-2)],\n    structural_relation=gp.data.StackRelationType.FAULT,\n    fault_relations=gp.data.FaultsRelationSpecialCase.OFFSET_ALL\n)\n\ngeo_model.structural_frame.get_group_by_name(\"default_formation\").elements.pop(-1)\n\n# Insert the fault group into the structural frame:\ngeo_model.structural_frame.insert_group(0, group_fault)\n\ngp.set_is_fault(\n    frame=geo_model.structural_frame,\n    fault_groups=[geo_model.structural_frame.get_group_by_name('Fault1')]\n)\n\nprint(geo_model)"
      ]
    },
    {
      "cell_type": "markdown",
      "metadata": {},
      "source": [
        "We are going to increase the smoothness (nugget) of the data to increase\nthe conditional number of the matrix:\n\n\n"
      ]
    },
    {
      "cell_type": "code",
      "execution_count": null,
      "metadata": {
        "collapsed": false
      },
      "outputs": [],
      "source": [
        "gp.modify_surface_points(geo_model, nugget=0.01)"
      ]
    },
    {
      "cell_type": "markdown",
      "metadata": {},
      "source": [
        "Also the original poles are pointing downwards. We can change the\ndirection by calling the following:\n\n\n"
      ]
    },
    {
      "cell_type": "code",
      "execution_count": null,
      "metadata": {
        "collapsed": false
      },
      "outputs": [],
      "source": [
        "gp.modify_orientations(geo_model, polarity=-1)"
      ]
    },
    {
      "cell_type": "markdown",
      "metadata": {},
      "source": [
        "We need an orientation per series/fault. The faults does not have\norientation so the easiest is to create an orientation from the surface\npoints availablle:\n\n\n"
      ]
    },
    {
      "cell_type": "code",
      "execution_count": null,
      "metadata": {
        "collapsed": false
      },
      "outputs": [],
      "source": [
        "element = geo_model.structural_frame.get_element_by_name(\"Claudius_fault\")\nnew_orientations: gp.data.OrientationsTable = gp.create_orientations_from_surface_points_coords(\n    xyz_coords=element.surface_points.xyz\n)\ngp.add_orientations(\n    geo_model=geo_model,\n    x=new_orientations.data['X'],\n    y=new_orientations.data['Y'],\n    z=new_orientations.data['Z'],\n    pole_vector=new_orientations.grads,\n    elements_names=\"Claudius_fault\"\n)"
      ]
    },
    {
      "cell_type": "code",
      "execution_count": null,
      "metadata": {
        "collapsed": false
      },
      "outputs": [],
      "source": [
        "gpv.plot_2d(geo_model, direction='y')"
      ]
    },
    {
      "cell_type": "markdown",
      "metadata": {},
      "source": [
        "We will need to separate with surface belong to each series:\n\n\n"
      ]
    },
    {
      "cell_type": "code",
      "execution_count": null,
      "metadata": {
        "collapsed": false
      },
      "outputs": [],
      "source": [
        "gp.map_stack_to_surfaces(\n    gempy_model=geo_model,\n    mapping_object={\n        'Default series': ('0', '60', '250'),\n        'Fault': 'Claudius_fault',\n        'Uncomformity': '330',\n    }\n)"
      ]
    },
    {
      "cell_type": "markdown",
      "metadata": {},
      "source": [
        "So far we did not specify which series/faults are actula faults:\n\n\n"
      ]
    },
    {
      "cell_type": "code",
      "execution_count": null,
      "metadata": {
        "collapsed": false
      },
      "outputs": [],
      "source": [
        "gp.set_is_fault(\n    frame=geo_model.structural_frame,\n    fault_groups=[geo_model.structural_frame.get_group_by_name('Fault')]\n)\n\ngeo_model.structural_frame"
      ]
    },
    {
      "cell_type": "code",
      "execution_count": null,
      "metadata": {
        "collapsed": false
      },
      "outputs": [],
      "source": [
        "geo_model.interpolation_options.kernel_options.range = 1\ngp.compute_model(\n    geo_model,\n    gp.data.GemPyEngineConfig(\n        backend=gp.data.AvailableBackends.numpy,\n        use_gpu=False,\n        dtype='float64'\n    )\n)"
      ]
    },
    {
      "cell_type": "code",
      "execution_count": null,
      "metadata": {
        "collapsed": false
      },
      "outputs": [],
      "source": [
        "sect = ['mid']\n\ngpv.plot_2d(geo_model, cell_number=sect, series_n=1, show_scalar=True, direction='x')"
      ]
    },
    {
      "cell_type": "code",
      "execution_count": null,
      "metadata": {
        "collapsed": false
      },
      "outputs": [],
      "source": [
        "gpv.plot_2d(geo_model, cell_number=sect, show_data=True, direction='x')"
      ]
    },
    {
      "cell_type": "code",
      "execution_count": null,
      "metadata": {
        "collapsed": false
      },
      "outputs": [],
      "source": [
        "gpv.plot_2d(geo_model, cell_number=[28], series_n=0, direction='y', show_scalar=True)\ngpv.plot_2d(geo_model, cell_number=[28], series_n=1, direction='y', show_scalar=True)\ngpv.plot_2d(geo_model, cell_number=[28], series_n=2, direction='y', show_scalar=True)"
      ]
    },
    {
      "cell_type": "code",
      "execution_count": null,
      "metadata": {
        "collapsed": false
      },
      "outputs": [],
      "source": [
        "gpv.plot_2d(geo_model, cell_number=[28], show_data=True, direction='y')"
      ]
    },
    {
      "cell_type": "code",
      "execution_count": null,
      "metadata": {
        "collapsed": false
      },
      "outputs": [],
      "source": [
        "# sphinx_gallery_thumbnail_number = 8\ngpv.plot_3d(geo_model, show_lith=True, show_data=True, show_boundaries=True)"
      ]
    }
  ],
  "metadata": {
    "kernelspec": {
      "display_name": "Python 3",
      "language": "python",
      "name": "python3"
    },
    "language_info": {
      "codemirror_mode": {
        "name": "ipython",
        "version": 3
      },
      "file_extension": ".py",
      "mimetype": "text/x-python",
      "name": "python",
      "nbconvert_exporter": "python",
      "pygments_lexer": "ipython3",
      "version": "3.10.12"
    }
  },
  "nbformat": 4,
  "nbformat_minor": 0
}