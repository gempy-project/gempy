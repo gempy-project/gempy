{
  "cells": [
    {
      "cell_type": "code",
      "execution_count": null,
      "metadata": {
        "collapsed": false
      },
      "outputs": [],
      "source": [
        "%matplotlib inline\nfrom pyvista import set_plot_theme\nset_plot_theme('document')"
      ]
    },
    {
      "cell_type": "markdown",
      "metadata": {},
      "source": [
        "\n# GemPy Models - Some More Complex Examples\n\nA set of more complex examples\n"
      ]
    },
    {
      "cell_type": "markdown",
      "metadata": {},
      "source": [
        "Importing gempy\n\n"
      ]
    },
    {
      "cell_type": "code",
      "execution_count": null,
      "metadata": {
        "collapsed": false
      },
      "outputs": [],
      "source": [
        "import gempy as gp\nimport gempy_viewer as gpv\n\n# Aux imports\nimport numpy as np\nimport os"
      ]
    },
    {
      "cell_type": "markdown",
      "metadata": {},
      "source": [
        "## Choose a model and load the corresponding data set in the line below\n\nModel 1: Discordant layering\n\nModel 2: Anticlinal layering\n\nModel 3: Parallel steep dipping layers\n\nModel 5: Normal faulting\n\nModel 6: Synclinal layering\n\nModel 7: Graben structure with two faults\n\nModel 8: Similar to Model 5\n\nModel 9: Parallel flat dipping layers\n\n\n"
      ]
    },
    {
      "cell_type": "code",
      "execution_count": null,
      "metadata": {
        "collapsed": false
      },
      "outputs": [],
      "source": [
        "data_path = os.path.abspath('../..')"
      ]
    },
    {
      "cell_type": "code",
      "execution_count": null,
      "metadata": {
        "collapsed": false
      },
      "outputs": [],
      "source": [
        "def create_example(name_model, plot_section=True):\n    \"\"\"\n    Create an inter_data from one of the examples data_set\n    \n    Attr:\n        name_model (str): name of the model that you want to generate. It has to be in ['Model 1' ,'Model 2', 'Model 3', 'Model 4','Model 5' 'Model 6','Model 7',\n                          'Model 8', 'Model 9']\n        save_pickle (bool, str): Save to a pickle the interp_data object. You can pass the path as a string otherwse\n                                the default name will be given\n        plot_section (bool)\n    \n    \"\"\"\n    name_list = np.array(['Model 1', 'Model 2', 'Model 3', 'Model 4', 'Model 5', 'Model 6', 'Model 7', 'Model 8', 'Model 9'])\n    assert name_model in name_list, 'Name model must be in the following list: ' + str(name_list)\n    # Extract number of the model\n    n_model = name_model[-1]\n\n    # # Load right gempy geodata\n    geo_data: gp.data.GeoModel = gp.create_geomodel(\n        project_name=name_model,\n        extent=[0, 2000, 0, 2000, 0, 1600],\n        resolution=[50, 50, 50],\n        refinement=6,  # * For this model is better not to use octrees because we want to see what is happening in the scalar fields\n        importer_helper=gp.data.ImporterHelper(\n            path_to_orientations=data_path + \"/data/input_data/lisa_models/foliations\" + n_model + \".csv\",\n            path_to_surface_points=data_path + \"/data/input_data/lisa_models/interfaces\" + n_model + \".csv\",\n        )\n    )\n\n    # Set the right sequential pile\n    subset_list_1 = np.array(['Model 1'])\n    subset_list_2 = np.array(['Model 5', 'Model 8'])\n    subset_list_3 = np.array(['Model 2', 'Model 3', 'Model 9', 'Model 6'])\n    subset_list_4 = np.array(['Model 7'])\n    \n    ### Model 1 - Discordant layering ###\n    if name_model in subset_list_1:\n        gp.map_stack_to_surfaces(\n            gempy_model=geo_data,\n            mapping_object={\n                \"Strat_Series_1\": ('Sandstone', 'Siltstone', 'Shale'),\n                \"Strat_Series_2\": ('Sandstone2', 'Siltstone2', 'Shale2')\n            },\n        )\n    ### Model 5 - One normal Fault ###\n    ### Model 8 - ###\n    elif name_model in subset_list_2:\n        gp.map_stack_to_surfaces(\n            gempy_model=geo_data,\n            mapping_object={\n            \"Fault_Series\": 'Main_Fault',\n            \"Strat_Series\": ('Sandstone', 'Siltstone', 'Shale', 'Sandstone_2', 'Schist', 'Gneiss')\n            },\n        )\n        \n        gp.set_is_fault(geo_data, ['Fault_Series'])\n        \n    elif name_model in subset_list_3:\n        ### Model 2 - Aufw\u00f6lbung (durch Salzstock?) ###\n        ### Model 3+9 - Parallele NNE Schichtung ohne Verwerfung ###\n        ### Model 6 - Mulde ###\n        gp.map_stack_to_surfaces(\n            gempy_model=geo_data,\n            mapping_object={\n            \"Strat_Series\": ('Sandstone', 'Siltstone', 'Shale', 'Sandstone_2', 'Schist', 'Gneiss')\n            },\n        )\n    elif name_model in subset_list_4:\n        ### Model 7 - Graben ###\n        gp.map_stack_to_surfaces(\n            gempy_model=geo_data,\n            mapping_object={\n            \"Fault_1\": 'Fault_1', \"Fault_2\": 'Fault_2',\n            \"Strat_Series\": ('Sandstone', 'Siltstone', 'Shale', 'Sandstone_2', 'Schist', 'Gneiss')\n            },\n        )\n        \n        gp.set_is_fault(geo_data, ['Fault_1', 'Fault_2'])\n    else:\n        print('You would never reach this point. Look for the bug')\n\n    # Interpolation and Computation\n    sol = gp.compute_model(\n        gempy_model=geo_data,\n        engine_config=gp.data.GemPyEngineConfig(backend=gp.data.AvailableBackends.PYTORCH)\n    )\n\n    if plot_section is True:\n        # 2D Plot\n        gpv.plot_2d(geo_data, cell_number=['mid'], direction='y', show_data=True)\n        gpv.plot_3d(geo_data, image=False)\n\n    return geo_data.structural_frame"
      ]
    },
    {
      "cell_type": "markdown",
      "metadata": {},
      "source": [
        "### Discordant layering 1\n\n"
      ]
    },
    {
      "cell_type": "code",
      "execution_count": null,
      "metadata": {
        "collapsed": false
      },
      "outputs": [],
      "source": [
        "create_example('Model 1')"
      ]
    },
    {
      "cell_type": "markdown",
      "metadata": {},
      "source": [
        "### Discordant layering 2\n\n"
      ]
    },
    {
      "cell_type": "code",
      "execution_count": null,
      "metadata": {
        "collapsed": false
      },
      "outputs": [],
      "source": [
        "create_example('Model 2')"
      ]
    },
    {
      "cell_type": "markdown",
      "metadata": {},
      "source": [
        "### Discordant layering 3\n\n"
      ]
    },
    {
      "cell_type": "code",
      "execution_count": null,
      "metadata": {
        "collapsed": false
      },
      "outputs": [],
      "source": [
        "create_example('Model 3')"
      ]
    },
    {
      "cell_type": "markdown",
      "metadata": {},
      "source": [
        "### One normal Fault 1\n\n"
      ]
    },
    {
      "cell_type": "code",
      "execution_count": null,
      "metadata": {
        "collapsed": false
      },
      "outputs": [],
      "source": [
        "create_example('Model 5')"
      ]
    },
    {
      "cell_type": "markdown",
      "metadata": {},
      "source": [
        "### Fold\n\n"
      ]
    },
    {
      "cell_type": "code",
      "execution_count": null,
      "metadata": {
        "collapsed": false
      },
      "outputs": [],
      "source": [
        "create_example('Model 6')"
      ]
    },
    {
      "cell_type": "markdown",
      "metadata": {},
      "source": [
        "### Graben\n\n"
      ]
    },
    {
      "cell_type": "code",
      "execution_count": null,
      "metadata": {
        "collapsed": false
      },
      "outputs": [],
      "source": [
        "create_example('Model 7')"
      ]
    },
    {
      "cell_type": "markdown",
      "metadata": {},
      "source": [
        "### One normal Fault 2\n\n"
      ]
    },
    {
      "cell_type": "code",
      "execution_count": null,
      "metadata": {
        "collapsed": false
      },
      "outputs": [],
      "source": [
        "create_example('Model 8')"
      ]
    },
    {
      "cell_type": "markdown",
      "metadata": {},
      "source": [
        "### Horizontal tilted\n\n"
      ]
    },
    {
      "cell_type": "code",
      "execution_count": null,
      "metadata": {
        "collapsed": false
      },
      "outputs": [],
      "source": [
        "create_example('Model 9')"
      ]
    },
    {
      "cell_type": "code",
      "execution_count": null,
      "metadata": {
        "collapsed": false
      },
      "outputs": [],
      "source": [
        "# generate_all_models(['Model 1', 'Model 2', 'Model 3',\n#                     'Model 5', 'Model 6', 'Model 7',\n#                     'Model 8', 'Model 9'])"
      ]
    }
  ],
  "metadata": {
    "kernelspec": {
      "display_name": "Python 3",
      "language": "python",
      "name": "python3"
    },
    "language_info": {
      "codemirror_mode": {
        "name": "ipython",
        "version": 3
      },
      "file_extension": ".py",
      "mimetype": "text/x-python",
      "name": "python",
      "nbconvert_exporter": "python",
      "pygments_lexer": "ipython3",
      "version": "3.10.12"
    }
  },
  "nbformat": 4,
  "nbformat_minor": 0
}