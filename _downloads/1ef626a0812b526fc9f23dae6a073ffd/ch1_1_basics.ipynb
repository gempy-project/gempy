{
  "cells": [
    {
      "cell_type": "code",
      "execution_count": null,
      "metadata": {
        "collapsed": false
      },
      "outputs": [],
      "source": [
        "%matplotlib inline\nfrom pyvista import set_plot_theme\nset_plot_theme('document')"
      ]
    },
    {
      "cell_type": "markdown",
      "metadata": {},
      "source": [
        "\n# 1.1 -Basics of geological modeling with GemPy\n"
      ]
    },
    {
      "cell_type": "code",
      "execution_count": null,
      "metadata": {
        "collapsed": false
      },
      "outputs": [],
      "source": [
        "import numpy as np"
      ]
    },
    {
      "cell_type": "markdown",
      "metadata": {},
      "source": [
        "## Importing Necessary Libraries\n\n"
      ]
    },
    {
      "cell_type": "code",
      "execution_count": null,
      "metadata": {
        "collapsed": false
      },
      "outputs": [],
      "source": [
        "import gempy as gp\nimport gempy_viewer as gpv"
      ]
    },
    {
      "cell_type": "markdown",
      "metadata": {},
      "source": [
        "## Importing and Defining Input Data\n:obj:`gempy.core.data.GeoModel`\nGemPy uses Python objects to store the data that builds the geological model. The main data classes include:\n\n    -  :obj:`gempy.core.data.GeoModel`\n    -  :obj:`gempy.core.data.StructuralFrame`\n    -  :obj:`gempy.core.data.StructuralGroup`\n    -  :obj:`gempy.core.data.StructuralElement`\n    -  :obj:`gempy.core.data.SurfacePointsTable`\n    -  :obj:`gempy.core.data.OrientationsTable`\n    -  :obj:`gempy.core.data.Grid`\n\nYou can also create data from raw CSV files (comma-separated values). This could be useful if you are exporting model data\nfrom a different program or creating it in a spreadsheet software like Microsoft Excel or LibreOffice Calc.\n\nIn this tutorial, we'll use CSV files to generate input data. You can find these example files in the `gempy data`\nrepository on GitHub. The data consists of x, y, and z positional values for all surface points and orientation\nmeasurements. Additional data includes poles, azimuth and polarity (or the gradient components). Surface points are\nassigned a formation, which can be a lithological unit (like \"Sandstone\") or a structural feature (like \"Main Fault\"). \n\nIt's important to note that, in GemPy, interface position points mark the **bottom** of a layer. If you need points\nto represent the top of a formation (for example, when modeling an intrusion), you can define an inverted orientation measurement.\n\nWhile generating data from CSV files, we also need to define the model's real extent in x, y, and z. This extent\ndefines the area used for interpolation and many of the plotting functions. We also set a resolution to establish a\nregular grid right away. This resolution will dictate the number of voxels used during modeling. We're using a medium\nresolution of 50x50x50 here, which results in 125,000 voxels. The model extent should enclose all relevant data in a\nrepresentative space. As our model voxels are prisms rather than cubes, the resolution can differ from the extent.\nHowever, it is recommended to avoid going beyond 100 cells in each direction (1,000,000 voxels) to prevent excessive\ncomputational costs.\n\n\n\n"
      ]
    },
    {
      "cell_type": "code",
      "execution_count": null,
      "metadata": {
        "collapsed": false
      },
      "outputs": [],
      "source": [
        "data_path = 'https://raw.githubusercontent.com/cgre-aachen/gempy_data/master/'\n\ngeo_model: gp.data.GeoModel = gp.create_geomodel(\n    project_name='Tutorial_ch1_1_Basics',\n    extent=[0, 2000, 0, 2000, 0, 750],\n    refinement=6,  # * Here we define the number of octree levels. If octree levels are defined, the resolution is ignored.\n    importer_helper=gp.data.ImporterHelper(\n        path_to_orientations=data_path + \"/data/input_data/getting_started/simple_fault_model_orientations.csv\",\n        path_to_surface_points=data_path + \"/data/input_data/getting_started/simple_fault_model_points.csv\",\n        hash_surface_points=\"4cdd54cd510cf345a583610585f2206a2936a05faaae05595b61febfc0191563\",\n        hash_orientations=\"7ba1de060fc8df668d411d0207a326bc94a6cdca9f5fe2ed511fd4db6b3f3526\"\n    )\n)"
      ]
    },
    {
      "cell_type": "markdown",
      "metadata": {},
      "source": [
        ".. admonition:: New in GemPy 3! \n\n   GemPy 3 has introduced the ``ImporterHelper`` class to streamline importing data from various sources. This class\n   simplifies the process of passing multiple arguments needed for importing data and will likely see further \n   extensions in the future. Currently, one of its uses is to handle `pooch` arguments for downloading data from the internet.\n\n\n\n## Reviewing the Imported Data\nNow that the `geo_model` object is set up and the data imported from the CSV files, we review the data imported using the properties `surface_points_copy` and `orientations_copy`.\n\nUsing `structural_frame.element_id_name_map`, we can see which ID corresponds to which structural element name in the data.\n\n"
      ]
    },
    {
      "cell_type": "code",
      "execution_count": null,
      "metadata": {
        "collapsed": false
      },
      "outputs": [],
      "source": [
        "geo_model.surface_points_copy"
      ]
    },
    {
      "cell_type": "code",
      "execution_count": null,
      "metadata": {
        "collapsed": false
      },
      "outputs": [],
      "source": [
        "geo_model.orientations_copy"
      ]
    },
    {
      "cell_type": "markdown",
      "metadata": {},
      "source": [
        "## Declaring the Sequential Order of Structural Elements (Geological Formations)\nIn our model, we want the geological units to appear in the correct chronological order. This order could be determined by a sequence\nof stratigraphic deposition, unconformities due to erosion, or other lithological genesis events like igneous intrusions. A similar\nage-related order is declared for faults in our model. In GemPy, we use the function `gempy.map_stack_to_surfaces` to assign formations\nor faults to different sequential series by declaring them in a Python dictionary.\n\n\nThe correct ordering of series is crucial for model construction! It's possible to assign several surfaces to one series. The order of\nunits within a series only affects the color code, so we recommend maintaining consistency. The order can be defined by simply changing\nthe order of the lists within the `gempy.core.data.StructuralFrame.structural_groups` and `gempy.core.data.StructuralGroups.elements` attributes.\n\nFaults are treated as independent groups and must be younger than the groups they affect. The relative order between different faults\ndefines their tectonic relationship (the first entry is the youngest).\n\nFor a model with simple sequential stratigraphy, all layer formations can be assigned to one series without an issue. All unit\nboundaries and their order would then be determined by interface points. However, to model more complex lithostratigraphical\nrelations and interactions, separate series definitions become important. For example, modeling an unconformity or an intrusion\nthat disrupts older stratigraphy would require declaring a younger series.\n\nBy default, a simple sequence/group is created inferred from the data as shown above.\n\nOur example model comprises four main layers (plus an underlying basement that is automatically generated by GemPy) and one main\nnormal fault displacing those layers. Assuming a simple stratigraphy where each younger unit was deposited onto the underlying\nolder one, we can assign these layer formations to one structural group called \"Strat_Series\". For the fault, we declare a\nrespective \"Fault_Series\" as the first key entry in the mapping dictionary. We could give any other names to these series;\nthe formations, however, have to be referred to as named in the input data.\n\nIn the following, we map the \"Main Fault\" to the \"Fault Series\" and the individual formations to the \"Strat Series\".\n\n"
      ]
    },
    {
      "cell_type": "code",
      "execution_count": null,
      "metadata": {
        "collapsed": false
      },
      "outputs": [],
      "source": [
        "gp.map_stack_to_surfaces(\n    gempy_model=geo_model,\n    mapping_object=  # TODO: This mapping I do not like it too much. We should be able to do it passing the data objects directly\n    {\n            \"Fault_Series\": 'Main_Fault',\n            \"Strat_Series\": ('Sandstone_2', 'Siltstone', 'Shale', 'Sandstone_1')\n    }\n)"
      ]
    },
    {
      "cell_type": "markdown",
      "metadata": {},
      "source": [
        "Note how the structural frame still indicates the \"Fault Series\" group to have a relation type \"erode\".\nWe still need to tell GemPy that we want this group to be a fault. We do this using the function `set_is_fault`.\n\n"
      ]
    },
    {
      "cell_type": "code",
      "execution_count": null,
      "metadata": {
        "collapsed": false
      },
      "outputs": [],
      "source": [
        "gp.set_is_fault(\n    frame=geo_model.structural_frame,\n    fault_groups=['Fault_Series']\n)"
      ]
    },
    {
      "cell_type": "markdown",
      "metadata": {},
      "source": [
        "Now, all surfaces have been assigned to a series and are displayed in the correct order \n(from young to old).\n\n### Returning Information from Our Input Data\nOur model input data, named \"geo_model\", contains all essential information for constructing \nour model. You can access different types of information by accessing the attributes.\nFor instance, you can retrieve the coordinates of our modeling grid as follows:\n\n"
      ]
    },
    {
      "cell_type": "code",
      "execution_count": null,
      "metadata": {
        "collapsed": false
      },
      "outputs": [],
      "source": [
        "geo_model.grid"
      ]
    },
    {
      "cell_type": "markdown",
      "metadata": {},
      "source": [
        "### Visualizing input data\n\nSince we have already imported our input data, we can go ahead and visualize it in 2D and 3D. This can be useful to check if all points\nand orientations are defined the way we want them to be. Using the function `gempy_viewer.plot2d`, we obtain a 2D projection of our\ndata points onto a plane of the chosen *direction* (we can choose this attribute to be either x, y or z, with the default being y).\nBelow, we can freely switch the direction and check out the projection from different sides to get a good idea.\n\n"
      ]
    },
    {
      "cell_type": "code",
      "execution_count": null,
      "metadata": {
        "collapsed": false
      },
      "outputs": [],
      "source": [
        "plot = gpv.plot_2d(geo_model, show_lith=False, show_boundaries=False)"
      ]
    },
    {
      "cell_type": "markdown",
      "metadata": {},
      "source": [
        "Beyond 2D, however, we can also visualize our input data in full 3D using `gempy_viewer.plot_3d`. Note that direct 3D visualization\nin GemPy requires [the Visualization Toolkit](https://www.vtk.org/) (VTK) to be installed.\n\n"
      ]
    },
    {
      "cell_type": "code",
      "execution_count": null,
      "metadata": {
        "collapsed": false
      },
      "outputs": [],
      "source": [
        "gpv.plot_3d(geo_model, image=False, plotter_type='basic')"
      ]
    },
    {
      "cell_type": "markdown",
      "metadata": {},
      "source": [
        "### Model Generation\nOnce we've correctly defined all our primary information in our `gempy.core.data.GeoModel` object (referred to as `geo_model`\nin these tutorials), we can proceed with the model computation step. We can go ahead and save the solution of a specific computation\nas we do below, but solutions are also stored within the `gempy.core.data.GeoModel` object for future reference.\n\n\n.. admonition:: New in GemPy 3!  Numpy and TensorFlow backend\n\n   Unlike previous versions, GemPy 3 doesn't rely on `theano` or `asera`. \n   Instead, it utilizes `numpy` or `tensorflow`. Consequently, we no longer need \n   to recompile all theano functions (TensorFlow uses eager execution; we found no \n   notable speed difference after profiling the XLA compiler).\n\n"
      ]
    },
    {
      "cell_type": "markdown",
      "metadata": {},
      "source": [
        "The parameters used for the interpolation are stored in \n`gempy.core.data.GeoModel.interpolation_options`. These parameters have sensible default values \nthat you can modify if necessary. However, we advise caution when changing these parameters \nunless you fully understand their implications.\n\n"
      ]
    },
    {
      "cell_type": "markdown",
      "metadata": {},
      "source": [
        "Display the current interpolation options\n\n"
      ]
    },
    {
      "cell_type": "code",
      "execution_count": null,
      "metadata": {
        "collapsed": false
      },
      "outputs": [],
      "source": [
        "geo_model.interpolation_options"
      ]
    },
    {
      "cell_type": "markdown",
      "metadata": {},
      "source": [
        "With all our prerequisites in place, we can now compute our complete geological model \nusing :func:`gempy.compute_model`. This function returns a :obj:`gempy.core.data.Solutions` object.\n\nThe following sections illustrate these different model solutions and how to utilize them.\n\n"
      ]
    },
    {
      "cell_type": "markdown",
      "metadata": {},
      "source": [
        "Compute the geological model and get the solutions\n\n"
      ]
    },
    {
      "cell_type": "code",
      "execution_count": null,
      "metadata": {
        "collapsed": false
      },
      "outputs": [],
      "source": [
        "sol = gp.compute_model(geo_model)\nsol"
      ]
    },
    {
      "cell_type": "markdown",
      "metadata": {},
      "source": [
        "Solutions are also stored within the :obj:`gempy.core.data.GeoModel` object, for future reference.\n\n"
      ]
    },
    {
      "cell_type": "code",
      "execution_count": null,
      "metadata": {
        "collapsed": false
      },
      "outputs": [],
      "source": [
        "geo_model.solutions"
      ]
    },
    {
      "cell_type": "markdown",
      "metadata": {},
      "source": [
        "### Direct model visualization in GemPy\n\nModel solutions can be easily visualized in 2D sections in GemPy\ndirectly. Let's take a look at our lithology block:\n\n\n"
      ]
    },
    {
      "cell_type": "code",
      "execution_count": null,
      "metadata": {
        "collapsed": false
      },
      "outputs": [],
      "source": [
        "gpv.plot_2d(geo_model, show_data=True, cell_number=\"mid\", direction='y')"
      ]
    },
    {
      "cell_type": "markdown",
      "metadata": {},
      "source": [
        "With ``cell_number=mid``, we have chosen a section going through\nthe middle of our block. We have moved in ``direction='y'``,\nthe plot thus depicts a plane parallel to the $x$- and\n$y$-axes. Setting ``show_data=True``, we could plot original data\ntogether with the results. Changing the values for ``cell_number`` and\n``direction``, we can move through our 3D block model and explore it by\nlooking at different 2D planes.\n\nWe can do the same with the underlying scalar-field solution:\n\n\n"
      ]
    },
    {
      "cell_type": "code",
      "execution_count": null,
      "metadata": {
        "collapsed": false
      },
      "outputs": [],
      "source": [
        "gpv.plot_2d(\n    model=geo_model,\n    series_n=0,  # This will plot the scalar field used for the fault\n    show_data=False,\n    show_scalar=True,\n    show_lith=False\n)"
      ]
    },
    {
      "cell_type": "code",
      "execution_count": null,
      "metadata": {
        "collapsed": false
      },
      "outputs": [],
      "source": [
        "gpv.plot_2d(\n    model=geo_model,\n    series_n=1,  # This will plot the scalar field used for the stratigraphy\n    show_data=False,\n    show_scalar=True,\n    show_lith=False\n)"
      ]
    },
    {
      "cell_type": "markdown",
      "metadata": {},
      "source": [
        "### Dual Contouring and vtk visualization\n\nIn addition to 2D sections we can extract surfaces to visualize in 3D\nrenderers. Surfaces can be visualized as 3D triangle complexes in VTK\n(see function plot\\_surfaces\\_3D below). To create these triangles, we\nneed to extract respective vertices and simplices from the potential\nfields of lithologies and faults. This process is automatized in GemPy\nusing dual contouring in the :obj:`gempy_engine`.\n\n.. admonition:: New in GemPy 3! Dual Contouring\n\n   GemPy 3 uses dual contouring to extract surfaces from the scalar fields. The method is completely coded in :obj:`gempy_engine` what also\n   enables further improvements in the midterm. This method is more efficient to use\n   together with octrees and suited better the new capabilities of gempy3. \n\n"
      ]
    },
    {
      "cell_type": "code",
      "execution_count": null,
      "metadata": {
        "collapsed": false
      },
      "outputs": [],
      "source": [
        "gpv.plot_3d(geo_model, show_data=False, image=False, plotter_type='basic')"
      ]
    },
    {
      "cell_type": "markdown",
      "metadata": {},
      "source": [
        "### Adding topography\nIn gempy we can add more grid types for different purposes. We will explore this concept in more detail in the\nnext tutorials (:doc:`ch1_3a_grids`). For now, we will just add a topography grid to our model. This grid allows us to intersect the\nsurfaces as well as compute a high resolution geological mal.\n\n"
      ]
    },
    {
      "cell_type": "code",
      "execution_count": null,
      "metadata": {
        "collapsed": false
      },
      "outputs": [],
      "source": [
        "gp.set_topography_from_random(\n    grid=geo_model.grid,\n    fractal_dimension=1.2,\n    d_z=np.array([350, 750]),\n    topography_resolution=np.array([50, 50]),\n)\n\ngp.compute_model(geo_model)\ngpv.plot_2d(geo_model, show_topography=True)\n\ngpv.plot_3d(\n    model=geo_model,\n    plotter_type='basic',\n    show_topography=True,\n    show_surfaces=True,\n    show_lith=True,\n    image=False\n)"
      ]
    },
    {
      "cell_type": "markdown",
      "metadata": {},
      "source": [
        "### Compute at a given location\n\nThis is done by modifying the grid to a custom grid and recomputing.\n\n\n"
      ]
    },
    {
      "cell_type": "code",
      "execution_count": null,
      "metadata": {
        "collapsed": false
      },
      "outputs": [],
      "source": [
        "x_i = np.array([[1000, 1000, 1000]])\nlith_values_at_coords: np.ndarray = gp.compute_model_at(\n    gempy_model=geo_model,\n    at=x_i\n)\nlith_values_at_coords"
      ]
    },
    {
      "cell_type": "markdown",
      "metadata": {},
      "source": [
        "Therefore if we just want the value at **x\\_i**: \n\n"
      ]
    },
    {
      "cell_type": "code",
      "execution_count": null,
      "metadata": {
        "collapsed": false
      },
      "outputs": [],
      "source": [
        "geo_model.solutions.raw_arrays.custom"
      ]
    },
    {
      "cell_type": "markdown",
      "metadata": {},
      "source": [
        ".. admonition:: Work in progress \n\n  GemPy3 model serialization is currently being redisigned. Therefore, at the current version, there is not a build in\n  method to save the model. However, since now the data model should be completely robust, you should be able to save the\n  :obj:`gempy.core.data.GeoModel` and all its attributes using the standard python library [pickle](https://docs.python.org/3/library/pickle.html)\n\nsphinx_gallery_thumbnail_number = -2\n\n"
      ]
    }
  ],
  "metadata": {
    "kernelspec": {
      "display_name": "Python 3",
      "language": "python",
      "name": "python3"
    },
    "language_info": {
      "codemirror_mode": {
        "name": "ipython",
        "version": 3
      },
      "file_extension": ".py",
      "mimetype": "text/x-python",
      "name": "python",
      "nbconvert_exporter": "python",
      "pygments_lexer": "ipython3",
      "version": "3.10.12"
    }
  },
  "nbformat": 4,
  "nbformat_minor": 0
}