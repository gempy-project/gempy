{
  "cells": [
    {
      "cell_type": "code",
      "execution_count": null,
      "metadata": {
        "collapsed": false
      },
      "outputs": [],
      "source": [
        "%matplotlib inline\nfrom pyvista import set_plot_theme\nset_plot_theme('document')"
      ]
    },
    {
      "cell_type": "markdown",
      "metadata": {},
      "source": [
        "\n# 2.1 Forward Gravity: Simple example\n"
      ]
    },
    {
      "cell_type": "markdown",
      "metadata": {},
      "source": [
        "Importing gempy\n\n"
      ]
    },
    {
      "cell_type": "code",
      "execution_count": null,
      "metadata": {
        "collapsed": false
      },
      "outputs": [],
      "source": [
        "import gempy as gp\nimport gempy_viewer as gpv\n\n# Aux imports\nimport numpy as np\nimport pandas as pd\nimport os\nimport matplotlib.pyplot as plt\n\n\nnp.random.seed(1515)\npd.set_option('display.precision', 2)"
      ]
    },
    {
      "cell_type": "code",
      "execution_count": null,
      "metadata": {
        "collapsed": false
      },
      "outputs": [],
      "source": [
        "data_path = os.path.abspath('../../data/input_data/tut_SandStone')\n\n# Importing the data from csv\n\ngeo_model: gp.data.GeoModel = gp.create_geomodel(\n    project_name='Greenstone',\n    extent=[696000, 747000, 6863000, 6930000, -20000, 200],  # * Here we define the extent of the model\n    refinement=5,  # * Here we define the number of octree levels. If octree levels are defined, the resolution is ignored.\n    importer_helper=gp.data.ImporterHelper(\n        path_to_orientations=data_path + \"/SandStone_Foliations.csv\",\n        path_to_surface_points=data_path + \"/SandStone_Points.csv\",\n        hash_surface_points=None,\n        hash_orientations=None\n    )\n)"
      ]
    },
    {
      "cell_type": "code",
      "execution_count": null,
      "metadata": {
        "collapsed": false
      },
      "outputs": [],
      "source": [
        "gp.map_stack_to_surfaces(\n    gempy_model=geo_model,\n    mapping_object={\n        \"EarlyGranite_Series\": 'EarlyGranite',\n        \"BIF_Series\": ('SimpleMafic2', 'SimpleBIF'),\n        \"SimpleMafic_Series\": 'SimpleMafic1', 'Basement': 'basement'\n    }\n)"
      ]
    },
    {
      "cell_type": "code",
      "execution_count": null,
      "metadata": {
        "collapsed": false
      },
      "outputs": [],
      "source": [
        "gpv.plot_2d(geo_model)"
      ]
    },
    {
      "cell_type": "markdown",
      "metadata": {},
      "source": [
        "## Creating grid\n\n\n"
      ]
    },
    {
      "cell_type": "markdown",
      "metadata": {},
      "source": [
        "First we need to define the location of the devices. For this example we\ncan make a map:\n\n\n"
      ]
    },
    {
      "cell_type": "code",
      "execution_count": null,
      "metadata": {
        "collapsed": false
      },
      "outputs": [],
      "source": [
        "grav_res = 20\nX = np.linspace(7.050000e+05, 747000, grav_res)\nY = np.linspace(6863000, 6925000, grav_res)\nZ = 300\nxyz = np.meshgrid(X, Y, Z)\nxy_ravel = np.vstack(list(map(np.ravel, xyz))).T\nxy_ravel"
      ]
    },
    {
      "cell_type": "markdown",
      "metadata": {},
      "source": [
        "We can see the location of the devices relative to the model data:\n\n\n"
      ]
    },
    {
      "cell_type": "code",
      "execution_count": null,
      "metadata": {
        "collapsed": false
      },
      "outputs": [],
      "source": [
        "gpv.plot_2d(geo_model, direction='z', show=False)\nplt.scatter(xy_ravel[:, 0], xy_ravel[:, 1], s=1)\nplt.show()"
      ]
    },
    {
      "cell_type": "markdown",
      "metadata": {},
      "source": [
        "Now we need to create the grid centered on the devices (see:\nhttps://github.com/cgre-aachen/gempy/blob/master/notebooks/tutorials/ch1-3-Grids.ipynb)\n\n\n"
      ]
    },
    {
      "cell_type": "markdown",
      "metadata": {},
      "source": [
        "geo_model.set_centered_grid(xy_ravel, resolution=[10, 10, 15], radius=5000)\n\n"
      ]
    },
    {
      "cell_type": "code",
      "execution_count": null,
      "metadata": {
        "collapsed": false
      },
      "outputs": [],
      "source": [
        "gp.set_centered_grid(\n    grid=geo_model.grid,\n    centers=xy_ravel,\n    resolution=np.array([10, 10, 15]),\n    radius=np.array([5000, 5000, 5000])\n)"
      ]
    },
    {
      "cell_type": "code",
      "execution_count": null,
      "metadata": {
        "collapsed": false
      },
      "outputs": [],
      "source": [
        "geo_model.grid.centered_grid.kernel_grid_centers"
      ]
    },
    {
      "cell_type": "markdown",
      "metadata": {},
      "source": [
        "Now we need to compute the component tz (see\nhttps://github.com/cgre-achen/gempy/blob/master/notebooks/tutorials/ch2-2-Cell_selection.ipynb)\n\n\n"
      ]
    },
    {
      "cell_type": "code",
      "execution_count": null,
      "metadata": {
        "collapsed": false
      },
      "outputs": [],
      "source": [
        "gravity_gradient = gp.calculate_gravity_gradient(geo_model.grid.centered_grid)\ngravity_gradient"
      ]
    },
    {
      "cell_type": "code",
      "execution_count": null,
      "metadata": {
        "collapsed": false
      },
      "outputs": [],
      "source": [
        "geo_model.geophysics_input = gp.data.GeophysicsInput(\n    tz=gravity_gradient,\n    densities=np.array([2.61, 2.92, 3.1, 2.92, 2.61]),\n)"
      ]
    },
    {
      "cell_type": "markdown",
      "metadata": {},
      "source": [
        "Once we have created a gravity interpolator we can call it from compute\nmodel as follows:\n\n\n"
      ]
    },
    {
      "cell_type": "code",
      "execution_count": null,
      "metadata": {
        "collapsed": false
      },
      "outputs": [],
      "source": [
        "geo_model.interpolation_options.mesh_extraction = False\nsol = gp.compute_model(\n    gempy_model=geo_model,\n    engine_config=gp.data.GemPyEngineConfig(\n        backend=gp.data.AvailableBackends.numpy,\n        dtype='float32'\n    )\n)\n\ngrav = sol.gravity"
      ]
    },
    {
      "cell_type": "code",
      "execution_count": null,
      "metadata": {
        "collapsed": false
      },
      "outputs": [],
      "source": [
        "gpv.plot_2d(geo_model, cell_number=[-1], direction=['z'], show_data=False)"
      ]
    },
    {
      "cell_type": "code",
      "execution_count": null,
      "metadata": {
        "collapsed": false
      },
      "outputs": [],
      "source": [
        "gpv.plot_2d(geo_model, cell_number=['mid'], direction='x')"
      ]
    },
    {
      "cell_type": "code",
      "execution_count": null,
      "metadata": {
        "collapsed": false
      },
      "outputs": [],
      "source": [
        "gpv.plot_2d(geo_model, direction=['z'], height=7, show_results=False, show_data=True, show=False)\nplt.scatter(xy_ravel[:, 0], xy_ravel[:, 1], s=1)\nplt.imshow(sol.gravity.reshape(grav_res, grav_res),\n           extent=(xy_ravel[:, 0].min() + (xy_ravel[0, 0] - xy_ravel[1, 0]) / 2,\n                   xy_ravel[:, 0].max() - (xy_ravel[0, 0] - xy_ravel[1, 0]) / 2,\n                   xy_ravel[:, 1].min() + (xy_ravel[0, 1] - xy_ravel[30, 1]) / 2,\n                   xy_ravel[:, 1].max() - (xy_ravel[0, 1] - xy_ravel[30, 1]) / 2),\n           cmap='viridis_r', origin='lower')\nplt.show()"
      ]
    },
    {
      "cell_type": "markdown",
      "metadata": {},
      "source": [
        "# Plotting lithologies\n\nIf we want to compute the lithologies we will need to create a normal\ninterpolator object as seen in the Chapter 1 of the tutorials\n\n\n"
      ]
    },
    {
      "cell_type": "markdown",
      "metadata": {},
      "source": [
        "Now we can plot all together (change the alpha parameter to see the\ngravity overlying):\n\n\n"
      ]
    },
    {
      "cell_type": "code",
      "execution_count": null,
      "metadata": {
        "collapsed": false
      },
      "outputs": [],
      "source": [
        "gpv.plot_2d(geo_model, cell_number=[-1], direction=['z'], show=False,\n            kwargs_regular_grid={'alpha': .5})\n\nplt.scatter(xy_ravel[:, 0], xy_ravel[:, 1], s=1)\nplt.imshow(grav.reshape(grav_res, grav_res),\n           extent=(xy_ravel[:, 0].min() + (xy_ravel[0, 0] - xy_ravel[1, 0]) / 2,\n                   xy_ravel[:, 0].max() - (xy_ravel[0, 0] - xy_ravel[1, 0]) / 2,\n                   xy_ravel[:, 1].min() + (xy_ravel[0, 1] - xy_ravel[30, 1]) / 2,\n                   xy_ravel[:, 1].max() - (xy_ravel[0, 1] - xy_ravel[30, 1]) / 2),\n           cmap='viridis_r', origin='lower', alpha=.8)\ncbar = plt.colorbar()\ncbar.set_label(r'$\\mu$gal')\nplt.show()\n\n# sphinx_gallery_thumbnail_number = -2"
      ]
    }
  ],
  "metadata": {
    "kernelspec": {
      "display_name": "Python 3",
      "language": "python",
      "name": "python3"
    },
    "language_info": {
      "codemirror_mode": {
        "name": "ipython",
        "version": 3
      },
      "file_extension": ".py",
      "mimetype": "text/x-python",
      "name": "python",
      "nbconvert_exporter": "python",
      "pygments_lexer": "ipython3",
      "version": "3.10.12"
    }
  },
  "nbformat": 4,
  "nbformat_minor": 0
}