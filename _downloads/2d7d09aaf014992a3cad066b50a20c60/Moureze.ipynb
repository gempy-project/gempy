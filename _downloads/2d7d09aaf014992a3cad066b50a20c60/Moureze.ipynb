{
  "cells": [
    {
      "cell_type": "code",
      "execution_count": null,
      "metadata": {
        "collapsed": false
      },
      "outputs": [],
      "source": [
        "%matplotlib inline\nfrom pyvista import set_plot_theme\nset_plot_theme('document')"
      ]
    },
    {
      "cell_type": "markdown",
      "metadata": {},
      "source": [
        "\n# Geomodeling benchmark: the \"Moureze\"-Model\n\nThis model is part of a geomodeling benchmaring effort. More information (and, hopefully, publication) coming.\n"
      ]
    },
    {
      "cell_type": "code",
      "execution_count": null,
      "metadata": {
        "collapsed": false
      },
      "outputs": [],
      "source": [
        "import os"
      ]
    },
    {
      "cell_type": "markdown",
      "metadata": {},
      "source": [
        "These two lines are necessary only if gempy is not installed\n\n"
      ]
    },
    {
      "cell_type": "code",
      "execution_count": null,
      "metadata": {
        "collapsed": false
      },
      "outputs": [],
      "source": [
        "# Importing gempy\nimport gempy as gp\nimport gempy_viewer as gpv\n\n# Aux imports\nimport numpy as np\nimport pandas as pd\n\nfrom gempy_engine.config import AvailableBackends"
      ]
    },
    {
      "cell_type": "markdown",
      "metadata": {},
      "source": [
        "## Loading surface points from repository:\n\nWith pandas we can do it directly from the web and with the right args\nwe can directly tidy the data in gempy style:\n\n\n"
      ]
    },
    {
      "cell_type": "code",
      "execution_count": null,
      "metadata": {
        "collapsed": false
      },
      "outputs": [],
      "source": [
        "data_path = os.path.abspath('../../data/input_data/Moureze')\nMoureze_points = pd.read_csv(\n    filepath_or_buffer=data_path + '/Moureze_Points.csv',\n    sep=';',\n    names=['X', 'Y', 'Z', 'G_x', 'G_y', 'G_z', '_'],\n    header=0,\n)\n\nSections_EW = pd.read_csv(\n    filepath_or_buffer=data_path + '/Sections_EW.csv',\n    sep=';',\n    names=['X', 'Y', 'Z', 'ID', '_'], header=1\n).dropna()\n\nSections_NS = pd.read_csv(\n    filepath_or_buffer=data_path + '/Sections_NS.csv',\n    sep=';',\n    names=['X', 'Y', 'Z', 'ID', '_'], header=1\n).dropna()"
      ]
    },
    {
      "cell_type": "markdown",
      "metadata": {},
      "source": [
        "Extracting the orientatins:\n\n\n"
      ]
    },
    {
      "cell_type": "code",
      "execution_count": null,
      "metadata": {
        "collapsed": false
      },
      "outputs": [],
      "source": [
        "mask_surfpoints = Moureze_points['G_x'] < -9999\nsurface_points = Moureze_points[mask_surfpoints][::10]\norientations = Moureze_points[~mask_surfpoints][::10]"
      ]
    },
    {
      "cell_type": "markdown",
      "metadata": {},
      "source": [
        "Giving an arbitrary value name to the surface\n\n\n"
      ]
    },
    {
      "cell_type": "code",
      "execution_count": null,
      "metadata": {
        "collapsed": false
      },
      "outputs": [],
      "source": [
        "surface_points['surface'] = '0'\norientations['surface'] = '0'"
      ]
    },
    {
      "cell_type": "code",
      "execution_count": null,
      "metadata": {
        "collapsed": false
      },
      "outputs": [],
      "source": [
        "surface_points.tail()"
      ]
    },
    {
      "cell_type": "code",
      "execution_count": null,
      "metadata": {
        "collapsed": false
      },
      "outputs": [],
      "source": [
        "orientations.tail()"
      ]
    },
    {
      "cell_type": "markdown",
      "metadata": {},
      "source": [
        "## Data initialization:\n\nSuggested size of the axis-aligned modeling box:\n\nOrigin: -5 -5 -200\n\nMaximum: 305 405 -50\n\nSuggested resolution: 2m (grid size 156 x 206 x 76)\n\n\n"
      ]
    },
    {
      "cell_type": "markdown",
      "metadata": {},
      "source": [
        "## Only using one orientation because otherwhise it gets a mess\n\n\n"
      ]
    },
    {
      "cell_type": "markdown",
      "metadata": {},
      "source": [
        "Number voxels\n\n"
      ]
    },
    {
      "cell_type": "code",
      "execution_count": null,
      "metadata": {
        "collapsed": false
      },
      "outputs": [],
      "source": [
        "np.array([156, 206, 76]).prod()"
      ]
    },
    {
      "cell_type": "code",
      "execution_count": null,
      "metadata": {
        "collapsed": false
      },
      "outputs": [],
      "source": [
        "resolution_requ = [156, 206, 76]\nresolution = [77, 103, 38]\nresolution_low = [45, 51, 38]\n\n\nsurface_points_table: gp.data.SurfacePointsTable = gp.data.SurfacePointsTable.from_arrays(\n    x=surface_points['X'].values,\n    y=surface_points['Y'].values,\n    z=surface_points['Z'].values,\n    names=surface_points['surface'].values.astype(str)\n)\n\norientations_table: gp.data.OrientationsTable = gp.data.OrientationsTable.from_arrays(\n    x=orientations['X'].values,\n    y=orientations['Y'].values,\n    z=orientations['Z'].values,\n    G_x=orientations['G_x'].values,\n    G_y=orientations['G_y'].values,\n    G_z=orientations['G_z'].values,\n    names=orientations['surface'].values.astype(str),\n    name_id_map=surface_points_table.name_id_map  # ! Make sure that ids and names are shared\n)\n\nstructural_frame: gp.data.StructuralFrame = gp.data.StructuralFrame.from_data_tables(\n    surface_points=surface_points_table,\n    orientations=orientations_table\n)\n\ngeo_model: gp.data.GeoModel = gp.create_geomodel(\n    project_name='Moureze',\n    extent=[-5, 305, -5, 405, -200, -50],\n    # resolution=resolution_low,\n    refinement=5,\n    structural_frame=structural_frame\n)"
      ]
    },
    {
      "cell_type": "markdown",
      "metadata": {},
      "source": [
        "Now we can see how the data looks so far:\n\n\n"
      ]
    },
    {
      "cell_type": "code",
      "execution_count": null,
      "metadata": {
        "collapsed": false
      },
      "outputs": [],
      "source": [
        "gpv.plot_2d(geo_model, direction='y')"
      ]
    },
    {
      "cell_type": "markdown",
      "metadata": {},
      "source": [
        "The default range is always the diagonal of the extent. Since in this\nmodel data is very close we will need to reduce the range to 5-10% of\nthat value:\n\n\n"
      ]
    },
    {
      "cell_type": "code",
      "execution_count": null,
      "metadata": {
        "collapsed": false
      },
      "outputs": [],
      "source": [
        "geo_model.interpolation_options.kernel_options.range *= 0.2\ngeo_model.interpolation_options.evaluation_options.verbose = True\ngeo_model.interpolation_options.evaluation_options.octree_error_threshold = 1.5\ngeo_model.interpolation_options.evaluation_options.number_octree_levels_surface = 5"
      ]
    },
    {
      "cell_type": "code",
      "execution_count": null,
      "metadata": {
        "collapsed": false
      },
      "outputs": [],
      "source": [
        "gp.compute_model(\n    gempy_model=geo_model,\n    engine_config=gp.data.GemPyEngineConfig(\n        use_gpu=False, \n        dtype='float32',\n        backend=AvailableBackends.PYTORCH\n    )\n)"
      ]
    },
    {
      "cell_type": "markdown",
      "metadata": {},
      "source": [
        "## Time\n\n### 300k voxels 3.5k points\n\n-  Nvidia 2080: 500 ms \u00b1 1.3 ms per loop (mean \u00b1 std. dev. of 7 runs, 1\n   loop each), Memory 1 Gb\n-  CPU 14.2 s \u00b1 82.4 ms per loop (mean \u00b1 std. dev. of 7 runs, 1 loop\n   each), Memory: 1.3 Gb\n\n### 2.4 M voxels, 3.5k points\n\n-  CPU 2min 33s \u00b1 216 ms per loop (mean \u00b1 std. dev. of 7 runs, 1 loop\n   each) Memory: 1.3 GB\n-  Nvidia 2080: 1.92 s \u00b1 6.74 ms per loop (mean \u00b1 std. dev. of 7 runs, 1\n   loop each) 1 Gb\n\n### 2.4 M voxels, 3.5k points 3.5 k orientations\n\n-  Nvidia 2080: 2.53 s \u00b1 1.31 ms per loop (mean \u00b1 std. dev. of 7 runs, 1\n   loop each)\n\n\n"
      ]
    },
    {
      "cell_type": "code",
      "execution_count": null,
      "metadata": {
        "collapsed": false
      },
      "outputs": [],
      "source": [
        "gpv.plot_2d(geo_model, cell_number='mid', series_n=0, show_scalar=True)"
      ]
    },
    {
      "cell_type": "code",
      "execution_count": null,
      "metadata": {
        "collapsed": false
      },
      "outputs": [],
      "source": [
        "gpv.plot_2d(geo_model, cell_number='mid', show_data=True, direction='y')"
      ]
    },
    {
      "cell_type": "markdown",
      "metadata": {},
      "source": [
        "sphinx_gallery_thumbnail_number = 4\n\n"
      ]
    },
    {
      "cell_type": "code",
      "execution_count": null,
      "metadata": {
        "collapsed": false
      },
      "outputs": [],
      "source": [
        "gpv.plot_3d(geo_model)"
      ]
    }
  ],
  "metadata": {
    "kernelspec": {
      "display_name": "Python 3",
      "language": "python",
      "name": "python3"
    },
    "language_info": {
      "codemirror_mode": {
        "name": "ipython",
        "version": 3
      },
      "file_extension": ".py",
      "mimetype": "text/x-python",
      "name": "python",
      "nbconvert_exporter": "python",
      "pygments_lexer": "ipython3",
      "version": "3.10.12"
    }
  },
  "nbformat": 4,
  "nbformat_minor": 0
}