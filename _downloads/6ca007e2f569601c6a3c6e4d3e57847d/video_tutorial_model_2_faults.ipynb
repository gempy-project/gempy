{
  "cells": [
    {
      "cell_type": "code",
      "execution_count": null,
      "metadata": {
        "collapsed": false
      },
      "outputs": [],
      "source": [
        "%matplotlib inline\nfrom pyvista import set_plot_theme\nset_plot_theme('document')"
      ]
    },
    {
      "cell_type": "markdown",
      "metadata": {},
      "source": [
        "\n# Video Tutorial \"code-along\": Faults\n"
      ]
    },
    {
      "cell_type": "markdown",
      "metadata": {},
      "source": [
        "This tutorial demonstrates step-by-step how to add faults to our geological models created with `gempy`.\nIt follows the Video tutorial series available on the [gempy YouTube channel](https://www.youtube.com/@GemPy3D).\nPlease follow the first part of the tutorial to learn the basics of modeling with gempy before diving into this tutorial.\n\n"
      ]
    },
    {
      "cell_type": "markdown",
      "metadata": {},
      "source": [
        "## Video tutorial faults: Introduction\n\nThe first video introduces the concept of modeling faults with GemPy - please view online before starting the tutorial.\n\n\n\n"
      ]
    },
    {
      "cell_type": "markdown",
      "metadata": {},
      "source": [
        ".. raw:: html\n\n    <iframe width=\"560\" height=\"315\" \n            src=\"https://www.youtube.com/embed/LAaL_2feAiA?si=wyMorsZLts7hXB2S\" \n            title=\"YouTube video player\" \n            frameborder=\"0\" \n            allow=\"accelerometer; autoplay; clipboard-write; encrypted-media; gyroscope; picture-in-picture\" \n            allowfullscreen>\n    </iframe>\n\n\n\n"
      ]
    },
    {
      "cell_type": "code",
      "execution_count": null,
      "metadata": {
        "collapsed": false
      },
      "outputs": [],
      "source": [
        "# Required imports\nimport gempy as gp\nimport gempy_viewer as gpv\nimport numpy as np"
      ]
    },
    {
      "cell_type": "code",
      "execution_count": null,
      "metadata": {
        "collapsed": false
      },
      "outputs": [],
      "source": [
        "# Path to input data\ndata_path = \"https://raw.githubusercontent.com/cgre-aachen/gempy_data/master/\"\npath_to_data = data_path + \"/data/input_data/video_tutorials_v3/\""
      ]
    },
    {
      "cell_type": "code",
      "execution_count": null,
      "metadata": {
        "collapsed": false
      },
      "outputs": [],
      "source": [
        "# Create instance of geomodel\ngeo_model = gp.create_geomodel(\n    project_name = 'tutorial_model_faults',\n    extent=[0,3000,0,1000,0,1000],\n    resolution=[90,30,30],\n    importer_helper=gp.data.ImporterHelper(\n        path_to_orientations=path_to_data + \"tutorial_model_faults_1_orientations.csv\",\n        path_to_surface_points=path_to_data + \"tutorial_model_faults_1_surface_points.csv\"\n    )\n)"
      ]
    },
    {
      "cell_type": "code",
      "execution_count": null,
      "metadata": {
        "collapsed": false
      },
      "outputs": [],
      "source": [
        "# Display a basic cross section of input data\ngpv.plot_2d(geo_model);"
      ]
    },
    {
      "cell_type": "code",
      "execution_count": null,
      "metadata": {
        "collapsed": false
      },
      "outputs": [],
      "source": [
        "# Map geological series to surfaces\ngp.map_stack_to_surfaces(\n    gempy_model=geo_model,\n    mapping_object={\n        \"Fault_Series1\" : ('fault'),\n        \"Strat_Series1\": ('rock3'),\n        \"Strat_Series2\": ('rock2', 'rock1'),\n    }\n)"
      ]
    },
    {
      "cell_type": "code",
      "execution_count": null,
      "metadata": {
        "collapsed": false
      },
      "outputs": [],
      "source": [
        "# Define youngest structural group as fault\ngp.set_is_fault(geo_model, [\"Fault_Series1\"])"
      ]
    },
    {
      "cell_type": "code",
      "execution_count": null,
      "metadata": {
        "collapsed": false
      },
      "outputs": [],
      "source": [
        "# Compute a solution for the model\ngp.compute_model(geo_model)"
      ]
    },
    {
      "cell_type": "code",
      "execution_count": null,
      "metadata": {
        "collapsed": false
      },
      "outputs": [],
      "source": [
        "# Display the result in 2d section\ngpv.plot_2d(geo_model, cell_number=20)\n# gpv.plot_3d(geo_model)"
      ]
    },
    {
      "cell_type": "code",
      "execution_count": null,
      "metadata": {
        "collapsed": false
      },
      "outputs": [],
      "source": [
        "# Display the scalar field of the fault in 2d section\ngpv.plot_2d(geo_model, show_scalar=True, show_lith=False, series_n=0)\ngpv.plot_2d(geo_model, show_scalar=True, show_lith=False, series_n=1)\ngpv.plot_2d(geo_model, show_scalar=True, show_lith=False, series_n=2)"
      ]
    },
    {
      "cell_type": "markdown",
      "metadata": {},
      "source": [
        "## Video tutorial 9: Fault relations\n\n"
      ]
    },
    {
      "cell_type": "markdown",
      "metadata": {},
      "source": [
        ".. raw:: html\n\n    <iframe width=\"560\" height=\"315\" \n            src=\"https://www.youtube.com/embed/AKpEefP9Ff0?si=7Jeiz5pfHQhXH4jF\" \n            title=\"YouTube video player\" \n            frameborder=\"0\" \n            allow=\"accelerometer; autoplay; clipboard-write; encrypted-media; gyroscope; picture-in-picture\" \n            allowfullscreen>\n    </iframe>\n\n\n\n"
      ]
    },
    {
      "cell_type": "code",
      "execution_count": null,
      "metadata": {
        "collapsed": false
      },
      "outputs": [],
      "source": [
        "# ***Warning***: In the following section we will make several changes to the existing model. This includes adding new elements, groups, surface points and orientation and reordering the structural frame. Executing these cells more than once can lead to errors as things will be added twice."
      ]
    },
    {
      "cell_type": "code",
      "execution_count": null,
      "metadata": {
        "collapsed": false
      },
      "outputs": [],
      "source": [
        "# Creating a new strucutral element with surface point and orientation data\nnew_element = gp.data.StructuralElement(\n    name='fault0',\n    color=next(geo_model.structural_frame.color_generator),\n    surface_points=gp.data.SurfacePointsTable.from_arrays(\n        x=np.array([2750, 2750, 2750]),\n        y=np.array([0, 500, 1000]),\n        z=np.array([400, 400, 400]),\n        names=['fault0']*3\n    ),\n    orientations=gp.data.OrientationsTable.from_arrays(\n        x=np.array([2750]),\n        y=np.array([500]),\n        z=np.array([400]),\n        G_x=np.array([0.8]),\n        G_y=np.array([0]),\n        G_z=np.array([0.6]),\n        names=['fault0']\n        )\n)\n\n# Creating a new structural group that contains the new element\ngroup_fault0 = gp.data.StructuralGroup(\n    name='Fault_Series0',\n    elements=[new_element],\n    structural_relation=gp.data.StackRelationType.ERODE,\n)\n\n# Insert the fault group into the structural frame at first position (index 0)\ngeo_model.structural_frame.insert_group(index=0, group=group_fault0);"
      ]
    },
    {
      "cell_type": "code",
      "execution_count": null,
      "metadata": {
        "collapsed": false
      },
      "outputs": [],
      "source": [
        "# Define youngest structural group as fault\ngp.set_is_fault(geo_model, [\"Fault_Series0\"])"
      ]
    },
    {
      "cell_type": "code",
      "execution_count": null,
      "metadata": {
        "collapsed": false
      },
      "outputs": [],
      "source": [
        "# Add additional information for exisitng elements on other side of fault\ngp.add_surface_points(\n    geo_model=geo_model,\n    x=[2950, 2950, 2950],\n    y=[0, 500, 1000],\n    z=[500, 500, 500],\n    elements_names=['rock2']*3\n);\n\ngp.add_surface_points(\n    geo_model=geo_model,\n    x=[2950, 2950, 2950],\n    y=[0, 500, 1000],\n    z=[350, 350, 350],\n    elements_names=['rock1']*3\n);\n\ngp.add_surface_points(\n    geo_model=geo_model,\n    x=[2950, 2950, 2950],\n    y=[0, 500, 1000],\n    z=[550, 500, 500],\n    elements_names=['rock3']*3\n);"
      ]
    },
    {
      "cell_type": "code",
      "execution_count": null,
      "metadata": {
        "collapsed": false
      },
      "outputs": [],
      "source": [
        "# Display input data with the new fault and the additional input data for the other elements\ngpv.plot_2d(geo_model, show_data=True, show_boundaries=False, show_lith=False)"
      ]
    },
    {
      "cell_type": "code",
      "execution_count": null,
      "metadata": {
        "collapsed": false
      },
      "outputs": [],
      "source": [
        "# Recompute the model with the new information\ngp.compute_model(geo_model)"
      ]
    },
    {
      "cell_type": "code",
      "execution_count": null,
      "metadata": {
        "collapsed": false
      },
      "outputs": [],
      "source": [
        "# Display the new result\ngpv.plot_2d(geo_model)"
      ]
    },
    {
      "cell_type": "code",
      "execution_count": null,
      "metadata": {
        "collapsed": false
      },
      "outputs": [],
      "source": [
        "# Switching the order by adding a new group containing rock3 on top\ngp.add_structural_group(\n    model=geo_model,\n    group_index=0,\n    structural_group_name=\"Strat_Series0\",\n    elements=[\n        geo_model.structural_frame.get_element_by_name(\"rock3\")\n    ],\n    structural_relation=gp.data.StackRelationType.ERODE\n)\n\n# Removing the old group that contained rock3\ngp.remove_structural_group_by_name(geo_model, group_name=\"Strat_Series1\")"
      ]
    },
    {
      "cell_type": "code",
      "execution_count": null,
      "metadata": {
        "collapsed": false
      },
      "outputs": [],
      "source": [
        "# Recompute the model with new order\ngp.compute_model(geo_model)"
      ]
    },
    {
      "cell_type": "code",
      "execution_count": null,
      "metadata": {
        "collapsed": false
      },
      "outputs": [],
      "source": [
        "# Display the new result\ngpv.plot_2d(geo_model)"
      ]
    },
    {
      "cell_type": "code",
      "execution_count": null,
      "metadata": {
        "collapsed": false
      },
      "outputs": [],
      "source": [
        "# Set fault relations manually\ngp.set_fault_relation(\n    frame=geo_model.structural_frame,\n    rel_matrix=np.array([\n        [0, 0, 0, 0],\n        [0, 0, 0, 0],\n        [0, 0, 0, 1],\n        [0, 0, 0, 0]\n    ]\n    )\n)"
      ]
    },
    {
      "cell_type": "code",
      "execution_count": null,
      "metadata": {
        "collapsed": false
      },
      "outputs": [],
      "source": [
        "# Recompute model\ngp.compute_model(geo_model)"
      ]
    },
    {
      "cell_type": "code",
      "execution_count": null,
      "metadata": {
        "collapsed": false
      },
      "outputs": [],
      "source": [
        "# Display result\ngpv.plot_2d(geo_model)"
      ]
    },
    {
      "cell_type": "markdown",
      "metadata": {},
      "source": [
        "## Video tutorial 10: Fault groups and cross-cutting faults\n\n"
      ]
    },
    {
      "cell_type": "markdown",
      "metadata": {},
      "source": [
        ".. raw:: html\n\n    <iframe width=\"560\" height=\"315\" \n            src=\"https://www.youtube.com/embed/PuxoH5EKUrQ?si=P8OhnXEUS8ZWVrGp\" \n            title=\"YouTube video player\" \n            frameborder=\"0\" \n            allow=\"accelerometer; autoplay; clipboard-write; encrypted-media; gyroscope; picture-in-picture\" \n            allowfullscreen>\n    </iframe>\n\n\n\n"
      ]
    },
    {
      "cell_type": "code",
      "execution_count": null,
      "metadata": {
        "collapsed": false
      },
      "outputs": [],
      "source": [
        "# Create instance of new geomodel\ngeo_model_cross = gp.create_geomodel(\n    project_name = 'tutorial_model_faults_2',\n    extent=[0,1000,0,500,0,1000],\n    resolution=[50,25,50],\n    importer_helper=gp.data.ImporterHelper(\n        path_to_orientations=path_to_data + \"tutorial_model_faults_2_orientations.csv\",\n        path_to_surface_points=path_to_data + \"tutorial_model_faults_2_surface_points.csv\"\n    )\n)"
      ]
    },
    {
      "cell_type": "code",
      "execution_count": null,
      "metadata": {
        "collapsed": false
      },
      "outputs": [],
      "source": [
        "# Map geological series to surfaces\ngp.map_stack_to_surfaces(\n    gempy_model=geo_model_cross,\n    mapping_object={\n        \"Fault_Series2\" : ('fault3', 'fault2'),\n        \"Fault_Series1\" : ('fault1'),\n        \"Strat_Series\": ('rock3', 'rock2', 'rock1'),\n    }\n)\n\n# Define youngest structural group as fault\ngp.set_is_fault(geo_model_cross, [\"Fault_Series1\", \"Fault_Series2\"])\n\n# Change color of basement for better visibility\ngeo_model_cross.structural_frame.basement_color=\"#F7B529\" \ngeo_model_cross.structural_frame.structural_elements[0].color = '#000000'\ngeo_model_cross.structural_frame.structural_elements[1].color = '#36454F'\ngeo_model_cross.structural_frame.structural_elements[2].color = '#D3D3D3'"
      ]
    },
    {
      "cell_type": "code",
      "execution_count": null,
      "metadata": {
        "collapsed": false
      },
      "outputs": [],
      "source": [
        "geo_model_cross.structural_frame"
      ]
    },
    {
      "cell_type": "code",
      "execution_count": null,
      "metadata": {
        "collapsed": false
      },
      "outputs": [],
      "source": [
        "# Set fault relations manually\ngp.set_fault_relation(\n    frame=geo_model_cross.structural_frame,\n    rel_matrix=np.array([\n        [0, 1, 1],\n        [0, 0, 1],\n        [0, 0, 0],\n    ]\n    )\n)"
      ]
    },
    {
      "cell_type": "code",
      "execution_count": null,
      "metadata": {
        "collapsed": false
      },
      "outputs": [],
      "source": [
        "# Display input data on cross section\ngpv.plot_2d(geo_model_cross)"
      ]
    },
    {
      "cell_type": "code",
      "execution_count": null,
      "metadata": {
        "collapsed": false
      },
      "outputs": [],
      "source": [
        "# Compute model\ngp.compute_model(geo_model_cross)"
      ]
    },
    {
      "cell_type": "code",
      "execution_count": null,
      "metadata": {
        "collapsed": false
      },
      "outputs": [],
      "source": [
        "# Display reusult on cross section\ngpv.plot_2d(geo_model_cross)\n\n\n# sphinx_gallery_thumbnail_number = -1"
      ]
    }
  ],
  "metadata": {
    "kernelspec": {
      "display_name": "Python 3",
      "language": "python",
      "name": "python3"
    },
    "language_info": {
      "codemirror_mode": {
        "name": "ipython",
        "version": 3
      },
      "file_extension": ".py",
      "mimetype": "text/x-python",
      "name": "python",
      "nbconvert_exporter": "python",
      "pygments_lexer": "ipython3",
      "version": "3.10.12"
    }
  },
  "nbformat": 4,
  "nbformat_minor": 0
}