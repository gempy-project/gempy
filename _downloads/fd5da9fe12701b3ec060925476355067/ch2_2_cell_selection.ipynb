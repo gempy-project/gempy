{
  "cells": [
    {
      "cell_type": "code",
      "execution_count": null,
      "metadata": {
        "collapsed": false
      },
      "outputs": [],
      "source": [
        "%matplotlib inline\nfrom pyvista import set_plot_theme\nset_plot_theme('document')"
      ]
    },
    {
      "cell_type": "markdown",
      "metadata": {},
      "source": [
        "\n# 2.2: Centered Grid.\n"
      ]
    },
    {
      "cell_type": "markdown",
      "metadata": {},
      "source": [
        "## Concept of a measurement-centered grid\n\nGeophysics Preprocessing builds on the centered grid\n(https://github.com/cgre-aachen/gempy/blob/master/notebooks/tutorials/ch1-3-Grids.ipynb)\nto precompute the constant part of forward physical computations as for\nexample gravity:\n\n"
      ]
    },
    {
      "cell_type": "code",
      "execution_count": null,
      "metadata": {
        "collapsed": false
      },
      "outputs": [],
      "source": [
        "# .. math::\n\n#     F_z = G_{\\\\rho} ||| x \\\\ln(y+r) + y \\\\ln (x+r) - z \\\\arctan (\\\\frac{x y}{z r}) |^{x_2}_{x_1}|^{y_2}_{y_1}|^{\n#     z_2}_{z_1}\n\n\n# where we can compress the grid dependent terms as\n\n# .. math::\n\n#     t_z = ||| x \\ln (y+r) + y \\ln (x+r)-z \\\\arctan ( \\\\frac{x y}{z r} ) |^{x_2}_{x_1}|^{y_2}_{y_1}|^{z_2}_{z_1}\n\n# By doing this decomposition an keeping the grid constant we can compute\n# the forward gravity by simply operate:\n\n# .. math::\n\n#     F_z = G_{\\\\rho} \\cdot t_z"
      ]
    },
    {
      "cell_type": "code",
      "execution_count": null,
      "metadata": {
        "collapsed": false
      },
      "outputs": [],
      "source": [
        "# Importing gempy\nimport gempy as gp\n\n# Aux imports\nimport numpy as np\nimport pandas as pd\nimport matplotlib.pyplot as plt\n\nnp.random.seed(1515)\npd.set_option('display.precision', 2)"
      ]
    },
    {
      "cell_type": "code",
      "execution_count": null,
      "metadata": {
        "collapsed": false
      },
      "outputs": [],
      "source": [
        "from gempy_engine.core.data.centered_grid import CenteredGrid\ncentered_grid = CenteredGrid(\n    centers=np.array([0,0,0]),\n    resolution=[10, 10, 20],\n    radius=100\n)"
      ]
    },
    {
      "cell_type": "markdown",
      "metadata": {},
      "source": [
        "``create_irregular_grid_kernel`` will create a constant kernel around\nthe point 0,0,0. This kernel will be what we use for each device.\n\n\n"
      ]
    },
    {
      "cell_type": "code",
      "execution_count": null,
      "metadata": {
        "collapsed": false
      },
      "outputs": [],
      "source": [
        "centered_grid.kernel_grid_centers"
      ]
    },
    {
      "cell_type": "markdown",
      "metadata": {},
      "source": [
        "$t_z$ is only dependent on distance and therefore we can use the\nkerenel created on the previous cell\n\n\n"
      ]
    },
    {
      "cell_type": "code",
      "execution_count": null,
      "metadata": {
        "collapsed": false
      },
      "outputs": [],
      "source": [
        "gravity_gradient = gp.calculate_gravity_gradient(centered_grid)\ngravity_gradient"
      ]
    },
    {
      "cell_type": "markdown",
      "metadata": {},
      "source": [
        "To compute tz we also need the edges of each voxel. The distance to the\nedges are stored on ``kernel_dxyz_left`` and ``kernel_dxyz_right``. We\ncan plot all the data as follows:\n\n\n"
      ]
    },
    {
      "cell_type": "code",
      "execution_count": null,
      "metadata": {
        "collapsed": false
      },
      "outputs": [],
      "source": [
        "a, b, c = centered_grid.kernel_grid_centers, centered_grid.left_voxel_edges, centered_grid.right_voxel_edges\ntz = gravity_gradient"
      ]
    },
    {
      "cell_type": "code",
      "execution_count": null,
      "metadata": {
        "collapsed": false
      },
      "outputs": [],
      "source": [
        "fig = plt.figure(figsize=(13, 7))\nplt.quiver(a[:, 0].reshape(11, 11, 21)[5, :, :].ravel(),\n           a[:, 2].reshape(11, 11, 21)[:, 5, :].ravel(),\n           np.zeros(231),\n           tz.reshape(11, 11, 21)[5, :, :].ravel(), label='$t_z$', alpha=.3\n           )\n\nplt.plot(a[:, 0].reshape(11, 11, 21)[5, :, :].ravel(),\n         a[:, 2].reshape(11, 11, 21)[:, 5, :].ravel(), 'o', alpha=.3, label='Centers')\n\nplt.plot(a[:, 0].reshape(11, 11, 21)[5, :, :].ravel() - b[:, 0].reshape(11, 11, 21)[5, :, :].ravel(),\n         a[:, 2].reshape(11, 11, 21)[:, 5, :].ravel(), '.', alpha=.3, label='Lefts')\n\nplt.plot(a[:, 0].reshape(11, 11, 21)[5, :, :].ravel(),\n         a[:, 2].reshape(11, 11, 21)[:, 5, :].ravel() - b[:, 2].reshape(11, 11, 21)[:, 5, :].ravel(), '.', alpha=.6,\n         label='Ups')\n\nplt.plot(a[:, 0].reshape(11, 11, 21)[5, :, :].ravel() + c[:, 0].reshape(11, 11, 21)[5, :, :].ravel(),\n         a[:, 2].reshape(11, 11, 21)[:, 5, :].ravel(), '.', alpha=.3, label='Rights')\n\nplt.plot(a[:, 0].reshape(11, 11, 21)[5, :, :].ravel(),\n         a[:, 2].reshape(11, 11, 21)[:, 5, :].ravel() + c[:, 2].reshape(11, 11, 21)[5, :, :].ravel(), '.', alpha=.3,\n         label='Downs')\n\nplt.xlim(-200, 200)\nplt.ylim(-200, 0)\nplt.legend()\nplt.show()"
      ]
    },
    {
      "cell_type": "markdown",
      "metadata": {},
      "source": [
        "Just the quiver:\n\n\n"
      ]
    },
    {
      "cell_type": "code",
      "execution_count": null,
      "metadata": {
        "collapsed": false
      },
      "outputs": [],
      "source": [
        "fig = plt.figure(figsize=(13, 7))\nplt.quiver(a[:, 0].reshape(11, 11, 21)[5, :, :].ravel(),\n           a[:, 2].reshape(11, 11, 21)[:, 5, :].ravel(),\n           np.zeros(231),\n           tz.reshape(11, 11, 21)[5, :, :].ravel()\n           )\nplt.show()"
      ]
    },
    {
      "cell_type": "markdown",
      "metadata": {},
      "source": [
        "Remember this is happening always in 3D:\n\n\n"
      ]
    },
    {
      "cell_type": "code",
      "execution_count": null,
      "metadata": {
        "collapsed": false
      },
      "outputs": [],
      "source": [
        "fig = plt.figure()\nax = fig.add_subplot(111, projection='3d')\n\nax.scatter(a[:, 0], a[:, 1], a[:, 2], c=tz)\n\nax.set_xlabel('X Label')\nax.set_ylabel('Y Label')\nax.set_zlabel('Z Label')\nplt.show()"
      ]
    }
  ],
  "metadata": {
    "kernelspec": {
      "display_name": "Python 3",
      "language": "python",
      "name": "python3"
    },
    "language_info": {
      "codemirror_mode": {
        "name": "ipython",
        "version": 3
      },
      "file_extension": ".py",
      "mimetype": "text/x-python",
      "name": "python",
      "nbconvert_exporter": "python",
      "pygments_lexer": "ipython3",
      "version": "3.10.12"
    }
  },
  "nbformat": 4,
  "nbformat_minor": 0
}