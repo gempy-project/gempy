{
  "cells": [
    {
      "cell_type": "code",
      "execution_count": null,
      "metadata": {
        "collapsed": false
      },
      "outputs": [],
      "source": [
        "%matplotlib inline\nfrom pyvista import set_plot_theme\nset_plot_theme('document')"
      ]
    },
    {
      "cell_type": "markdown",
      "metadata": {},
      "source": [
        "\n# Model 1 - Horizontal Stratigraphy\n\nThis example demonstrates how to build a basic geological model with horizontally stacked layers using GemPy,\nan open-source Python library for implicit geological modeling. In this script, we will:\n\n- Set up and compute a simple geological model using input data (orientations and surface points).\n- Visualize the model in 2D and 3D.\n- Export model components (formations, orientations, surface points, and the regular grid) to VTK files.\n- Extract mesh vertices and normals, save them to Excel files, and convert the vertex data to an XYZ file.\n\nEach section includes detailed comments to explain its purpose and functionality.\n"
      ]
    },
    {
      "cell_type": "markdown",
      "metadata": {},
      "source": [
        "Import necessary libraries\n\n"
      ]
    },
    {
      "cell_type": "code",
      "execution_count": null,
      "metadata": {
        "collapsed": false
      },
      "outputs": [],
      "source": [
        "import gempy as gp\nimport gempy_viewer as gpv\nimport pyvista as pv\nimport vtk\nimport pandas as pd\n\n# sphinx_gallery_thumbnail_number = 2"
      ]
    },
    {
      "cell_type": "markdown",
      "metadata": {},
      "source": [
        "## Generate the Geological Model\nIn this section, we define the data source and create a GeoModel instance.\nThe model is defined with a specific spatial extent and resolution (refinement).\nInput data (orientations and surface points) are loaded from a remote repository.\n\n"
      ]
    },
    {
      "cell_type": "code",
      "execution_count": null,
      "metadata": {
        "collapsed": false
      },
      "outputs": [],
      "source": [
        "# Define the path to the dataset hosted online\ndata_path = 'https://raw.githubusercontent.com/cgre-aachen/gempy_data/master/'\n\n# Create a GeoModel instance with the given project name, extent, and refinement level.\ndata = gp.create_geomodel(\n    project_name='horizontal',\n    extent=[0, 1000, 0, 1000, 0, 1000],\n    refinement=6,\n    importer_helper=gp.data.ImporterHelper(\n        path_to_orientations=data_path + \"/data/input_data/jan_models/model1_orientations.csv\",\n        path_to_surface_points=data_path + \"/data/input_data/jan_models/model1_surface_points.csv\"\n    )\n)\n\n# Map a geological series to the corresponding surfaces.\n# Here, the \"Strat_Series\" is associated with two formations ('rock2' and 'rock1'),\n# which defines the stacking order of horizontal layers.\ngp.map_stack_to_surfaces(\n    gempy_model=data,\n    mapping_object={\"Strat_Series\": ('rock2', 'rock1')}\n)\n\n# Compute the geological model using the provided data and mappings.\ngp.compute_model(data)\ngeo_data = data"
      ]
    },
    {
      "cell_type": "markdown",
      "metadata": {},
      "source": [
        "## 2D Visualization of the Geological Model\nThe following plots provide 2D views of the model.\n- The first plot shows the initial model without computed results.\n- The subsequent plots display the computed geological data in the x and y directions.\nNote: The boundaries are hidden in the latter plots for a cleaner visualization.\n\n"
      ]
    },
    {
      "cell_type": "code",
      "execution_count": null,
      "metadata": {
        "collapsed": false
      },
      "outputs": [],
      "source": [
        "# Plot the initial model in the y direction (without displaying computed results)\ngpv.plot_2d(geo_data, direction=['y'], show_results=False)\n\n# Plot the computed model results in the x and y directions, including data but excluding boundaries\ngpv.plot_2d(geo_data, direction=['x'], show_data=True, show_boundaries=False)\ngpv.plot_2d(geo_data, direction=['y'], show_data=True, show_boundaries=False)"
      ]
    },
    {
      "cell_type": "markdown",
      "metadata": {},
      "source": [
        "## 3D Visualization and Export to VTK\nVisualize the model in 3D with data, results, and boundaries.\nThe generated 3D plot is also used to export various components of the model to VTK files.\n\n"
      ]
    },
    {
      "cell_type": "code",
      "execution_count": null,
      "metadata": {
        "collapsed": false
      },
      "outputs": [],
      "source": [
        "p = gpv.plot_3d(geo_data, show_data=True, show_results=True, show_boundaries=True, image=True)\n\n# Export different components of the model to VTK files:\np.surface_poly['rock1'].save('rock1.vtk')  # Save formation 'rock1'\np.surface_poly['rock2'].save('rock2.vtk')  # Save formation 'rock2'\np.orientations_mesh.save('orientations.vtk')  # Save the orientations mesh\np.surface_points_mesh.save('surface_points.vtk')  # Save the surface points mesh\n\n# Retrieve and export the regular grid (volume representation) of the model\nbox = p.regular_grid_actor.GetMapper().GetInput()\nbox.save('box.vtk')"
      ]
    },
    {
      "cell_type": "markdown",
      "metadata": {},
      "source": [
        "## Display the Exported VTK Files with PyVista\nLoad and plot each exported VTK file to verify the export.\n\n"
      ]
    },
    {
      "cell_type": "code",
      "execution_count": null,
      "metadata": {
        "collapsed": false
      },
      "outputs": [],
      "source": [
        "pv.read('rock1.vtk').plot(show_edges=False)\npv.read('rock2.vtk').plot(show_edges=False)\npv.read('orientations.vtk').plot(show_edges=False)\npv.read('surface_points.vtk').plot(show_edges=False)\npv.read('box.vtk').plot(show_edges=False)"
      ]
    },
    {
      "cell_type": "markdown",
      "metadata": {},
      "source": [
        "## Extract and Save Mesh Vertices and Normals\nThe following functions extract vertex coordinates and corresponding normal vectors\nfrom a mesh (vtkPolyData), and then save this data into Excel files for further analysis.\n\n"
      ]
    },
    {
      "cell_type": "code",
      "execution_count": null,
      "metadata": {
        "collapsed": false
      },
      "outputs": [],
      "source": [
        "def generate_normals(polydata):\n    \"\"\"\n    Generate normals for the given polydata if they are not already computed.\n\n    Parameters:\n        polydata (vtk.vtkPolyData): Input polydata for which normals are to be computed.\n\n    Returns:\n        vtk.vtkPolyData: The polydata with computed point normals.\n    \"\"\"\n    normal_generator = vtk.vtkPolyDataNormals()\n    normal_generator.SetInputData(polydata)\n    normal_generator.ComputePointNormalsOn()\n    normal_generator.ComputeCellNormalsOff()\n    normal_generator.Update()\n    return normal_generator.GetOutput()\n\n\ndef get_vertices_and_normals(mesh):\n    \"\"\"\n    Extract vertices and normals from a mesh.\n\n    Parameters:\n        mesh: The mesh object (typically from a formation) to extract surface vertices and normals.\n\n    Returns:\n        tuple: Two lists containing vertices and normals respectively.\n    \"\"\"\n    # Extract the surface of the mesh\n    surface_mesh = mesh.extract_surface()\n    polydata = surface_mesh\n\n    # Ensure normals are computed for the polydata\n    polydata_with_normals = generate_normals(polydata)\n\n    # Extract points (vertices)\n    points = polydata_with_normals.GetPoints()\n    vertices = [points.GetPoint(i) for i in range(points.GetNumberOfPoints())]\n\n    # Extract normals associated with the points\n    normals_array = polydata_with_normals.GetPointData().GetNormals()\n    normals = [normals_array.GetTuple(i) for i in range(normals_array.GetNumberOfTuples())]\n\n    return vertices, normals\n\n\ndef save_to_excel(vertices, normals, vertices_file, normals_file):\n    \"\"\"\n    Save the vertices and normals to separate Excel files.\n\n    Parameters:\n        vertices (list): List of vertex coordinates.\n        normals (list): List of normal vectors.\n        vertices_file (str): File name for saving vertices.\n        normals_file (str): File name for saving normals.\n    \"\"\"\n    # Create DataFrames from the lists\n    vertices_df = pd.DataFrame(vertices, columns=['X', 'Y', 'Z'])\n    normals_df = pd.DataFrame(normals, columns=['x', 'y', 'z'])\n\n    # Write the DataFrames to Excel files\n    vertices_df.to_excel(vertices_file, index=False)\n    normals_df.to_excel(normals_file, index=False)\n\n\n# Extract vertices and normals from the mesh of formation 'rock1'\nmesh = p.surface_poly['rock1']\nvertices, normals = get_vertices_and_normals(mesh)\n\n# Create DataFrames for later processing or verification\nvertices_df = pd.DataFrame(vertices, columns=['X', 'Y', 'Z'])\nnormals_df = pd.DataFrame(normals, columns=['x', 'y', 'z'])\n\n# Define file names for the Excel outputs\nvertices_file = \"rock1_vertices.xlsx\"\nnormals_file = \"rock1_norms.xlsx\"\n\n# Save the extracted data to Excel files\nsave_to_excel(vertices, normals, vertices_file, normals_file)\n\n# Optionally, read back the Excel files to verify their content\npd.read_excel(vertices_file)\npd.read_excel(normals_file)"
      ]
    },
    {
      "cell_type": "markdown",
      "metadata": {},
      "source": [
        "## Convert Vertices DataFrame to an XYZ File\nThis function converts a DataFrame containing vertex coordinates to an XYZ format file,\nwhich is a simple text file with one point per line.\n\n"
      ]
    },
    {
      "cell_type": "code",
      "execution_count": null,
      "metadata": {
        "collapsed": false
      },
      "outputs": [],
      "source": [
        "def dataframe_to_xyz(df, filename):\n    \"\"\"\n    Write vertex coordinates from a DataFrame to an XYZ file.\n\n    Parameters:\n        df (pandas.DataFrame): DataFrame containing 'X', 'Y', and 'Z' columns.\n        filename (str): Output filename for the XYZ file.\n    \"\"\"\n    with open(filename, 'w') as f:\n        for index, row in df.iterrows():\n            f.write(f\"{row['X']} {row['Y']} {row['Z']}\\n\")\n\n\n# Specify the output file name for the XYZ file\nfilename = \"output.xyz\"\n\n# Convert the vertices DataFrame to an XYZ file\ndataframe_to_xyz(vertices_df, filename)"
      ]
    }
  ],
  "metadata": {
    "kernelspec": {
      "display_name": "Python 3",
      "language": "python",
      "name": "python3"
    },
    "language_info": {
      "codemirror_mode": {
        "name": "ipython",
        "version": 3
      },
      "file_extension": ".py",
      "mimetype": "text/x-python",
      "name": "python",
      "nbconvert_exporter": "python",
      "pygments_lexer": "ipython3",
      "version": "3.10.12"
    }
  },
  "nbformat": 4,
  "nbformat_minor": 0
}