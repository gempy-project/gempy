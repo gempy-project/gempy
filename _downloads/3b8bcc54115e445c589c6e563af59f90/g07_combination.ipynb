{
  "cells": [
    {
      "cell_type": "code",
      "execution_count": null,
      "metadata": {
        "collapsed": false
      },
      "outputs": [],
      "source": [
        "%matplotlib inline\nfrom pyvista import set_plot_theme\nset_plot_theme('document')"
      ]
    },
    {
      "cell_type": "markdown",
      "metadata": {},
      "source": [
        "\n# Model 7 - Combination\n\nCombining faults and unconformities\n\nThis script creates a folded domain featuring an unconformity and a fault using GemPy,\nan open-source, Python-based library for building implicit geological models.\n"
      ]
    },
    {
      "cell_type": "code",
      "execution_count": null,
      "metadata": {
        "collapsed": false
      },
      "outputs": [],
      "source": [
        "# Importing necessary libraries\nimport numpy as np\nimport gempy as gp\nimport gempy_viewer as gpv\nfrom gempy_engine.core.data.stack_relation_type import StackRelationType\n\n# sphinx_gallery_thumbnail_number = 2\n\n# Generate the model\n# Define the path to data\ndata_path = 'https://raw.githubusercontent.com/cgre-aachen/gempy_data/master/'\npath_to_data = data_path + \"/data/input_data/jan_models/\"\n# Create a GeoModel instance\ndata = gp.create_geomodel(\n    project_name='combination',\n    extent=[0, 2500, 0, 1000, 0, 1000],\n    refinement=6,\n    resolution=[20, 20, 20],\n    importer_helper=gp.data.ImporterHelper(\n        path_to_orientations=path_to_data + \"model7_orientations.csv\",\n        path_to_surface_points=path_to_data + \"model7_surface_points.csv\"\n    )\n)\n# Map geological series to surfaces\ngp.map_stack_to_surfaces(\n    gempy_model=data,\n    mapping_object={\n        \"Fault_Series\" : ('fault'),\n        \"Strat_Series1\": ('rock3'),\n        \"Strat_Series2\": ('rock2', 'rock1'),\n    }\n)\n# Define the structural relation\ndata.structural_frame.structural_groups[0].structural_relation = StackRelationType.FAULT\ndata.structural_frame.fault_relations = np.array(\n    [[0, 1, 1],\n     [0, 0, 0],\n     [0, 0, 0]]\n)\n# Compute the geological model\ndata.interpolation_options.number_octree_levels_surface = 5\ngp.compute_model(data)\ndata.structural_frame"
      ]
    },
    {
      "cell_type": "markdown",
      "metadata": {},
      "source": [
        "Plot the initial geological model in the y direction\n\n"
      ]
    },
    {
      "cell_type": "code",
      "execution_count": null,
      "metadata": {
        "collapsed": false
      },
      "outputs": [],
      "source": [
        "gpv.plot_2d(data, direction=['y'], show_results=False)"
      ]
    },
    {
      "cell_type": "markdown",
      "metadata": {},
      "source": [
        "Plot the result of the model in the y and x directions with data and boundaries\n\n"
      ]
    },
    {
      "cell_type": "code",
      "execution_count": null,
      "metadata": {
        "collapsed": false
      },
      "outputs": [],
      "source": [
        "gpv.plot_2d(data, direction='y', show_data=True, show_boundaries=True)\ngpv.plot_2d(data, direction='x', show_data=True)\n\n# Plot the blocks accounting for fault blocks\ngpv.plot_2d(\n    model=data,\n    override_regular_grid=data.solutions.raw_arrays.litho_faults_block,\n    show_data=True, kwargs_lithology={'cmap': 'Set1', 'norm': None}\n)"
      ]
    },
    {
      "cell_type": "markdown",
      "metadata": {},
      "source": [
        "The 3D plot is commented out due to a bug.\n\n"
      ]
    },
    {
      "cell_type": "code",
      "execution_count": null,
      "metadata": {
        "collapsed": false
      },
      "outputs": [],
      "source": [
        "gpv.plot_3d(data)"
      ]
    }
  ],
  "metadata": {
    "kernelspec": {
      "display_name": "Python 3",
      "language": "python",
      "name": "python3"
    },
    "language_info": {
      "codemirror_mode": {
        "name": "ipython",
        "version": 3
      },
      "file_extension": ".py",
      "mimetype": "text/x-python",
      "name": "python",
      "nbconvert_exporter": "python",
      "pygments_lexer": "ipython3",
      "version": "3.10.12"
    }
  },
  "nbformat": 4,
  "nbformat_minor": 0
}