{
  "cells": [
    {
      "cell_type": "code",
      "execution_count": null,
      "metadata": {
        "collapsed": false
      },
      "outputs": [],
      "source": [
        "%matplotlib inline\nfrom pyvista import set_plot_theme\nset_plot_theme('document')"
      ]
    },
    {
      "cell_type": "markdown",
      "metadata": {},
      "source": [
        "\n# Video Tutorial \"code-along\": Modeling step by step\n"
      ]
    },
    {
      "cell_type": "markdown",
      "metadata": {},
      "source": [
        "This tutorial demonstrates step-by-step geological modeling using the `gempy` and `gempy_viewer` libraries.\nIt follows the Video tutorial series available on the [gempy YouTube channel](https://www.youtube.com/@GemPy3D).\n\n"
      ]
    },
    {
      "cell_type": "markdown",
      "metadata": {},
      "source": [
        "## Video tutorial 1: Introduction\n\nThe first video is an introduction to GemPy - please view online before starting the tutorial.\n\n\n\n"
      ]
    },
    {
      "cell_type": "markdown",
      "metadata": {},
      "source": [
        ".. raw:: html\n\n    <iframe width=\"560\" height=\"315\" \n            src=\"https://www.youtube.com/embed/3elCCHhARsU\" \n            title=\"YouTube video player\" \n            frameborder=\"0\" \n            allow=\"accelerometer; autoplay; clipboard-write; encrypted-media; gyroscope; picture-in-picture\" \n            allowfullscreen>\n    </iframe>\n\n"
      ]
    },
    {
      "cell_type": "markdown",
      "metadata": {},
      "source": [
        "## Video tutorial 2: Input data\n\n"
      ]
    },
    {
      "cell_type": "markdown",
      "metadata": {},
      "source": [
        ".. raw:: html\n\n    <iframe width=\"560\" height=\"315\" \n            src=\"https://www.youtube.com/embed/yYwJVYy8ilw\" \n            title=\"YouTube video player\" \n            frameborder=\"0\" \n            allow=\"accelerometer; autoplay; clipboard-write; encrypted-media; gyroscope; picture-in-picture\" \n            allowfullscreen>\n    </iframe>\n\n"
      ]
    },
    {
      "cell_type": "code",
      "execution_count": null,
      "metadata": {
        "collapsed": false
      },
      "outputs": [],
      "source": [
        "# Required imports\nimport gempy as gp\nimport gempy_viewer as gpv"
      ]
    },
    {
      "cell_type": "code",
      "execution_count": null,
      "metadata": {
        "collapsed": false
      },
      "outputs": [],
      "source": [
        "# Path to input data\ndata_path = \"https://raw.githubusercontent.com/cgre-aachen/gempy_data/master/\"\npath_to_data = data_path + \"/data/input_data/video_tutorials_v3/\""
      ]
    },
    {
      "cell_type": "code",
      "execution_count": null,
      "metadata": {
        "collapsed": false
      },
      "outputs": [],
      "source": [
        "# Create instance of geomodel\ngeo_model = gp.create_geomodel(\n    project_name = 'tutorial_model',\n    extent=[0,2500,0,1000,0,1000],\n    resolution=[100,40,40],\n    importer_helper=gp.data.ImporterHelper(\n        path_to_orientations=path_to_data+\"tutorial_model_orientations.csv\",\n        path_to_surface_points=path_to_data+\"tutorial_model_surface_points.csv\"\n    )\n)"
      ]
    },
    {
      "cell_type": "code",
      "execution_count": null,
      "metadata": {
        "collapsed": false
      },
      "outputs": [],
      "source": [
        "# Display a basic cross section of input data\ngpv.plot_2d(geo_model)"
      ]
    },
    {
      "cell_type": "code",
      "execution_count": null,
      "metadata": {
        "collapsed": false
      },
      "outputs": [],
      "source": [
        "# Manually add a surface point\ngp.add_surface_points(\n    geo_model=geo_model,\n    x=[2250],\n    y=[500],\n    z=[750],\n    elements_names=['rock1']\n)"
      ]
    },
    {
      "cell_type": "code",
      "execution_count": null,
      "metadata": {
        "collapsed": false
      },
      "outputs": [],
      "source": [
        "# Show added point in cross section\ngpv.plot_2d(geo_model)"
      ]
    },
    {
      "cell_type": "markdown",
      "metadata": {},
      "source": [
        "## Video tutorial 3: Structural frame\n\n"
      ]
    },
    {
      "cell_type": "markdown",
      "metadata": {},
      "source": [
        ".. raw:: html\n\n    <iframe width=\"560\" height=\"315\" \n            src=\"https://www.youtube.com/embed/4rav3lb2AR8\" \n            title=\"YouTube video player\" \n            frameborder=\"0\" \n            allow=\"accelerometer; autoplay; clipboard-write; encrypted-media; gyroscope; picture-in-picture\" \n            allowfullscreen>\n    </iframe>\n\n"
      ]
    },
    {
      "cell_type": "code",
      "execution_count": null,
      "metadata": {
        "collapsed": false
      },
      "outputs": [],
      "source": [
        "# View structural frame\ngeo_model.structural_frame"
      ]
    },
    {
      "cell_type": "code",
      "execution_count": null,
      "metadata": {
        "collapsed": false
      },
      "outputs": [],
      "source": [
        "# View structural elements\ngeo_model.structural_frame.structural_elements"
      ]
    },
    {
      "cell_type": "code",
      "execution_count": null,
      "metadata": {
        "collapsed": false
      },
      "outputs": [],
      "source": [
        "# Define structural groups and age/stratigraphic relationship\ngp.map_stack_to_surfaces(\n    gempy_model=geo_model,\n    mapping_object={\n        \"Strat_Series2\": (\"rock3\"),\n        \"Strat_Series1\": (\"rock2\", \"rock1\")\n    }\n)"
      ]
    },
    {
      "cell_type": "markdown",
      "metadata": {},
      "source": [
        "## Video tutorial 4: Computation and results\n\n"
      ]
    },
    {
      "cell_type": "markdown",
      "metadata": {},
      "source": [
        ".. raw:: html\n\n    <iframe width=\"560\" height=\"315\" \n            src=\"https://www.youtube.com/embed/lrz1DeHrrBk\" \n            title=\"GemPy Tutorial Video 4\" \n            frameborder=\"0\" \n            allow=\"accelerometer; autoplay; clipboard-write; encrypted-media; gyroscope; picture-in-picture\" \n            allowfullscreen>\n    </iframe>\n\n"
      ]
    },
    {
      "cell_type": "code",
      "execution_count": null,
      "metadata": {
        "collapsed": false
      },
      "outputs": [],
      "source": [
        "# View interpolation options\ngeo_model.interpolation_options"
      ]
    },
    {
      "cell_type": "code",
      "execution_count": null,
      "metadata": {
        "collapsed": false
      },
      "outputs": [],
      "source": [
        "# Compute a solution for the model\ngp.compute_model(geo_model)"
      ]
    },
    {
      "cell_type": "code",
      "execution_count": null,
      "metadata": {
        "collapsed": false
      },
      "outputs": [],
      "source": [
        "# Display the result in 2d section\ngpv.plot_2d(geo_model, cell_number=20)"
      ]
    },
    {
      "cell_type": "code",
      "execution_count": null,
      "metadata": {
        "collapsed": false
      },
      "outputs": [],
      "source": [
        "# Some examples of how to access results\nprint(geo_model.solutions.raw_arrays.lith_block)\nprint(geo_model.grid.dense_grid.values)"
      ]
    },
    {
      "cell_type": "markdown",
      "metadata": {},
      "source": [
        "## Video tutorial 5: 2D visualization\n\n"
      ]
    },
    {
      "cell_type": "markdown",
      "metadata": {},
      "source": [
        ".. raw:: html\n\n    <iframe width=\"560\" height=\"315\" \n            src=\"https://www.youtube.com/embed/nMms0JYn98o\" \n            title=\"GemPy tutorial video 5\" \n            frameborder=\"0\" \n            allow=\"accelerometer; autoplay; clipboard-write; encrypted-media; gyroscope; picture-in-picture\" \n            allowfullscreen>\n    </iframe>\n\n"
      ]
    },
    {
      "cell_type": "code",
      "execution_count": null,
      "metadata": {
        "collapsed": false
      },
      "outputs": [],
      "source": [
        "# 2d plotting options\ngpv.plot_2d(geo_model, show_value=True, show_lith=False, show_scalar=True, series_n=1, cell_number=25)"
      ]
    },
    {
      "cell_type": "code",
      "execution_count": null,
      "metadata": {
        "collapsed": false
      },
      "outputs": [],
      "source": [
        "# Create custom section lines\ngp.set_section_grid(\n    grid=geo_model.grid,\n    section_dict={\n        'section1': ([0, 0], [2500, 1000], [100, 50]),\n        'section2': ([1000, 1000], [1500, 0], [100, 100]),\n    }\n)"
      ]
    },
    {
      "cell_type": "code",
      "execution_count": null,
      "metadata": {
        "collapsed": false
      },
      "outputs": [],
      "source": [
        "# Show custom cross-section traces\ngpv.plot_section_traces(geo_model)"
      ]
    },
    {
      "cell_type": "code",
      "execution_count": null,
      "metadata": {
        "collapsed": false
      },
      "outputs": [],
      "source": [
        "# Recompute model as a new grid was added\ngp.compute_model(geo_model)"
      ]
    },
    {
      "cell_type": "code",
      "execution_count": null,
      "metadata": {
        "collapsed": false
      },
      "outputs": [],
      "source": [
        "# Display custom cross-sections\ngpv.plot_2d(geo_model, section_names=['section1', 'section2'], show_data=False)"
      ]
    },
    {
      "cell_type": "markdown",
      "metadata": {},
      "source": [
        "## Video tutorial 6: 3D visualization\n\n"
      ]
    },
    {
      "cell_type": "markdown",
      "metadata": {},
      "source": [
        ".. raw:: html\n\n    <iframe width=\"560\" height=\"315\" \n            src=\"https://www.youtube.com/embed/MHEUQpVeSoQ\" \n            title=\"YouTube video player\" \n            frameborder=\"0\" \n            allow=\"accelerometer; autoplay; clipboard-write; encrypted-media; gyroscope; picture-in-picture\" \n            allowfullscreen>\n    </iframe>\n\n"
      ]
    },
    {
      "cell_type": "code",
      "execution_count": null,
      "metadata": {
        "collapsed": false
      },
      "outputs": [],
      "source": [
        "# Display the result in 3d\ngpv.plot_3d(geo_model, show_lith=True, show_boundaries=True, ve=None)"
      ]
    },
    {
      "cell_type": "code",
      "execution_count": null,
      "metadata": {
        "collapsed": false
      },
      "outputs": [],
      "source": [
        "# How to access DC meshes\ngeo_model.solutions.dc_meshes[0].dc_data\n\n# transform mesh vertices to original coordinate system\n\nback_transformed_vertices = geo_model.input_transform.apply_inverse(geo_model.solutions.dc_meshes[0].vertices)"
      ]
    },
    {
      "cell_type": "markdown",
      "metadata": {},
      "source": [
        "## Video tutorial 7: Topography\n\n"
      ]
    },
    {
      "cell_type": "markdown",
      "metadata": {},
      "source": [
        ".. raw:: html\n\n    <iframe width=\"560\" height=\"315\" \n            src=\"https://www.youtube.com/embed/FtAbUhwhiXE\" \n            title=\"YouTube video player\" \n            frameborder=\"0\" \n            allow=\"accelerometer; autoplay; clipboard-write; encrypted-media; gyroscope; picture-in-picture\" \n            allowfullscreen>\n    </iframe>\n\n"
      ]
    },
    {
      "cell_type": "code",
      "execution_count": null,
      "metadata": {
        "collapsed": false
      },
      "outputs": [],
      "source": [
        "# Setting a randomly generated topography\nimport numpy as np\n\ngp.set_topography_from_random(\n    grid=geo_model.grid,\n    fractal_dimension=1.2,\n    d_z=np.array([700, 900]),\n    topography_resolution=np.array([250, 100])\n)"
      ]
    },
    {
      "cell_type": "code",
      "execution_count": null,
      "metadata": {
        "collapsed": false
      },
      "outputs": [],
      "source": [
        "# Recompute model as a new grid was added\ngp.compute_model(geo_model)"
      ]
    },
    {
      "cell_type": "code",
      "execution_count": null,
      "metadata": {
        "collapsed": false
      },
      "outputs": [],
      "source": [
        "# Display a cross-section with topography\ngpv.plot_2d(geo_model, show_topography=True)"
      ]
    },
    {
      "cell_type": "code",
      "execution_count": null,
      "metadata": {
        "collapsed": false
      },
      "outputs": [],
      "source": [
        "# Displaying a geological map\ngpv.plot_2d(geo_model, show_topography=True, section_names=['topography'], show_boundaries=False, show_data=False)"
      ]
    },
    {
      "cell_type": "code",
      "execution_count": null,
      "metadata": {
        "collapsed": false
      },
      "outputs": [],
      "source": [
        "# Display the 3d model with topography\ngpv.plot_3d(geo_model, show_lith=True, show_topography=True)\n\n# sphinx_gallery_thumbnail_number = -1"
      ]
    }
  ],
  "metadata": {
    "kernelspec": {
      "display_name": "Python 3",
      "language": "python",
      "name": "python3"
    },
    "language_info": {
      "codemirror_mode": {
        "name": "ipython",
        "version": 3
      },
      "file_extension": ".py",
      "mimetype": "text/x-python",
      "name": "python",
      "nbconvert_exporter": "python",
      "pygments_lexer": "ipython3",
      "version": "3.10.12"
    }
  },
  "nbformat": 4,
  "nbformat_minor": 0
}