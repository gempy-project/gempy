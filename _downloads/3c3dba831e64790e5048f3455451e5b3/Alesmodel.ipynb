{
  "cells": [
    {
      "cell_type": "code",
      "execution_count": null,
      "metadata": {
        "collapsed": false
      },
      "outputs": [],
      "source": [
        "%matplotlib inline\nfrom pyvista import set_plot_theme\nset_plot_theme('document')"
      ]
    },
    {
      "cell_type": "markdown",
      "metadata": {},
      "source": [
        "\n# Model of Ales, France: Plotting Sections and Maps\n"
      ]
    },
    {
      "cell_type": "markdown",
      "metadata": {},
      "source": [
        ".. admonition:: Explanation\n\n      This model is generally quite unstable and requires float64 precision to determine a solution.\n      The lack of data in one corner for the TRIAS and LIAS series causes the model to bend unrealistically,\n      eroding the CARBO layer, which disappears in that section. \n\n\n"
      ]
    },
    {
      "cell_type": "code",
      "execution_count": null,
      "metadata": {
        "collapsed": false
      },
      "outputs": [],
      "source": [
        "import gempy as gp\nimport gempy_viewer as gpv\nimport os"
      ]
    },
    {
      "cell_type": "markdown",
      "metadata": {},
      "source": [
        "Setting up paths\n\n"
      ]
    },
    {
      "cell_type": "code",
      "execution_count": null,
      "metadata": {
        "collapsed": false
      },
      "outputs": [],
      "source": [
        "cwd = os.getcwd()\ndata_path = os.path.join(cwd, 'examples') if 'examples' not in cwd else os.path.join(cwd, '../..')\n\npath_interf = os.path.join(data_path, \"data/input_data/AlesModel/2018_interf.csv\")\npath_orient = os.path.join(data_path, \"data/input_data/AlesModel/2018_orient_clust_n_init5_0.csv\")\npath_dem = os.path.join(data_path, \"data/input_data/AlesModel/_cropped_DEM_coarse.tif\")"
      ]
    },
    {
      "cell_type": "markdown",
      "metadata": {},
      "source": [
        "Creating the geological model\n\n"
      ]
    },
    {
      "cell_type": "code",
      "execution_count": null,
      "metadata": {
        "collapsed": false
      },
      "outputs": [],
      "source": [
        "geo_model: gp.data.GeoModel = gp.create_geomodel(\n    project_name='Claudius',\n    extent=[729550.0, 751500.0, 1913500.0, 1923650.0, -1800.0, 800.0],\n    resolution=None,\n    refinement=6,\n    importer_helper=gp.data.ImporterHelper(\n        path_to_orientations=path_orient,\n        path_to_surface_points=path_interf,\n    )\n)"
      ]
    },
    {
      "cell_type": "markdown",
      "metadata": {},
      "source": [
        "Setting up the section grid\n\n"
      ]
    },
    {
      "cell_type": "code",
      "execution_count": null,
      "metadata": {
        "collapsed": false
      },
      "outputs": [],
      "source": [
        "gp.set_section_grid(\n    grid=geo_model.grid,\n    section_dict={\n            'section1': ([732000, 1916000], [745000, 1916000], [200, 150])\n    }\n)"
      ]
    },
    {
      "cell_type": "markdown",
      "metadata": {},
      "source": [
        "Sorting lithologies\n\n"
      ]
    },
    {
      "cell_type": "code",
      "execution_count": null,
      "metadata": {
        "collapsed": false
      },
      "outputs": [],
      "source": [
        "gp.map_stack_to_surfaces(\n    gempy_model=geo_model,\n    mapping_object={\n            'fault_left': 'fault_left',\n            'fault_right': 'fault_right',\n            'fault_lr': 'fault_lr',\n            'Trias_Series': ('TRIAS', 'LIAS'),\n            'Carbon_Series': 'CARBO',\n            'Basement_Series': 'basement'\n    },\n    remove_unused_series=True\n)"
      ]
    },
    {
      "cell_type": "markdown",
      "metadata": {},
      "source": [
        "Changing colors\n\n"
      ]
    },
    {
      "cell_type": "code",
      "execution_count": null,
      "metadata": {
        "collapsed": false
      },
      "outputs": [],
      "source": [
        "geo_model.structural_frame.get_element_by_name(\"LIAS\").color = \"#015482\"\ngeo_model.structural_frame.get_element_by_name(\"TRIAS\").color = \"#9f0052\"\ngeo_model.structural_frame.get_element_by_name(\"CARBO\").color = \"#ffbe00\""
      ]
    },
    {
      "cell_type": "markdown",
      "metadata": {},
      "source": [
        "Plotting the 2D model\n\n"
      ]
    },
    {
      "cell_type": "code",
      "execution_count": null,
      "metadata": {
        "collapsed": false
      },
      "outputs": [],
      "source": [
        "gpv.plot_2d(geo_model, direction='y')"
      ]
    },
    {
      "cell_type": "markdown",
      "metadata": {},
      "source": [
        "Plotting section traces\n\n"
      ]
    },
    {
      "cell_type": "code",
      "execution_count": null,
      "metadata": {
        "collapsed": false
      },
      "outputs": [],
      "source": [
        "gpv.plot_section_traces(geo_model)"
      ]
    },
    {
      "cell_type": "markdown",
      "metadata": {},
      "source": [
        "Setting faults\n\n"
      ]
    },
    {
      "cell_type": "code",
      "execution_count": null,
      "metadata": {
        "collapsed": false
      },
      "outputs": [],
      "source": [
        "gp.set_is_fault(\n    frame=geo_model.structural_frame,\n    fault_groups=[\n            geo_model.structural_frame.get_group_by_name('fault_left'),\n            geo_model.structural_frame.get_group_by_name('fault_right'),\n            geo_model.structural_frame.get_group_by_name('fault_lr')\n    ],\n    change_color=True\n)"
      ]
    },
    {
      "cell_type": "markdown",
      "metadata": {},
      "source": [
        "Setting topography from file\n\n"
      ]
    },
    {
      "cell_type": "code",
      "execution_count": null,
      "metadata": {
        "collapsed": false
      },
      "outputs": [],
      "source": [
        "gp.set_topography_from_file(\n    grid=geo_model.grid,\n    filepath=path_dem,\n    crop_to_extent=[729550.0, 751500.0, 1913500.0, 1923650.0]\n)\n\n# Plotting 3D model with topography\ngpv.plot_3d(geo_model, show_topography=True, ve=1, image=True)"
      ]
    },
    {
      "cell_type": "markdown",
      "metadata": {},
      "source": [
        "Getting the Carbon Series\n\n"
      ]
    },
    {
      "cell_type": "code",
      "execution_count": null,
      "metadata": {
        "collapsed": false
      },
      "outputs": [],
      "source": [
        "carbo = geo_model.structural_frame.get_group_by_name(\"Carbon_Series\")"
      ]
    },
    {
      "cell_type": "markdown",
      "metadata": {},
      "source": [
        "Modifying interpolation options for better model fitting\n\n"
      ]
    },
    {
      "cell_type": "code",
      "execution_count": null,
      "metadata": {
        "collapsed": false
      },
      "outputs": [],
      "source": [
        "geo_model.interpolation_options.number_octree_levels_surface = 4\ngeo_model.interpolation_options.kernel_options.range = 0.8\ngp.modify_surface_points(\n    geo_model=geo_model,\n    elements_names=[\"CARBO\", \"LIAS\", \"TRIAS\"],\n    nugget=0.005\n)"
      ]
    },
    {
      "cell_type": "markdown",
      "metadata": {},
      "source": [
        "Displaying the structural frame\n\n"
      ]
    },
    {
      "cell_type": "code",
      "execution_count": null,
      "metadata": {
        "collapsed": false
      },
      "outputs": [],
      "source": [
        "print(geo_model.structural_frame)\ngeo_model.structural_frame"
      ]
    },
    {
      "cell_type": "markdown",
      "metadata": {},
      "source": [
        "Explanation of model characteristics and adjustments\nThis model has characteristics that make it difficult to get the right default values:\n- It is large, and we want high resolution\n- Some series have a large conditional number (i.e., the model input is not very stable)\nTo address these issues:\n- Reduce the chunk size during evaluation to trade speed for memory\n- Reduce the std of the error parameter in octree refinement, which evaluates fewer voxels but may leave some without refinement\nEnable debugging options to help tune these parameters.\n\n"
      ]
    },
    {
      "cell_type": "markdown",
      "metadata": {},
      "source": [
        "Setting verbose and condition number options for debugging\n\n"
      ]
    },
    {
      "cell_type": "code",
      "execution_count": null,
      "metadata": {
        "collapsed": false
      },
      "outputs": [],
      "source": [
        "geo_model.interpolation_options.evaluation_options.verbose = True\ngeo_model.interpolation_options.kernel_options.compute_condition_number = True"
      ]
    },
    {
      "cell_type": "markdown",
      "metadata": {},
      "source": [
        "Observations and parameter adjustments\nThe octree refinement is making the octree grid almost dense, and smaller chunks are needed to avoid running out of memory.\nAdjusting parameters accordingly:\n\n"
      ]
    },
    {
      "cell_type": "code",
      "execution_count": null,
      "metadata": {
        "collapsed": false
      },
      "outputs": [],
      "source": [
        "geo_model.interpolation_options.evaluation_options.octree_error_threshold = 0.5\ngeo_model.interpolation_options.evaluation_options.evaluation_chunk_size = 50_000"
      ]
    },
    {
      "cell_type": "markdown",
      "metadata": {},
      "source": [
        "Computing the model with the adjusted settings\n\n"
      ]
    },
    {
      "cell_type": "code",
      "execution_count": null,
      "metadata": {
        "collapsed": false
      },
      "outputs": [],
      "source": [
        "geo_model.interpolation_options.mesh_extraction = False\n_ = gp.compute_model(\n    geo_model,\n    engine_config=gp.data.GemPyEngineConfig(\n        backend=gp.data.AvailableBackends.PYTORCH,\n        use_gpu=True,\n        dtype=\"float64\"\n    )\n)"
      ]
    },
    {
      "cell_type": "markdown",
      "metadata": {},
      "source": [
        "Plotting the 2D model with and without topography\n\n"
      ]
    },
    {
      "cell_type": "code",
      "execution_count": null,
      "metadata": {
        "collapsed": false
      },
      "outputs": [],
      "source": [
        "gpv.plot_2d(geo_model, show_topography=False, section_names=['topography'], show_lith=True)\ngpv.plot_2d(geo_model, cell_number=[4], direction=['y'], show_topography=True, show_data=True)\ngpv.plot_2d(geo_model, cell_number=[-4], direction=['y'], show_topography=True, show_data=True)"
      ]
    },
    {
      "cell_type": "markdown",
      "metadata": {},
      "source": [
        "Setting thumbnail number for Sphinx-Gallery\nsphinx_gallery_thumbnail_number = -1\n\n"
      ]
    },
    {
      "cell_type": "code",
      "execution_count": null,
      "metadata": {
        "collapsed": false
      },
      "outputs": [],
      "source": [
        "gpv.plot_3d(geo_model, show_lith=True, show_topography=True, kwargs_plot_structured_grid={'opacity': 0.8})"
      ]
    }
  ],
  "metadata": {
    "kernelspec": {
      "display_name": "Python 3",
      "language": "python",
      "name": "python3"
    },
    "language_info": {
      "codemirror_mode": {
        "name": "ipython",
        "version": 3
      },
      "file_extension": ".py",
      "mimetype": "text/x-python",
      "name": "python",
      "nbconvert_exporter": "python",
      "pygments_lexer": "ipython3",
      "version": "3.10.12"
    }
  },
  "nbformat": 4,
  "nbformat_minor": 0
}