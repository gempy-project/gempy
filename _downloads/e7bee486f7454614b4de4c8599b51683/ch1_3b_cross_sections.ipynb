{
  "cells": [
    {
      "cell_type": "code",
      "execution_count": null,
      "metadata": {
        "collapsed": false
      },
      "outputs": [],
      "source": [
        "%matplotlib inline\nfrom pyvista import set_plot_theme\nset_plot_theme('document')"
      ]
    },
    {
      "cell_type": "markdown",
      "metadata": {},
      "source": [
        "\n# 1.3b: 2-D sections\n"
      ]
    },
    {
      "cell_type": "markdown",
      "metadata": {},
      "source": [
        "Importing\n\n"
      ]
    },
    {
      "cell_type": "code",
      "execution_count": null,
      "metadata": {
        "collapsed": false
      },
      "outputs": [],
      "source": [
        "import gempy as gp\nimport gempy_viewer as gpv\nimport numpy as np\n\nnp.random.seed(1234)"
      ]
    },
    {
      "cell_type": "markdown",
      "metadata": {},
      "source": [
        "## Setup the model\n\n\n"
      ]
    },
    {
      "cell_type": "markdown",
      "metadata": {},
      "source": [
        "Importing the data from CSV-files and setting extent and resolution\n\n"
      ]
    },
    {
      "cell_type": "code",
      "execution_count": null,
      "metadata": {
        "collapsed": false
      },
      "outputs": [],
      "source": [
        "data_path = 'https://raw.githubusercontent.com/cgre-aachen/gempy_data/master/'\n\ngeo_model: gp.data.GeoModel = gp.create_geomodel(\n    project_name='Tutorial_ch1_1_Basics',\n    extent=[0, 2000, 0, 2000, 0, 750],\n    resolution=[20, 20, 20],  # * Here we define the resolution of the voxels\n    refinement=4,  # * Here we define the number of octree levels. If octree levels are defined, the resolution is ignored.\n    importer_helper=gp.data.ImporterHelper(\n        path_to_orientations=data_path + \"/data/input_data/getting_started/simple_fault_model_orientations.csv\",\n        path_to_surface_points=data_path + \"/data/input_data/getting_started/simple_fault_model_points.csv\",\n        hash_surface_points=\"4cdd54cd510cf345a583610585f2206a2936a05faaae05595b61febfc0191563\",\n        hash_orientations=\"7ba1de060fc8df668d411d0207a326bc94a6cdca9f5fe2ed511fd4db6b3f3526\"\n    )\n)\n\ngp.map_stack_to_surfaces(\n    gempy_model=geo_model,\n    mapping_object=  # TODO: This mapping I do not like it too much. We should be able to do it passing the data objects directly\n    {\n        \"Fault_Series\": 'Main_Fault',\n        \"Strat_Series\": ('Sandstone_2', 'Siltstone', 'Shale', 'Sandstone_1')\n    }\n)\n\ngp.set_is_fault(\n    frame=geo_model.structural_frame,\n    fault_groups=['Fault_Series']\n)"
      ]
    },
    {
      "cell_type": "markdown",
      "metadata": {},
      "source": [
        "### Add sections\n\n\n"
      ]
    },
    {
      "cell_type": "markdown",
      "metadata": {},
      "source": [
        "pass section dictionary with startpoint, endpoint and resolution for\nevery section:\n\n\n"
      ]
    },
    {
      "cell_type": "code",
      "execution_count": null,
      "metadata": {
        "collapsed": false
      },
      "outputs": [],
      "source": [
        "gp.set_section_grid(\n    grid=geo_model.grid,\n    section_dict={\n        'section1': ([0, 0], [2000, 2000], [100, 80]),\n        'section2': ([800, 0], [800, 2000], [150, 100]),\n        'section3': ([0, 200], [1500, 500], [200, 150])\n    }  # p1,p2,resolution\n)"
      ]
    },
    {
      "cell_type": "markdown",
      "metadata": {},
      "source": [
        "### Add topography\n\n\n"
      ]
    },
    {
      "cell_type": "code",
      "execution_count": null,
      "metadata": {
        "collapsed": false
      },
      "outputs": [],
      "source": [
        "gp.set_topography_from_random(\n    grid=geo_model.grid,\n    fractal_dimension=1.2,\n    d_z=np.array([300, 750]),\n    topography_resolution=np.array([50, 50])\n)"
      ]
    },
    {
      "cell_type": "markdown",
      "metadata": {},
      "source": [
        "Active grids:\n\n\n"
      ]
    },
    {
      "cell_type": "code",
      "execution_count": null,
      "metadata": {
        "collapsed": false
      },
      "outputs": [],
      "source": [
        "geo_model.grid.active_grids"
      ]
    },
    {
      "cell_type": "code",
      "execution_count": null,
      "metadata": {
        "collapsed": false
      },
      "outputs": [],
      "source": [
        "gpv.plot_section_traces(geo_model)"
      ]
    },
    {
      "cell_type": "code",
      "execution_count": null,
      "metadata": {
        "collapsed": false
      },
      "outputs": [],
      "source": [
        "geo_model.interpolation_options.mesh_extraction = False\nsol = gp.compute_model(geo_model)"
      ]
    },
    {
      "cell_type": "code",
      "execution_count": null,
      "metadata": {
        "collapsed": false
      },
      "outputs": [],
      "source": [
        "gpv.plot_2d(geo_model, section_names=['topography'])"
      ]
    },
    {
      "cell_type": "code",
      "execution_count": null,
      "metadata": {
        "collapsed": false
      },
      "outputs": [],
      "source": [
        "gpv.plot_2d(geo_model, section_names=['section1'])"
      ]
    },
    {
      "cell_type": "code",
      "execution_count": null,
      "metadata": {
        "collapsed": false
      },
      "outputs": [],
      "source": [
        "gpv.plot_2d(\n    model=geo_model,\n    section_names=['section1', 'section2', 'section3', 'topography'],\n    show_topography=True\n)\n\n\n# sphinx_gallery_thumbnail_number = 4"
      ]
    }
  ],
  "metadata": {
    "kernelspec": {
      "display_name": "Python 3",
      "language": "python",
      "name": "python3"
    },
    "language_info": {
      "codemirror_mode": {
        "name": "ipython",
        "version": 3
      },
      "file_extension": ".py",
      "mimetype": "text/x-python",
      "name": "python",
      "nbconvert_exporter": "python",
      "pygments_lexer": "ipython3",
      "version": "3.10.12"
    }
  },
  "nbformat": 4,
  "nbformat_minor": 0
}