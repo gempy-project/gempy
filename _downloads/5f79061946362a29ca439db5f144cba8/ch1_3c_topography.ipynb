{
  "cells": [
    {
      "cell_type": "code",
      "execution_count": null,
      "metadata": {
        "collapsed": false
      },
      "outputs": [],
      "source": [
        "%matplotlib inline\nfrom pyvista import set_plot_theme\nset_plot_theme('document')"
      ]
    },
    {
      "cell_type": "markdown",
      "metadata": {},
      "source": [
        "\n# 1.3c: Adding topography to geological models\n"
      ]
    },
    {
      "cell_type": "code",
      "execution_count": null,
      "metadata": {
        "collapsed": false
      },
      "outputs": [],
      "source": [
        "import gempy as gp\nimport gempy_viewer as gpv\nimport numpy as np\nimport os"
      ]
    },
    {
      "cell_type": "markdown",
      "metadata": {},
      "source": [
        "## 1. The common procedure to set up a model:\n\n\n"
      ]
    },
    {
      "cell_type": "code",
      "execution_count": null,
      "metadata": {
        "collapsed": false
      },
      "outputs": [],
      "source": [
        "data_path = os.path.abspath('../../')\n\ngeo_model: gp.data.GeoModel = gp.create_geomodel(\n    project_name='Single_layer_topo',\n    extent=[450000, 460000, 70000, 80000, -1000, 500],\n    resolution=[50, 50, 50],\n    refinement=4,\n    importer_helper=gp.data.ImporterHelper(\n        path_to_orientations=data_path + \"/data/input_data/tut-ch1-7/onelayer_orient.csv\",\n        path_to_surface_points=data_path + \"/data/input_data/tut-ch1-7/onelayer_interfaces.csv\",\n    )\n)"
      ]
    },
    {
      "cell_type": "code",
      "execution_count": null,
      "metadata": {
        "collapsed": false
      },
      "outputs": [],
      "source": [
        "gp.set_section_grid(\n    grid=geo_model.grid,\n    section_dict={\n        'section1': ([450000, 75000], [460000, 75500], [100, 100]),\n    }\n)"
      ]
    },
    {
      "cell_type": "markdown",
      "metadata": {},
      "source": [
        "## 2. Adding topography\n\n\n"
      ]
    },
    {
      "cell_type": "markdown",
      "metadata": {},
      "source": [
        "### 2 a. Load from raster file\n\n\n.. admonition:: Coming soon: Importing raster data\n\n    This feature is not yet available in the current version of GemPy. Probably will be moved to `subsurface` since\n    coupling it with the geological model does not add much value.\n\n%%\n\n"
      ]
    },
    {
      "cell_type": "code",
      "execution_count": null,
      "metadata": {
        "collapsed": false
      },
      "outputs": [],
      "source": [
        "# This is to make it work in sphinx gallery\n# cwd = os.getcwd()\n# if not 'examples' in cwd:\n#     path_dir = os.getcwd() + '/examples/tutorials/ch5_probabilistic_modeling'\n# else:\n#     path_dir = cwd\n# \n# fp = path_dir + \"/../../data/input_data/tut-ch1-7/bogota.tif\"\n# \n# # %% \n# geo_model.set_topography(source='gdal', filepath=fp)\n# gp.plot_2d(geo_model, show_topography=True, section_names=['topography'], show_lith=False,\n#            show_boundaries=False,\n#            kwargs_topography={'cmap': 'gray', 'norm': None}\n#            )\n# plt.show()"
      ]
    },
    {
      "cell_type": "markdown",
      "metadata": {},
      "source": [
        "### 2 b. create fun topography\n\n\n"
      ]
    },
    {
      "cell_type": "markdown",
      "metadata": {},
      "source": [
        "If there is no topography file, but you think that your model with\ntopography would look significantly cooler, you can use gempys\n:meth:`set_topography <gempy.core.model.ImplicitCoKriging.set_topography>` function\nto generate a random topography based on a fractal grid:\n\n\n"
      ]
    },
    {
      "cell_type": "markdown",
      "metadata": {},
      "source": [
        "sphinx_gallery_thumbnail_number = 2\n\n"
      ]
    },
    {
      "cell_type": "code",
      "execution_count": null,
      "metadata": {
        "collapsed": false
      },
      "outputs": [],
      "source": [
        "gp.set_topography_from_random(grid=geo_model.grid)\ngpv.plot_2d(geo_model, show_topography=True, section_names=['topography'])"
      ]
    },
    {
      "cell_type": "markdown",
      "metadata": {},
      "source": [
        "It has additional keywords to play around with:\n\n* fd: fractal dimension:\n      defaults to 2.0. The higher (try 2.9), the rougher the landscape will\n      be.\n\n* d\\_z: height difference:\n      If none, last 20% of the model in z\n      direction.\n\n* extent:\n      extent in xy direction. If none,\n      ``geo_model.grid.extent`` is used.\n\n* resolution:\n      resolution of the topography array.\n      If none, ``geo_model.grid.resoution`` is used. Increasing the resolution leads to\n      much nicer geological maps!\n\n\n\n"
      ]
    },
    {
      "cell_type": "code",
      "execution_count": null,
      "metadata": {
        "collapsed": false
      },
      "outputs": [],
      "source": [
        "gp.set_topography_from_random(\n    grid=geo_model.grid,\n    fractal_dimension=1.9,\n    d_z=np.array([0, 250]),\n    topography_resolution=np.array([200, 200])\n)"
      ]
    },
    {
      "cell_type": "markdown",
      "metadata": {},
      "source": [
        "## Compute model\n\n\n"
      ]
    },
    {
      "cell_type": "code",
      "execution_count": null,
      "metadata": {
        "collapsed": false
      },
      "outputs": [],
      "source": [
        "gp.compute_model(geo_model)"
      ]
    },
    {
      "cell_type": "markdown",
      "metadata": {},
      "source": [
        "### Visualize:\n\nNow, the solutions object does also contain the computed geological map.\nIt can be visualized using the 2D and 3D plotting functionality:\n\n\n"
      ]
    },
    {
      "cell_type": "code",
      "execution_count": null,
      "metadata": {
        "collapsed": false
      },
      "outputs": [],
      "source": [
        "gpv.plot_2d(geo_model, show_topography=True, section_names=['topography'], show_boundaries=False, show_data=True)"
      ]
    },
    {
      "cell_type": "code",
      "execution_count": null,
      "metadata": {
        "collapsed": false
      },
      "outputs": [],
      "source": [
        "gpv.plot_2d(geo_model, show_topography=True, section_names=['section1'])"
      ]
    },
    {
      "cell_type": "code",
      "execution_count": null,
      "metadata": {
        "collapsed": false
      },
      "outputs": [],
      "source": [
        "g3d = gpv.plot_3d(\n    model=geo_model,\n    show_topography=True,\n    show_lith=False,\n    show_surfaces=False,\n    show_results=False,\n    ve=5\n)"
      ]
    },
    {
      "cell_type": "markdown",
      "metadata": {},
      "source": [
        "sphinx_gallery_thumbnail_number = 3\n\n"
      ]
    },
    {
      "cell_type": "code",
      "execution_count": null,
      "metadata": {
        "collapsed": false
      },
      "outputs": [],
      "source": [
        "g3d = gpv.plot_3d(\n    model=geo_model,\n    show_topography=True,\n    show_lith=True,\n    show_surfaces=True,\n    ve=5\n)"
      ]
    }
  ],
  "metadata": {
    "kernelspec": {
      "display_name": "Python 3",
      "language": "python",
      "name": "python3"
    },
    "language_info": {
      "codemirror_mode": {
        "name": "ipython",
        "version": 3
      },
      "file_extension": ".py",
      "mimetype": "text/x-python",
      "name": "python",
      "nbconvert_exporter": "python",
      "pygments_lexer": "ipython3",
      "version": "3.10.12"
    }
  },
  "nbformat": 4,
  "nbformat_minor": 0
}