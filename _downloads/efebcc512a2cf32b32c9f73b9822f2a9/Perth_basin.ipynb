{
  "cells": [
    {
      "cell_type": "code",
      "execution_count": null,
      "metadata": {
        "collapsed": false
      },
      "outputs": [],
      "source": [
        "%matplotlib inline\nfrom pyvista import set_plot_theme\nset_plot_theme('document')"
      ]
    },
    {
      "cell_type": "markdown",
      "metadata": {},
      "source": [
        "\n# A geological model of the Perth basin, Australia\n"
      ]
    },
    {
      "cell_type": "code",
      "execution_count": null,
      "metadata": {
        "collapsed": false
      },
      "outputs": [],
      "source": [
        "import os\n\n# Importing GemPy\nimport gempy as gp\nimport gempy_viewer as gpv\n\n# Importing auxiliary libraries\nimport matplotlib\n\nmatplotlib.rcParams['figure.figsize'] = (20.0, 10.0)\nos.environ[\"aesara_FLAGS\"] = \"mode=FAST_RUN,device=cuda\""
      ]
    },
    {
      "cell_type": "code",
      "execution_count": null,
      "metadata": {
        "collapsed": false
      },
      "outputs": [],
      "source": [
        "cwd = os.getcwd()\nif 'examples' not in cwd:\n    data_path = os.getcwd() + '/examples'\nelse:\n    data_path = cwd + '/../..'"
      ]
    },
    {
      "cell_type": "code",
      "execution_count": null,
      "metadata": {
        "collapsed": false
      },
      "outputs": [],
      "source": [
        "geo_model: gp.data.GeoModel = gp.create_geomodel(\n    project_name='Perth_Basin',\n    extent=[337000, 400000, 6640000, 6710000, -18000, 1000],\n    refinement=6,\n    importer_helper=gp.data.ImporterHelper(\n        path_to_orientations=data_path + \"/data/input_data/perth_basin/Paper_GU2F_sc_faults_topo_Foliations.csv\",\n        path_to_surface_points=data_path + \"/data/input_data/perth_basin/Paper_GU2F_sc_faults_topo_Points.csv\",\n    )\n)"
      ]
    },
    {
      "cell_type": "code",
      "execution_count": null,
      "metadata": {
        "collapsed": false
      },
      "outputs": [],
      "source": [
        "geo_model.structural_frame"
      ]
    },
    {
      "cell_type": "code",
      "execution_count": null,
      "metadata": {
        "collapsed": false
      },
      "outputs": [],
      "source": [
        "del_surfaces = ['Cadda', 'Woodada_Kockatea', 'Cattamarra']\nfor s in del_surfaces:\n    gp.remove_element_by_name(geo_model, s)\n\ngeo_model.structural_frame"
      ]
    },
    {
      "cell_type": "code",
      "execution_count": null,
      "metadata": {
        "collapsed": false
      },
      "outputs": [],
      "source": [
        "gp.map_stack_to_surfaces(\n    gempy_model=geo_model,\n    mapping_object={\n        \"fault_Abrolhos_Transfer\": [\"Abrolhos_Transfer\"],\n        \"fault_Coomallo\": [\"Coomallo\"],\n        \"fault_Eneabba_South\": [\"Eneabba_South\"],\n        \"fault_Hypo_fault_W\": [\"Hypo_fault_W\"],\n        \"fault_Hypo_fault_E\": [\"Hypo_fault_E\"],\n        \"fault_Urella_North\": [\"Urella_North\"],\n        \"fault_Darling\": [\"Darling\"],\n        \"fault_Urella_South\": [\"Urella_South\"],\n        \"Sedimentary_Series\": ['Cretaceous', 'Yarragadee', 'Eneabba', 'Lesueur', 'Permian']\n    }\n)"
      ]
    },
    {
      "cell_type": "markdown",
      "metadata": {},
      "source": [
        "## Select which series are faults\n\n\n"
      ]
    },
    {
      "cell_type": "code",
      "execution_count": null,
      "metadata": {
        "collapsed": false
      },
      "outputs": [],
      "source": [
        "gp.set_is_fault(\n    geo_model,\n    fault_groups=[\n        \"fault_Abrolhos_Transfer\",\n        \"fault_Coomallo\",\n        \"fault_Eneabba_South\",\n        \"fault_Hypo_fault_W\",\n        \"fault_Hypo_fault_E\",\n        \"fault_Urella_North\",\n        \"fault_Darling\",\n        \"fault_Urella_South\"\n    ],\n)"
      ]
    },
    {
      "cell_type": "markdown",
      "metadata": {},
      "source": [
        "gp.set_fault_relation(geo_model, fr)\n\n"
      ]
    },
    {
      "cell_type": "code",
      "execution_count": null,
      "metadata": {
        "collapsed": false
      },
      "outputs": [],
      "source": [
        "print(geo_model.structural_frame.fault_relations)"
      ]
    },
    {
      "cell_type": "markdown",
      "metadata": {},
      "source": [
        "%matplotlib inline\n\n"
      ]
    },
    {
      "cell_type": "code",
      "execution_count": null,
      "metadata": {
        "collapsed": false
      },
      "outputs": [],
      "source": [
        "gpv.plot_2d(geo_model, direction=['z'])"
      ]
    },
    {
      "cell_type": "code",
      "execution_count": null,
      "metadata": {
        "collapsed": false
      },
      "outputs": [],
      "source": [
        "gp.set_topography_from_random(geo_model.grid)"
      ]
    },
    {
      "cell_type": "code",
      "execution_count": null,
      "metadata": {
        "collapsed": false
      },
      "outputs": [],
      "source": [
        "gpv.plot_3d(geo_model)"
      ]
    },
    {
      "cell_type": "code",
      "execution_count": null,
      "metadata": {
        "collapsed": false
      },
      "outputs": [],
      "source": [
        "gp.compute_model(\n    gempy_model=geo_model,\n    engine_config= gp.data.GemPyEngineConfig(\n        backend=gp.data.AvailableBackends.PYTORCH,\n        dtype=\"float64\",\n    )\n)"
      ]
    },
    {
      "cell_type": "code",
      "execution_count": null,
      "metadata": {
        "collapsed": false
      },
      "outputs": [],
      "source": [
        "gpv.plot_2d(geo_model, cell_number=\"mid\")"
      ]
    },
    {
      "cell_type": "code",
      "execution_count": null,
      "metadata": {
        "collapsed": false
      },
      "outputs": [],
      "source": [
        "gpv.plot_2d(geo_model, cell_number=\"mid\", series_n=-1, show_scalar=True)"
      ]
    },
    {
      "cell_type": "code",
      "execution_count": null,
      "metadata": {
        "collapsed": false
      },
      "outputs": [],
      "source": [
        "gpv.plot_2d(geo_model, cell_number=[12], direction=[\"y\"], show_data=True, show_topography=True)"
      ]
    },
    {
      "cell_type": "markdown",
      "metadata": {},
      "source": [
        "sphinx_gallery_thumbnail_number = 6\n\n"
      ]
    },
    {
      "cell_type": "code",
      "execution_count": null,
      "metadata": {
        "collapsed": false
      },
      "outputs": [],
      "source": [
        "gpv.plot_3d(geo_model, show_topography=True)"
      ]
    }
  ],
  "metadata": {
    "kernelspec": {
      "display_name": "Python 3",
      "language": "python",
      "name": "python3"
    },
    "language_info": {
      "codemirror_mode": {
        "name": "ipython",
        "version": 3
      },
      "file_extension": ".py",
      "mimetype": "text/x-python",
      "name": "python",
      "nbconvert_exporter": "python",
      "pygments_lexer": "ipython3",
      "version": "3.10.12"
    }
  },
  "nbformat": 4,
  "nbformat_minor": 0
}