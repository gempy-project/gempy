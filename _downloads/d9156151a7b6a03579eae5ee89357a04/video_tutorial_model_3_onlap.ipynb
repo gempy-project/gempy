{
  "cells": [
    {
      "cell_type": "code",
      "execution_count": null,
      "metadata": {
        "collapsed": false
      },
      "outputs": [],
      "source": [
        "%matplotlib inline\nfrom pyvista import set_plot_theme\nset_plot_theme('document')"
      ]
    },
    {
      "cell_type": "markdown",
      "metadata": {},
      "source": [
        "\n# Video Tutorial \"code-along\": Onlap relations\n"
      ]
    },
    {
      "cell_type": "markdown",
      "metadata": {},
      "source": [
        "This tutorial demonstrates step-by-step how to incorporate onlap relations to our geological models created with gempy.\nIt follows the Video tutorial series available on the [gempy YouTube channel](https://www.youtube.com/@GemPy3D).\nPlease follow the first and second part of the tutorials to learn the basics of modeling with gempy before diving into this tutorial.\n\n"
      ]
    },
    {
      "cell_type": "markdown",
      "metadata": {},
      "source": [
        "## Video tutorial 11: Basic onlap scenario\n\n"
      ]
    },
    {
      "cell_type": "markdown",
      "metadata": {},
      "source": [
        ".. raw:: html\n\n    <iframe width=\"560\" height=\"315\"\n            src=\"https://www.youtube.com/embed/80QjnrFxubQ\"\n            title=\"YouTube video player\"\n            frameborder=\"0\"\n            allow=\"accelerometer; autoplay; clipboard-write; encrypted-media; gyroscope; picture-in-picture\"\n            allowfullscreen>\n    </iframe>\n\n\n\n"
      ]
    },
    {
      "cell_type": "code",
      "execution_count": null,
      "metadata": {
        "collapsed": false
      },
      "outputs": [],
      "source": [
        "# Required imports\nimport gempy as gp\nimport gempy_viewer as gpv\nimport numpy as np"
      ]
    },
    {
      "cell_type": "code",
      "execution_count": null,
      "metadata": {
        "collapsed": false
      },
      "outputs": [],
      "source": [
        "# Path to input data\ndata_path = \"https://raw.githubusercontent.com/cgre-aachen/gempy_data/master/\"\npath_to_data = data_path + \"/data/input_data/video_tutorials_v3/\""
      ]
    },
    {
      "cell_type": "code",
      "execution_count": null,
      "metadata": {
        "collapsed": false
      },
      "outputs": [],
      "source": [
        "# Create instance of geomodel\ngeo_model_onlap = gp.create_geomodel(\n    project_name = 'tutorial_model_onlap_1',\n    extent=[0,2000,0,1000,0,1000],\n    resolution=[100,50,50],\n    importer_helper=gp.data.ImporterHelper(\n        path_to_orientations=path_to_data+\"tutorial_model_onlap_1_orientations.csv\",\n        path_to_surface_points=path_to_data+\"tutorial_model_onlap_1_surface_points.csv\"\n    )\n)"
      ]
    },
    {
      "cell_type": "code",
      "execution_count": null,
      "metadata": {
        "collapsed": false
      },
      "outputs": [],
      "source": [
        "# Map geological series to surfaces\ngp.map_stack_to_surfaces(\n    gempy_model=geo_model_onlap,\n    mapping_object={\n        \"Young_Series\": (\"basin_fill_2\", \"basin_fill_1\"),\n        \"Old_Series\": (\"basin_top\", \"basin_bottom\")\n    }\n)\n\n# Alternative way of mapping geological series to surfaces\n# gp.map_stack_to_surfaces(\n#     gempy_model=geo_model_onlap,\n#     mapping_object={\n#         \"Young_Series\": (\"basin_fill_2\", \"basin_fill_1\"),\n#         \"Onlap_Series\": (\"basin_top\"),\n#         \"Old_Series\": (\"basin_bottom\")\n#     }\n# )"
      ]
    },
    {
      "cell_type": "code",
      "execution_count": null,
      "metadata": {
        "collapsed": false
      },
      "outputs": [],
      "source": [
        "# Display a basic cross section of input data\ngpv.plot_2d(geo_model_onlap, show_data=True)"
      ]
    },
    {
      "cell_type": "code",
      "execution_count": null,
      "metadata": {
        "collapsed": false
      },
      "outputs": [],
      "source": [
        "# Compute a solution for the model\ngp.compute_model(geo_model_onlap)"
      ]
    },
    {
      "cell_type": "code",
      "execution_count": null,
      "metadata": {
        "collapsed": false
      },
      "outputs": [],
      "source": [
        "# Display the result in 2d section\ngpv.plot_2d(geo_model_onlap, show_boundaries=False)"
      ]
    },
    {
      "cell_type": "code",
      "execution_count": null,
      "metadata": {
        "collapsed": false
      },
      "outputs": [],
      "source": [
        "# Set the relation of the youngest group to Onlap\nfrom gempy_engine.core.data.stack_relation_type import StackRelationType\ngeo_model_onlap.structural_frame.structural_groups[0].structural_relation = StackRelationType.ONLAP"
      ]
    },
    {
      "cell_type": "code",
      "execution_count": null,
      "metadata": {
        "collapsed": false
      },
      "outputs": [],
      "source": [
        "# Display updated strucutral frame\ngeo_model_onlap.structural_frame"
      ]
    },
    {
      "cell_type": "code",
      "execution_count": null,
      "metadata": {
        "collapsed": false
      },
      "outputs": [],
      "source": [
        "# Compute a solution for the model\ngp.compute_model(geo_model_onlap)"
      ]
    },
    {
      "cell_type": "code",
      "execution_count": null,
      "metadata": {
        "collapsed": false
      },
      "outputs": [],
      "source": [
        "# Display the result in 2d section\ngpv.plot_2d(geo_model_onlap, show_boundaries=False)"
      ]
    },
    {
      "cell_type": "markdown",
      "metadata": {},
      "source": [
        "## Video tutorial 12: Advanced onlap - Subduction zone\n\n"
      ]
    },
    {
      "cell_type": "markdown",
      "metadata": {},
      "source": [
        ".. raw:: html\n\n    <iframe width=\"560\" height=\"315\"\n            src=\"https://www.youtube.com/embed/R-vUld4V-OQ\"\n            title=\"YouTube video player\"\n            frameborder=\"0\"\n            allow=\"accelerometer; autoplay; clipboard-write; encrypted-media; gyroscope; picture-in-picture\"\n            allowfullscreen>\n    </iframe>\n\n\n\n"
      ]
    },
    {
      "cell_type": "code",
      "execution_count": null,
      "metadata": {
        "collapsed": false
      },
      "outputs": [],
      "source": [
        "# Create instance of geomodel\ngeo_model_subduction = gp.create_geomodel(\n    project_name = 'tutorial_model_onlap_2',\n    extent=[0,2000,0,1000,0,1000],\n    resolution=[100,50,50],\n    importer_helper=gp.data.ImporterHelper(\n        path_to_orientations=path_to_data+\"tutorial_model_onlap_2_orientations.csv?\",\n        path_to_surface_points=path_to_data+\"tutorial_model_onlap_2_surface_points.csv?\"\n    )\n)"
      ]
    },
    {
      "cell_type": "code",
      "execution_count": null,
      "metadata": {
        "collapsed": false
      },
      "outputs": [],
      "source": [
        "# Display a basic cross section of input data\ngpv.plot_2d(geo_model_subduction)"
      ]
    },
    {
      "cell_type": "code",
      "execution_count": null,
      "metadata": {
        "collapsed": false
      },
      "outputs": [],
      "source": [
        "# Map geological series to surfaces\ngp.map_stack_to_surfaces(\n    gempy_model=geo_model_subduction,\n    mapping_object={\n        \"Top\": (\"continental_top\"),\n        \"Continental_Series\": (\"continental_shallow\", \"continental_deep\"),\n        \"Oceanic_Series\": (\"oceanic_top\", \"oceanic_bottom\")\n    }\n)"
      ]
    },
    {
      "cell_type": "code",
      "execution_count": null,
      "metadata": {
        "collapsed": false
      },
      "outputs": [],
      "source": [
        "# Set the realtion of the youngest and second youngest group to Onlap\ngeo_model_subduction.structural_frame.structural_groups[0].structural_relation = StackRelationType.ONLAP\ngeo_model_subduction.structural_frame.structural_groups[1].structural_relation = StackRelationType.ONLAP"
      ]
    },
    {
      "cell_type": "code",
      "execution_count": null,
      "metadata": {
        "collapsed": false
      },
      "outputs": [],
      "source": [
        "# Display updated structural frame\ngeo_model_subduction.structural_frame"
      ]
    },
    {
      "cell_type": "code",
      "execution_count": null,
      "metadata": {
        "collapsed": false
      },
      "outputs": [],
      "source": [
        "# Create a simple topography using numpy\n\n# Define grid spacing\nspacing = 20\n\n# Generate grid\nx = np.arange(geo_model_subduction.grid.regular_grid.extent[0], geo_model_subduction.grid.regular_grid.extent[1] + spacing, spacing)\ny = np.arange(geo_model_subduction.grid.regular_grid.extent[2], geo_model_subduction.grid.regular_grid.extent[3] + spacing, spacing)\nX, Y = np.meshgrid(x, y)\n\n# Define elevation (z) based on x, creating a simple mountain range\nZ = np.ones_like(X) * 590  # Default elevation\nZ[(X >= 570) & (X < 1000)] = 590 + (200 * (X[(X >= 570) & (X < 1000)] - 600) / 400)\nZ[(X >= 1000) & (X < 1300)] = 810 - (250 * (X[(X >= 1000) & (X < 1300)] - 1000) / 300)\nZ[X >= 1300] = 540\n\n# Flatten the data into (N,3) shape\ntopography_points = np.vstack((X.ravel(), Y.ravel(), Z.ravel())).T"
      ]
    },
    {
      "cell_type": "code",
      "execution_count": null,
      "metadata": {
        "collapsed": false
      },
      "outputs": [],
      "source": [
        "# Set topography from numpy array\ngp.set_topography_from_arrays(grid=geo_model_subduction.grid, xyz_vertices=topography_points)"
      ]
    },
    {
      "cell_type": "code",
      "execution_count": null,
      "metadata": {
        "collapsed": false
      },
      "outputs": [],
      "source": [
        "# Compute a solution for the model\ngp.compute_model(geo_model_subduction)"
      ]
    },
    {
      "cell_type": "code",
      "execution_count": null,
      "metadata": {
        "collapsed": false
      },
      "outputs": [],
      "source": [
        "# Display the result in 2d section\ngpv.plot_2d(geo_model_subduction, show_topography=True, show_boundaries=False)"
      ]
    },
    {
      "cell_type": "code",
      "execution_count": null,
      "metadata": {
        "collapsed": false
      },
      "outputs": [],
      "source": [
        "# Display 3d plot of final model\ngpv.plot_3d(geo_model_subduction, show_topography=True, image=True)\n\n# sphinx_gallery_thumbnail_number = -1"
      ]
    }
  ],
  "metadata": {
    "kernelspec": {
      "display_name": "Python 3",
      "language": "python",
      "name": "python3"
    },
    "language_info": {
      "codemirror_mode": {
        "name": "ipython",
        "version": 3
      },
      "file_extension": ".py",
      "mimetype": "text/x-python",
      "name": "python",
      "nbconvert_exporter": "python",
      "pygments_lexer": "ipython3",
      "version": "3.10.12"
    }
  },
  "nbformat": 4,
  "nbformat_minor": 0
}