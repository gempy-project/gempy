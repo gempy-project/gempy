{
  "cells": [
    {
      "cell_type": "code",
      "execution_count": null,
      "metadata": {
        "collapsed": false
      },
      "outputs": [],
      "source": [
        "%matplotlib inline\nfrom pyvista import set_plot_theme\nset_plot_theme('document')"
      ]
    },
    {
      "cell_type": "markdown",
      "metadata": {},
      "source": [
        "\n# Unknown Model: Importing Borehole Data and Building a 3D Geological Model with GemPy\n"
      ]
    },
    {
      "cell_type": "markdown",
      "metadata": {},
      "source": [
        "In this section, we will explore how to take borehole or drillhole data and convert it into a format compatible with GemPy,\ncreating a 3D geological model. Borehole data is commonly collected in the mining, oil, and gas industries and contains \ninformation about subsurface geological formations, including lithologies, stratigraphy, and the geometry of layers or faults.\n\nFor this, we will rely on several helper functions from the `subsurface` package to extract borehole data and translate it \ninto a 3D structure that GemPy can use for modeling.\nWe will cover:\n\n- Downloading the borehole data\n- Processing the data using `subsurface`\n- Visualizing borehole locations and lithology data in 3D\n\n## Downloading Borehole Data\nThe borehole data is hosted online, and we can use the `pooch` library to download it directly. `pooch` is a library for \nfetching datasets from the internet. We will download a CSV file that contains the borehole information, including collar\npositions, survey data, and lithology logs.\n\nLet's start by downloading the dataset and inspecting its content.\n\n"
      ]
    },
    {
      "cell_type": "markdown",
      "metadata": {},
      "source": [
        "sphinx_gallery_thumbnail_number = -1\n\n"
      ]
    },
    {
      "cell_type": "code",
      "execution_count": null,
      "metadata": {
        "collapsed": false
      },
      "outputs": [],
      "source": [
        "# List of relative paths used during the workshop\nimport numpy as np\nimport pandas as pd\nimport pooch\nimport pyvista\n\nfrom subsurface.core.geological_formats import Collars, Survey, BoreholeSet\nfrom subsurface.core.geological_formats.boreholes._combine_trajectories import MergeOptions\nfrom subsurface.core.reader_helpers.readers_data import GenericReaderFilesHelper\nfrom subsurface.core.structs.base_structures.base_structures_enum import SpecialCellCase\nfrom subsurface.modules.reader.wells.read_borehole_interface import read_collar, read_survey, read_lith\nimport subsurface as ss\nfrom subsurface.modules.visualization import to_pyvista_points, pv_plot, to_pyvista_line, init_plotter\n\n# Importing GemPy\nimport gempy as gp"
      ]
    },
    {
      "cell_type": "markdown",
      "metadata": {},
      "source": [
        "We use `pooch` to download the dataset into a temp file:\n\n"
      ]
    },
    {
      "cell_type": "code",
      "execution_count": null,
      "metadata": {
        "collapsed": false
      },
      "outputs": [],
      "source": [
        "url = \"https://raw.githubusercontent.com/softwareunderground/subsurface/main/tests/data/borehole/kim_ready.csv\"\nknown_hash = \"a91445cb960526398e25d8c1d2ab3b3a32f7d35feaf33e18887629b242256ab6\"\n\n# Your code here:\nraw_borehole_data_csv = pooch.retrieve(url, known_hash)"
      ]
    },
    {
      "cell_type": "markdown",
      "metadata": {},
      "source": [
        "Now we can use `subsurface` function to help us reading csv files into pandas dataframes that the package can understand. \nSince the combination of styles data is provided can highly vary from project to project, `subsurface` provides some *helpers* \nfunctions to parse different combination of .csv\n\n"
      ]
    },
    {
      "cell_type": "markdown",
      "metadata": {},
      "source": [
        "Read the collar data from the CSV\n\n"
      ]
    },
    {
      "cell_type": "code",
      "execution_count": null,
      "metadata": {
        "collapsed": false
      },
      "outputs": [],
      "source": [
        "collar_df: pd.DataFrame = read_collar(\n    GenericReaderFilesHelper(\n        file_or_buffer=raw_borehole_data_csv,\n        index_col=\"name\",\n        usecols=['x', 'y', 'altitude', \"name\"],\n        columns_map={\n            \"name\": \"id\",  # ? Index name is not mapped\n            \"X\": \"x\",\n            \"Y\": \"y\",\n            \"altitude\": \"z\"\n        }\n    )\n)\n\n# Convert to UnstructuredData\nunstruc: ss.UnstructuredData = ss.UnstructuredData.from_array(\n    vertex=collar_df[[\"x\", \"y\", \"z\"]].values,\n    cells=SpecialCellCase.POINTS\n)\n\npoints = ss.PointSet(data=unstruc)\ncollars: Collars = Collars(\n    ids=collar_df.index.to_list(),\n    collar_loc=points\n)"
      ]
    },
    {
      "cell_type": "markdown",
      "metadata": {},
      "source": [
        "## Visualizing the Borehole Collars\nOnce we have the borehole collars data, we can visualize them in 3D using the `pyvista` package. This gives us a good \noverview of where the boreholes are located in space. In this visualization, each borehole will be represented by a point, \nand we will label the boreholes using their IDs.\n\n"
      ]
    },
    {
      "cell_type": "code",
      "execution_count": null,
      "metadata": {
        "collapsed": false
      },
      "outputs": [],
      "source": [
        "well_mesh = to_pyvista_points(collars.collar_loc)\n\n# Plot the collar points\npv_plot([well_mesh], image_2d=False)"
      ]
    },
    {
      "cell_type": "markdown",
      "metadata": {},
      "source": [
        "## Reading Borehole Survey Data\nBorehole surveys give us information about the trajectory of each borehole, including its depth (measured depth). \nThe survey data allows us to compute the full 3D path of each wellbore. We will use the `read_survey` function from \n`subsurface` to read this data.\n\n"
      ]
    },
    {
      "cell_type": "markdown",
      "metadata": {},
      "source": [
        "Create the Survey object\n\n"
      ]
    },
    {
      "cell_type": "code",
      "execution_count": null,
      "metadata": {
        "collapsed": false
      },
      "outputs": [],
      "source": [
        "survey_df: pd.DataFrame = read_survey(\n    GenericReaderFilesHelper(\n        file_or_buffer=raw_borehole_data_csv,\n        index_col=\"name\",\n        usecols=[\"name\", \"md\"]\n    )\n)\n\nsurvey: Survey = Survey.from_df(survey_df)\n\nsurvey"
      ]
    },
    {
      "cell_type": "markdown",
      "metadata": {},
      "source": [
        "## Reading Lithology Data\nNext, we will read the lithology data. Lithology logs describe the rock type or geological unit encountered at different \ndepths within each borehole. Using `read_lith`, we will extract the lithology data, which includes the top and base depths\nof each geological formation within the borehole, as well as the formation name.\n\n"
      ]
    },
    {
      "cell_type": "markdown",
      "metadata": {},
      "source": [
        "Your code here:\n\n"
      ]
    },
    {
      "cell_type": "code",
      "execution_count": null,
      "metadata": {
        "collapsed": false
      },
      "outputs": [],
      "source": [
        "lith = read_lith(\n    GenericReaderFilesHelper(\n        file_or_buffer=raw_borehole_data_csv,\n        usecols=['name', 'top', 'base', 'formation'],\n        columns_map={\n            'top': 'top',\n            'base': 'base',\n            'formation': 'component lith',\n        }\n    )\n)\n\n# Update survey data with lithology information\nsurvey.update_survey_with_lith(lith)\n\nlith"
      ]
    },
    {
      "cell_type": "markdown",
      "metadata": {},
      "source": [
        "## Creating a Borehole Set and Visualizing in 3D\nNow that we have both the collar data and the lithology logs, we can combine them into a `BoreholeSet` object. This object \ncombines the collar, survey, and lithology data and allows us to create a 3D visualization of the borehole trajectories and\ntheir associated lithologies.\n\nWe will use `pyvista` to plot the borehole trajectories as lines, and we will color them according to their lithologies. \nAdditionally, we will label the collars for easy identification.\n\n"
      ]
    },
    {
      "cell_type": "code",
      "execution_count": null,
      "metadata": {
        "collapsed": false
      },
      "outputs": [],
      "source": [
        "# Combine collar and survey into a BoreholeSet\nborehole_set = BoreholeSet(\n    collars=collars,\n    survey=survey,\n    merge_option=MergeOptions.INTERSECT\n)"
      ]
    },
    {
      "cell_type": "markdown",
      "metadata": {},
      "source": [
        "Visualize boreholes with pyvista\n\n"
      ]
    },
    {
      "cell_type": "code",
      "execution_count": null,
      "metadata": {
        "collapsed": false
      },
      "outputs": [],
      "source": [
        "import matplotlib.pyplot as plt\n\nwell_mesh = to_pyvista_line(\n    line_set=borehole_set.combined_trajectory,\n    active_scalar=\"lith_ids\",\n    radius=40\n)\n\np = init_plotter()\n\n# Set colormap for lithologies\nboring_cmap = plt.get_cmap(name=\"viridis\", lut=14)\np.add_mesh(well_mesh, cmap=boring_cmap)\n\ncollar_mesh = to_pyvista_points(collars.collar_loc)\n\np.add_mesh(collar_mesh, render_points_as_spheres=True)\np.add_point_labels(\n    points=collars.collar_loc.points,\n    labels=collars.ids,\n    point_size=10,\n    shape_opacity=0.5,\n    font_size=12,\n    bold=True\n)\n\n\np.show()"
      ]
    },
    {
      "cell_type": "markdown",
      "metadata": {},
      "source": [
        "## Structural Elements from Borehole Set\n\nNow that we have successfully imported and visualized the borehole data, we can move on to creating the geological \nformations (or structural elements) based on the borehole data. Each lithological unit will be associated with a unique \nidentifier and a color, allowing us to distinguish between different formations when we visualize the model.\n\nGemPy offers the function `gempy.structural_elements_from_borehole_set`, which extracts these structural elements from \nthe borehole data and associates each one with a name, ID, and color.\n\n"
      ]
    },
    {
      "cell_type": "markdown",
      "metadata": {},
      "source": [
        "Initialize the color generator for formations\n\n"
      ]
    },
    {
      "cell_type": "code",
      "execution_count": null,
      "metadata": {
        "collapsed": false
      },
      "outputs": [],
      "source": [
        "colors_generator = gp.data.ColorsGenerator()\n\n# Define formations and colors\nelements = gp.structural_elements_from_borehole_set(\n    borehole_set=borehole_set,\n    elements_dict={\n        \"Basement\": {\n            \"id\": -1,\n            \"color\": next(colors_generator)\n        },\n        \"etchgoin\": {\n            \"id\": 1,\n            \"color\": next(colors_generator)\n        },\n        \"macoma\": {\n            \"id\": 2,\n            \"color\": next(colors_generator)\n        },\n        \"chanac\": {\n            \"id\": 3,\n            \"color\": next(colors_generator)\n        },\n        \"mclure\": {\n            \"id\": 4,\n            \"color\": next(colors_generator)\n        },\n        \"santa_margarita\": {\n            \"id\": 5,\n            \"color\": next(colors_generator)\n        },\n        \"fruitvale\": {\n            \"id\": 6,\n            \"color\": next(colors_generator)\n        },\n        \"round_mountain\": {\n            \"id\": 7,\n            \"color\": next(colors_generator)\n        },\n        \"olcese\": {\n            \"id\": 8,\n            \"color\": next(colors_generator)\n        },\n        \"freeman_jewett\": {\n            \"id\": 9,\n            \"color\": next(colors_generator)\n        },\n        \"vedder\": {\n            \"id\": 10,\n            \"color\": next(colors_generator)\n        },\n        \"eocene\": {\n            \"id\": 11,\n            \"color\": next(colors_generator)\n        },\n        \"cretaceous\": {\n            \"id\": 12,\n            \"color\": next(colors_generator)\n        },\n    }\n)"
      ]
    },
    {
      "cell_type": "markdown",
      "metadata": {},
      "source": [
        "## Initializing the GemPy Model\nAfter defining the geological formations, we need to initialize the GemPy model. The first step in this process is to \ncreate a `GeoModel` object, which serves as the core container for all data related to the geological model.\n\nWe will also define a **regular grid** to interpolate the geological layers. GemPy uses a meshless interpolator to \ncreate geological models in 3D space, but grids are convenient for visualization and computation.\n\nGemPy supports various grid types, such as regular grids for visualization, custom grids, topographic grids, and more.\nFor this example, we will use a regular grid with a medium resolution.\n\n"
      ]
    },
    {
      "cell_type": "code",
      "execution_count": null,
      "metadata": {
        "collapsed": false
      },
      "outputs": [],
      "source": [
        "import gempy_viewer as gpv\n\n# Create a structural group with the elements\ngroup = gp.data.StructuralGroup(\n    name=\"Stratigraphic Pile\",\n    elements=elements,\n    structural_relation=gp.data.StackRelationType.ERODE\n)\n\n# Define the structural frame\nstructural_frame = gp.data.StructuralFrame(\n    structural_groups=[group],\n    color_gen=colors_generator\n)"
      ]
    },
    {
      "cell_type": "markdown",
      "metadata": {},
      "source": [
        "## Defining Model Extent and Grid Resolution\nWe now determine the extent of our model based on the surface points provided. This ensures that the grid covers the\nentire area where the geological data points are located. Additionally, we set a grid resolution of 50x50x50 for a \nbalance between performance and model detail.\n\n"
      ]
    },
    {
      "cell_type": "code",
      "execution_count": null,
      "metadata": {
        "collapsed": false
      },
      "outputs": [],
      "source": [
        "all_surface_points_coords: gp.data.SurfacePointsTable = structural_frame.surface_points_copy\nextent_from_data = all_surface_points_coords.xyz.min(axis=0), all_surface_points_coords.xyz.max(axis=0)\n# Initialize GeoModel\ngeo_model = gp.data.GeoModel(\n    name=\"Stratigraphic Pile\",\n    structural_frame=structural_frame,\n    grid=gp.data.Grid(\n        extent=[extent_from_data[0][0], extent_from_data[1][0], extent_from_data[0][1], extent_from_data[1][1], extent_from_data[0][2], extent_from_data[1][2]],\n        resolution=(50, 50, 50)\n    ),\n    interpolation_options=gp.data.InterpolationOptions(\n        range=5,\n        c_o=10,\n        mesh_extraction=True,\n        number_octree_levels=3,\n    ),\n)"
      ]
    },
    {
      "cell_type": "markdown",
      "metadata": {},
      "source": [
        "## 3D Visualization of the Model\nAfter initializing the GeoModel, we can proceed to visualize it in 3D using GemPy's `plot_3d` function. This function \nallows us to see the full 3D geological model with all the defined formations.\n\n"
      ]
    },
    {
      "cell_type": "code",
      "execution_count": null,
      "metadata": {
        "collapsed": false
      },
      "outputs": [],
      "source": [
        "gempy_plot = gpv.plot_3d(\n    model=geo_model,\n    kwargs_pyvista_bounds={\n            'show_xlabels': False,\n            'show_ylabels': False,\n    },\n    show=True,\n    image=False\n)"
      ]
    },
    {
      "cell_type": "markdown",
      "metadata": {},
      "source": [
        "## Adding Boreholes and Collars to the Visualization\nTo enhance the 3D model, we can combine the geological formations with the borehole trajectories and collar points that we\nvisualized earlier. This will give us a complete picture of the subsurface, showing both the lithological units and the borehole paths.\n\n"
      ]
    },
    {
      "cell_type": "code",
      "execution_count": null,
      "metadata": {
        "collapsed": false
      },
      "outputs": [],
      "source": [
        "sp_mesh: pyvista.PolyData = gempy_plot.surface_points_mesh\n\npyvista_plotter = init_plotter()\npyvista_plotter.show_bounds(all_edges=True)\n\n# Set limits for the units to visualize\nunits_limit = [0, 13]\npyvista_plotter.add_mesh(\n    well_mesh.threshold(units_limit),\n    cmap=\"tab20c\",\n    clim=units_limit\n)\n\n# Add collar points\npyvista_plotter.add_mesh(\n    collar_mesh,\n    point_size=10,\n    render_points_as_spheres=True\n)\n\n# Label the collars with their names\npyvista_plotter.add_point_labels(\n    points=collars.collar_loc.points,\n    labels=collars.ids,\n    point_size=10,\n    shape_opacity=0.5,\n    font_size=12,\n    bold=True\n)\n# Add surface points from the geological model\npyvista_plotter.add_actor(gempy_plot.surface_points_actor)\n\n# Show the final 3D plot\npyvista_plotter.show()"
      ]
    },
    {
      "cell_type": "markdown",
      "metadata": {},
      "source": [
        "## Step-by-Step Model Building\nWhen building a geological model, it's often better to proceed step by step, adding one surface at a time, rather\nthan trying to interpolate all formations at once. This allows for better control over the model and helps avoid \npotential issues from noisy or irregular data.\n\n\n"
      ]
    },
    {
      "cell_type": "markdown",
      "metadata": {},
      "source": [
        "## Adding Surfaces and Formations\nIn GemPy, surfaces mark the bottom of each geological unit. For our model, we will add the first two formations \nalong with the basement, which always needs to be defined. After this, we can visualize the surfaces in 2D.\n\n"
      ]
    },
    {
      "cell_type": "code",
      "execution_count": null,
      "metadata": {
        "collapsed": false
      },
      "outputs": [],
      "source": [
        "group = gp.data.StructuralGroup(\n    name=\"Stratigraphic Pile Top\",\n    elements=elements[:3],\n    structural_relation=gp.data.StackRelationType.ERODE\n)\ngeo_model.structural_frame.structural_groups[0] = group\n\n\n# Visualize the surfaces in 2D\n\ng2d = gpv.plot_2d(geo_model)"
      ]
    },
    {
      "cell_type": "code",
      "execution_count": null,
      "metadata": {
        "collapsed": false
      },
      "outputs": [],
      "source": [
        "g2d.fig"
      ]
    },
    {
      "cell_type": "markdown",
      "metadata": {},
      "source": [
        "## Minimum Input Data for Interpolation\nTo interpolate the geological layers, GemPy requires at least:\n\n- Two surface points per geological unit\n- One orientation measurement per series\n\nLet's add an orientation for one of the units.\n\n"
      ]
    },
    {
      "cell_type": "code",
      "execution_count": null,
      "metadata": {
        "collapsed": false
      },
      "outputs": [],
      "source": [
        "gp.add_orientations(\n    x=[300000],\n    y=[3930000],\n    z=[0],\n    elements_names=elements[0].name,\n    pole_vector=np.array([0, 0, 1]),\n    geo_model=geo_model\n)"
      ]
    },
    {
      "cell_type": "markdown",
      "metadata": {},
      "source": [
        "## Model Computation\nNow that we have the necessary surface points and orientations, we can compute the final geological model. The \n`compute_model` function will take all the input data and perform the interpolation to generate the 3D subsurface structure.\n\n"
      ]
    },
    {
      "cell_type": "code",
      "execution_count": null,
      "metadata": {
        "collapsed": false
      },
      "outputs": [],
      "source": [
        "geo_model.interpolation_options"
      ]
    },
    {
      "cell_type": "code",
      "execution_count": null,
      "metadata": {
        "collapsed": false
      },
      "outputs": [],
      "source": [
        "gp.compute_model(geo_model)"
      ]
    },
    {
      "cell_type": "markdown",
      "metadata": {},
      "source": [
        "## Final 3D Visualization\nLet's take a look at the final model, combining the borehole data and geological formations in 3D.\n\n"
      ]
    },
    {
      "cell_type": "code",
      "execution_count": null,
      "metadata": {
        "collapsed": false
      },
      "outputs": [],
      "source": [
        "g3d = gpv.plot_3d(geo_model, show_lith=False, show=False)\ng3d.p.add_mesh(well_mesh)\ng3d.p.show()"
      ]
    },
    {
      "cell_type": "markdown",
      "metadata": {},
      "source": [
        "## Conclusion\n\nIn this tutorial, we have demonstrated how to take borehole data and create a 3D geological model in GemPy. We explored \nhow to extract structural elements from borehole data, set up a regular grid for interpolation, and visualize the \nresulting model in both 2D and 3D.\n\nGemPy's flexibility allows you to iteratively build models and refine your inputs for more accurate results, and it\nintegrates seamlessly with borehole data for subsurface geological modeling.\n\nFor further reading and resources, check out:\n\n\n## Extra Resources\nPage:\nhttps://www.gempy.org/\n\nPaper:\nhttps://www.gempy.org/theory\n\nGitub:\nhttps://github.com/cgre-aachen/gempy\n\n## Further training and collaborations\nhttps://www.terranigma-solutions.com/\n\n\n\n\n"
      ]
    }
  ],
  "metadata": {
    "kernelspec": {
      "display_name": "Python 3",
      "language": "python",
      "name": "python3"
    },
    "language_info": {
      "codemirror_mode": {
        "name": "ipython",
        "version": 3
      },
      "file_extension": ".py",
      "mimetype": "text/x-python",
      "name": "python",
      "nbconvert_exporter": "python",
      "pygments_lexer": "ipython3",
      "version": "3.10.12"
    }
  },
  "nbformat": 4,
  "nbformat_minor": 0
}