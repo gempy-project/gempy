{
  "cells": [
    {
      "cell_type": "code",
      "execution_count": null,
      "metadata": {
        "collapsed": false
      },
      "outputs": [],
      "source": [
        "%matplotlib inline\nfrom pyvista import set_plot_theme\nset_plot_theme('document')"
      ]
    },
    {
      "cell_type": "markdown",
      "metadata": {},
      "source": [
        "\n# 3.1: Simple example of kriging in gempy\n"
      ]
    },
    {
      "cell_type": "markdown",
      "metadata": {},
      "source": [
        "In this notebook it will be shown how to create a kriged or simulated\nfield in a simple geological model in gempy. We start by creating a\nsimple model with three horizontally layered units, as shown in the\ngempy examples.\n\n\n"
      ]
    },
    {
      "cell_type": "markdown",
      "metadata": {},
      "source": [
        "Importing GemPy\n\n"
      ]
    },
    {
      "cell_type": "code",
      "execution_count": null,
      "metadata": {
        "collapsed": false
      },
      "outputs": [],
      "source": [
        "import gempy as gp\nimport gempy_viewer as gpv\n\n# Importing auxiliary libraries\nimport numpy as np\nimport matplotlib.pyplot as plt\nimport os\n\n# new for this\nfrom gempy_plugins.kriging import kriging\n\nnp.random.seed(5555)"
      ]
    },
    {
      "cell_type": "markdown",
      "metadata": {},
      "source": [
        "Creating the model by importing the input data and displaying it:\n\n\n"
      ]
    },
    {
      "cell_type": "code",
      "execution_count": null,
      "metadata": {
        "collapsed": false
      },
      "outputs": [],
      "source": [
        "data_path = os.path.abspath('../../')\n\ngeo_data: gp.data.GeoModel = gp.create_geomodel(\n    project_name='kriging',\n    extent=[0, 1000, 0, 50, 0, 1000],\n    resolution=[50, 10, 50],\n    refinement=1,\n    importer_helper=gp.data.ImporterHelper(\n        path_to_orientations=data_path + \"/data/input_data/jan_models/model1_orientations.csv\",\n        path_to_surface_points=data_path + \"/data/input_data/jan_models/model1_surface_points.csv\",\n    )\n)"
      ]
    },
    {
      "cell_type": "markdown",
      "metadata": {},
      "source": [
        "Setting and ordering the units and series:\n\n\n"
      ]
    },
    {
      "cell_type": "code",
      "execution_count": null,
      "metadata": {
        "collapsed": false
      },
      "outputs": [],
      "source": [
        "gp.map_stack_to_surfaces(\n    gempy_model=geo_data,\n    mapping_object={\n        \"Strat_Series\": ('rock2', 'rock1'),\n        \"Basement_Series\": ('basement')\n    }\n)"
      ]
    },
    {
      "cell_type": "markdown",
      "metadata": {},
      "source": [
        "Calculating the model:\n\n\n"
      ]
    },
    {
      "cell_type": "markdown",
      "metadata": {},
      "source": [
        "no mesh computed as basically 2D model\n\n"
      ]
    },
    {
      "cell_type": "code",
      "execution_count": null,
      "metadata": {
        "collapsed": false
      },
      "outputs": [],
      "source": [
        "sol = gp.compute_model(geo_data)"
      ]
    },
    {
      "cell_type": "markdown",
      "metadata": {},
      "source": [
        "So here is the very simple, basically 2D model that we created:\n\n\n"
      ]
    },
    {
      "cell_type": "code",
      "execution_count": null,
      "metadata": {
        "collapsed": false
      },
      "outputs": [],
      "source": [
        "gpv.plot_2d(geo_data, cell_number=0, show_data=False)"
      ]
    },
    {
      "cell_type": "markdown",
      "metadata": {},
      "source": [
        "## 1) Creating domain\n\nLet us assume we have a couple of measurements in a domain of interest\nwithin our model. In our case the unit of interest is the central rock\nlayer (rock1). In the kriging module we can define the domain by\nhanding over a number of surfaces by id - in this case the id of rock1\nis 2. In addition we define four input data points in cond_data, each\ndefined by x,y,z coordinate and a measurement value.\n\n\n"
      ]
    },
    {
      "cell_type": "markdown",
      "metadata": {},
      "source": [
        "conditioning data (data measured at locations)\n\n"
      ]
    },
    {
      "cell_type": "code",
      "execution_count": null,
      "metadata": {
        "collapsed": false
      },
      "outputs": [],
      "source": [
        "cond_data = np.array([[100, .5, 500, 2], [900, .5, 500, 1],\n                      [500, .5, 550, 1], [300, .5, 400, 5]])"
      ]
    },
    {
      "cell_type": "markdown",
      "metadata": {},
      "source": [
        "creating a domain object from the gempy solution, a defined domain conditioning data\n\n"
      ]
    },
    {
      "cell_type": "code",
      "execution_count": null,
      "metadata": {
        "collapsed": false
      },
      "outputs": [],
      "source": [
        "domain = kriging.Domain(\n    model_solutions=sol,\n    transform=geo_data.input_transform,\n    domain=[2],\n    data=cond_data\n)"
      ]
    },
    {
      "cell_type": "markdown",
      "metadata": {},
      "source": [
        "## 2) Creating a variogram model\n\n\n"
      ]
    },
    {
      "cell_type": "code",
      "execution_count": null,
      "metadata": {
        "collapsed": false
      },
      "outputs": [],
      "source": [
        "variogram_model = kriging.VariogramModel(\n    theoretical_model='exponential',\n    range_=200,\n    sill=np.var(cond_data[:, 3])\n)"
      ]
    },
    {
      "cell_type": "code",
      "execution_count": null,
      "metadata": {
        "collapsed": false
      },
      "outputs": [],
      "source": [
        "variogram_model.plot(type_='both', show_parameters=True)\nplt.show()"
      ]
    },
    {
      "cell_type": "markdown",
      "metadata": {},
      "source": [
        "## 3) Kriging interpolation\n\n\n"
      ]
    },
    {
      "cell_type": "markdown",
      "metadata": {},
      "source": [
        "In the following we define an object called kriging_model and set all\ninput parameters. Finally we generate the kriged field.\n\n\n"
      ]
    },
    {
      "cell_type": "code",
      "execution_count": null,
      "metadata": {
        "collapsed": false
      },
      "outputs": [],
      "source": [
        "kriging_solution = kriging.create_kriged_field(domain, variogram_model)"
      ]
    },
    {
      "cell_type": "markdown",
      "metadata": {},
      "source": [
        "The result of our calculation is saved in the following dataframe,\ncontaining an estimated value and the kriging variance for each point in\nthe grid:\n\n\n"
      ]
    },
    {
      "cell_type": "code",
      "execution_count": null,
      "metadata": {
        "collapsed": false
      },
      "outputs": [],
      "source": [
        "kriging_solution.results_df.head()"
      ]
    },
    {
      "cell_type": "markdown",
      "metadata": {},
      "source": [
        "It is also possible to plot the results in cross section similar to the\nway gempy models are plotted.\n\n\n"
      ]
    },
    {
      "cell_type": "code",
      "execution_count": null,
      "metadata": {
        "collapsed": false
      },
      "outputs": [],
      "source": [
        "from gempy_viewer.modules.plot_2d.visualization_2d import Plot2D\n\nplot_2d: Plot2D = gpv.plot_2d(\n    model=geo_data,\n    cell_number=0,\n    show_data=False,\n    show=False,\n    kwargs_lithology={ 'alpha': 0.5 }\n)\nkriging.plot_kriging_results(\n    geo_data=geo_data,\n    kriging_solution=kriging_solution,\n    plot_2d=plot_2d,\n    title='Kriging interpolation: Estimated values',\n    result_column=['estimated value']\n)"
      ]
    },
    {
      "cell_type": "code",
      "execution_count": null,
      "metadata": {
        "collapsed": false
      },
      "outputs": [],
      "source": [
        "plot_2d_both = gpv.plot_2d(\n    model=geo_data,\n    cell_number=[0, 0],\n    show_data=False,\n    show=False,\n    kwargs_lithology={ 'alpha': 0.5 }\n)\n\nkriging.plot_kriging_results(\n    geo_data=geo_data,\n    kriging_solution=kriging_solution,\n    plot_2d=plot_2d_both,\n    title='Kriging interpolation: Estimated values',\n    result_column=['estimated value', 'estimation variance']\n)"
      ]
    },
    {
      "cell_type": "markdown",
      "metadata": {},
      "source": [
        "## 4) Simulated field\n\nBased on the same objects (domain and varigoram model) also a simulated\nfield (stationary Gaussian Field) can be generated. A Sequential\nGaussian Simulation approach is applied in this module:\n\n\n"
      ]
    },
    {
      "cell_type": "code",
      "execution_count": null,
      "metadata": {
        "collapsed": false
      },
      "outputs": [],
      "source": [
        "solution_sim = kriging.create_gaussian_field(domain, variogram_model)"
      ]
    },
    {
      "cell_type": "code",
      "execution_count": null,
      "metadata": {
        "collapsed": false
      },
      "outputs": [],
      "source": [
        "solution_sim.results_df.head()"
      ]
    },
    {
      "cell_type": "code",
      "execution_count": null,
      "metadata": {
        "collapsed": false
      },
      "outputs": [],
      "source": [
        "solution_sim.results_df['estimated value']"
      ]
    },
    {
      "cell_type": "code",
      "execution_count": null,
      "metadata": {
        "collapsed": false
      },
      "outputs": [],
      "source": [
        "plot_2d: Plot2D = gpv.plot_2d(\n    model=geo_data,\n    cell_number=0,\n    show_data=False,\n    show=False,\n    kwargs_lithology={ 'alpha': 0.5 }\n)\nkriging.plot_kriging_results(\n    geo_data=geo_data,\n    kriging_solution=solution_sim,\n    plot_2d=plot_2d,\n    title='Kriging interpolation: Estimated values',\n    result_column=['estimated value']\n)"
      ]
    },
    {
      "cell_type": "code",
      "execution_count": null,
      "metadata": {
        "collapsed": false
      },
      "outputs": [],
      "source": [
        "plot_2d_both = gpv.plot_2d(\n    model=geo_data,\n    cell_number=[0, 0],\n    show_data=False,\n    show=False,\n    kwargs_lithology={ 'alpha': 0.5 }\n)\n\nkriging.plot_kriging_results(\n    geo_data=geo_data,\n    kriging_solution=solution_sim,\n    plot_2d=plot_2d_both,\n    title='Kriging interpolation: Estimated values',\n    result_column=['estimated value', 'estimation variance']\n)\n# sphinx_gallery_thumbnail_number = 3"
      ]
    }
  ],
  "metadata": {
    "kernelspec": {
      "display_name": "Python 3",
      "language": "python",
      "name": "python3"
    },
    "language_info": {
      "codemirror_mode": {
        "name": "ipython",
        "version": 3
      },
      "file_extension": ".py",
      "mimetype": "text/x-python",
      "name": "python",
      "nbconvert_exporter": "python",
      "pygments_lexer": "ipython3",
      "version": "3.10.12"
    }
  },
  "nbformat": 4,
  "nbformat_minor": 0
}