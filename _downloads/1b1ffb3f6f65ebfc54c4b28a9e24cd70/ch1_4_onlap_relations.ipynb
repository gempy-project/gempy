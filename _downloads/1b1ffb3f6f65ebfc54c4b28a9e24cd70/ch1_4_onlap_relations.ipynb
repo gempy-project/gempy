{
  "cells": [
    {
      "cell_type": "code",
      "execution_count": null,
      "metadata": {
        "collapsed": false
      },
      "outputs": [],
      "source": [
        "%matplotlib inline\nfrom pyvista import set_plot_theme\nset_plot_theme('document')"
      ]
    },
    {
      "cell_type": "markdown",
      "metadata": {},
      "source": [
        "\n# 1.4: Unconformity relationships\n"
      ]
    },
    {
      "cell_type": "code",
      "execution_count": null,
      "metadata": {
        "collapsed": false
      },
      "outputs": [],
      "source": [
        "# sphinx_gallery_thumbnail_number = 2"
      ]
    },
    {
      "cell_type": "markdown",
      "metadata": {},
      "source": [
        "Importing gempy\n\n"
      ]
    },
    {
      "cell_type": "code",
      "execution_count": null,
      "metadata": {
        "collapsed": false
      },
      "outputs": [],
      "source": [
        "import gempy as gp\nimport gempy_viewer as gpv\n\n# Aux imports\nimport numpy as np\nimport os\n\nfrom gempy_engine.config import AvailableBackends\n\nnp.random.seed(1515)"
      ]
    },
    {
      "cell_type": "markdown",
      "metadata": {},
      "source": [
        "We import a model from an existing folder, representing a subduction\nzone with onlap relationships. \n\n"
      ]
    },
    {
      "cell_type": "code",
      "execution_count": null,
      "metadata": {
        "collapsed": false
      },
      "outputs": [],
      "source": [
        "data_path = os.path.abspath('../../')\n\ngeo_model: gp.data.GeoModel = gp.create_geomodel(\n    project_name='Onlap_relations',\n    extent=[-200, 1000, -500, 500, -1000, 0],\n    resolution=[50, 50, 50],\n    refinement=6,\n    importer_helper=gp.data.ImporterHelper(\n        path_to_orientations=data_path + \"/data/input_data/tut-ch1-4/tut_ch1-4_orientations.csv\",\n        path_to_surface_points=data_path + \"/data/input_data/tut-ch1-4/tut_ch1-4_points.csv\",\n    )\n)\n\ngp.set_topography_from_random(grid=geo_model.grid, d_z=np.array([-600, -100]))"
      ]
    },
    {
      "cell_type": "code",
      "execution_count": null,
      "metadata": {
        "collapsed": false
      },
      "outputs": [],
      "source": [
        "gpv.plot_2d(geo_model)"
      ]
    },
    {
      "cell_type": "markdown",
      "metadata": {},
      "source": [
        "Raw structural frame\n\n"
      ]
    },
    {
      "cell_type": "code",
      "execution_count": null,
      "metadata": {
        "collapsed": false
      },
      "outputs": [],
      "source": [
        "geo_model.structural_frame"
      ]
    },
    {
      "cell_type": "code",
      "execution_count": null,
      "metadata": {
        "collapsed": false
      },
      "outputs": [],
      "source": [
        "geo_model.input_transform.apply_anisotropy(gp.data.GlobalAnisotropy.NONE)\ngp.add_structural_group(\n    model=geo_model,\n    group_index=0,\n    structural_group_name=\"seafloor_series\",\n    elements=[geo_model.structural_frame.get_element_by_name(\"seafloor\")],\n    structural_relation=gp.data.StackRelationType.ERODE,\n)\n\ngp.add_structural_group(\n    model=geo_model,\n    group_index=1,\n    structural_group_name=\"right_series\",\n    elements=[\n        geo_model.structural_frame.get_element_by_name(\"rock1\"),\n        geo_model.structural_frame.get_element_by_name(\"rock2\"),\n    ],\n    structural_relation=gp.data.StackRelationType.ONLAP\n)\n\ngp.add_structural_group(\n    model=geo_model,\n    group_index=2,\n    structural_group_name=\"onlap_series\",\n    elements=[geo_model.structural_frame.get_element_by_name(\"onlap_surface\")],\n    structural_relation=gp.data.StackRelationType.ERODE\n)\n\ngp.add_structural_group(\n    model=geo_model,\n    group_index=3,\n    structural_group_name=\"left_series\",\n    elements=[geo_model.structural_frame.get_element_by_name(\"rock3\")],\n    structural_relation=gp.data.StackRelationType.BASEMENT\n)\n\ngp.remove_structural_group_by_name(model=geo_model, group_name=\"default_formation\")\n\n# Final structural frame\ngeo_model.structural_frame"
      ]
    },
    {
      "cell_type": "code",
      "execution_count": null,
      "metadata": {
        "collapsed": false
      },
      "outputs": [],
      "source": [
        "s = gp.compute_model(\n    gempy_model=geo_model,\n    engine_config=gp.data.GemPyEngineConfig(\n        backend=AvailableBackends.PYTORCH\n    )\n)"
      ]
    },
    {
      "cell_type": "code",
      "execution_count": null,
      "metadata": {
        "collapsed": false
      },
      "outputs": [],
      "source": [
        "gpv.plot_2d(geo_model, show_data=True)\ngpv.plot_3d(\n    model=geo_model,\n    show_surfaces=True,\n    show_data=True,\n    image=True,\n    show_topography=True,\n    kwargs_plot_structured_grid={'opacity': .2}\n)"
      ]
    },
    {
      "cell_type": "code",
      "execution_count": null,
      "metadata": {
        "collapsed": false
      },
      "outputs": [],
      "source": [
        "gpv.plot_2d(\n    model=geo_model,\n    cell_number=2,\n    override_regular_grid=geo_model.solutions.raw_arrays.mask_matrix[0],\n    show_data=True, kwargs_lithology={'cmap': 'gray', 'norm': None}\n)\n\ngpv.plot_2d(\n    model=geo_model,\n    cell_number=2,\n    override_regular_grid=geo_model.solutions.raw_arrays.mask_matrix[1],\n    show_data=True, kwargs_lithology={'cmap': 'gray', 'norm': None}\n)\n\ngpv.plot_2d(\n    model=geo_model,\n    cell_number=2,\n    override_regular_grid=geo_model.solutions.raw_arrays.mask_matrix[2],\n    show_data=True, kwargs_lithology={'cmap': 'gray', 'norm': None}\n)\n\ngpv.plot_2d(\n    model=geo_model,\n    cell_number=2,\n    override_regular_grid=geo_model.solutions.raw_arrays.mask_matrix[3],\n    show_data=True, kwargs_lithology={'cmap': 'gray', 'norm': None}\n)"
      ]
    },
    {
      "cell_type": "code",
      "execution_count": null,
      "metadata": {
        "collapsed": false
      },
      "outputs": [],
      "source": [
        "gpv.plot_2d(\n    model=geo_model,\n    cell_number=2,\n    override_regular_grid=geo_model.solutions.raw_arrays.mask_matrix_squeezed[0],\n    show_data=True, kwargs_lithology={'cmap': 'gray', 'norm': None}\n)\n\ngpv.plot_2d(\n    model=geo_model,\n    cell_number=2,\n    override_regular_grid=geo_model.solutions.raw_arrays.mask_matrix_squeezed[1],\n    show_data=True, kwargs_lithology={'cmap': 'gray', 'norm': None}\n)\n\ngpv.plot_2d(\n    model=geo_model,\n    cell_number=2,\n    override_regular_grid=geo_model.solutions.raw_arrays.mask_matrix_squeezed[2],\n    show_data=True, kwargs_lithology={'cmap': 'gray', 'norm': None}\n)\n\ngpv.plot_2d(\n    model=geo_model,\n    cell_number=2,\n    override_regular_grid=geo_model.solutions.raw_arrays.mask_matrix_squeezed[3],\n    show_data=True, kwargs_lithology={'cmap': 'gray', 'norm': None}\n)"
      ]
    }
  ],
  "metadata": {
    "kernelspec": {
      "display_name": "Python 3",
      "language": "python",
      "name": "python3"
    },
    "language_info": {
      "codemirror_mode": {
        "name": "ipython",
        "version": 3
      },
      "file_extension": ".py",
      "mimetype": "text/x-python",
      "name": "python",
      "nbconvert_exporter": "python",
      "pygments_lexer": "ipython3",
      "version": "3.10.12"
    }
  },
  "nbformat": 4,
  "nbformat_minor": 0
}