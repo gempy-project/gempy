{
  "cells": [
    {
      "cell_type": "code",
      "execution_count": null,
      "metadata": {
        "collapsed": false
      },
      "outputs": [],
      "source": [
        "%matplotlib inline\nfrom pyvista import set_plot_theme\nset_plot_theme('document')"
      ]
    },
    {
      "cell_type": "markdown",
      "metadata": {},
      "source": [
        "\n# 1.7: 3-D Visualization\n"
      ]
    },
    {
      "cell_type": "markdown",
      "metadata": {},
      "source": [
        "Importing GemPy\n\n"
      ]
    },
    {
      "cell_type": "code",
      "execution_count": null,
      "metadata": {
        "collapsed": false
      },
      "outputs": [],
      "source": [
        "import gempy as gp\nimport gempy_viewer as gpv\nfrom gempy import generate_example_model\nfrom gempy.core.data.enumerators import ExampleModel\nimport dotenv\n\ndotenv.load_dotenv()\n\n# sphinx_gallery_thumbnail_number = -1"
      ]
    },
    {
      "cell_type": "markdown",
      "metadata": {},
      "source": [
        "## Loading an example geomodel\n\n\n"
      ]
    },
    {
      "cell_type": "code",
      "execution_count": null,
      "metadata": {
        "collapsed": false
      },
      "outputs": [],
      "source": [
        "geo_model = generate_example_model(ExampleModel.GRABEN)\n\ngp.compute_model(geo_model)"
      ]
    },
    {
      "cell_type": "markdown",
      "metadata": {},
      "source": [
        "### Basic plotting API\n\n\n"
      ]
    },
    {
      "cell_type": "markdown",
      "metadata": {},
      "source": [
        "## Data plot\n\n\n"
      ]
    },
    {
      "cell_type": "code",
      "execution_count": null,
      "metadata": {
        "collapsed": false
      },
      "outputs": [],
      "source": [
        "gpv.plot_3d(\n    model=geo_model,\n    show_surfaces=False,\n    show_data=True,\n    show_lith=False,\n    image=False\n)"
      ]
    },
    {
      "cell_type": "markdown",
      "metadata": {},
      "source": [
        "## Geomodel plot\n\n\n"
      ]
    },
    {
      "cell_type": "code",
      "execution_count": null,
      "metadata": {
        "collapsed": false
      },
      "outputs": [],
      "source": [
        "gpv.plot_3d(geo_model, image=False)"
      ]
    },
    {
      "cell_type": "markdown",
      "metadata": {},
      "source": [
        "## LiquidEarth Integration\nBeyond the classical plotting capabilities introduced in GemPy v3, users can now also upload models to LiquidEarth. \n[LiquidEarth](https://www.terranigma-solutions.com/liquidearth) is a collaborative platform designed for 3D visualization,\ndeveloped by many of the main `gempy` maintainers,  with a strong focus on collaboration and sharing. \nThis makes it an excellent tool for sharing your models with others and viewing them across different platforms.\nTo upload a model to LiquidEarth, you must have an account and a user token. Once your model is uploaded, \nyou can easily share the link with anyone.\n\n"
      ]
    },
    {
      "cell_type": "code",
      "execution_count": null,
      "metadata": {
        "collapsed": false
      },
      "outputs": [],
      "source": [
        "link = gpv.plot_to_liquid_earth(\n    geo_model=geo_model,\n    space_name=\"[PUBLIC] GemPy Tutorial 1.7: 3-D Visualization\",\n    file_name=\"gempy_model\",\n    user_token=None,  # If None, it will try to grab it from the environment\n    grab_link=True,\n    make_new_space=False\n)\n\nprint(f\"Generated Link: {link}\")"
      ]
    },
    {
      "cell_type": "markdown",
      "metadata": {},
      "source": [
        "Now we can use [this link](https://liquidearth.app.link/gempy-promo) to visualize the model in Liquid Earth.\n\n"
      ]
    },
    {
      "cell_type": "markdown",
      "metadata": {},
      "source": [
        "<img src=\"file://_static/gp_model_in_le.png\">\n\n"
      ]
    }
  ],
  "metadata": {
    "kernelspec": {
      "display_name": "Python 3",
      "language": "python",
      "name": "python3"
    },
    "language_info": {
      "codemirror_mode": {
        "name": "ipython",
        "version": 3
      },
      "file_extension": ".py",
      "mimetype": "text/x-python",
      "name": "python",
      "nbconvert_exporter": "python",
      "pygments_lexer": "ipython3",
      "version": "3.10.12"
    }
  },
  "nbformat": 4,
  "nbformat_minor": 0
}