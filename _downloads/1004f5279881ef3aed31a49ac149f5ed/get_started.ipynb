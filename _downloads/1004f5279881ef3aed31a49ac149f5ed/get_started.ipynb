{
  "cells": [
    {
      "cell_type": "code",
      "execution_count": null,
      "metadata": {
        "collapsed": false
      },
      "outputs": [],
      "source": [
        "%matplotlib inline\nfrom pyvista import set_plot_theme\nset_plot_theme('document')"
      ]
    },
    {
      "cell_type": "markdown",
      "metadata": {},
      "source": [
        "\n# Getting Started\n"
      ]
    },
    {
      "cell_type": "markdown",
      "metadata": {},
      "source": [
        "Welcome to our introductory notebook on GemPy! Here, we will cover the essentials of GemPy, introducing you to the core concepts of\ngeomodeling and demonstrating how you can leverage these to create your own geological models. We will guide you through building a\nmodel from scratch, based on a conceptual 2D cross-section with boreholes. This simple example will highlight key workflow steps \nand structural features that GemPy can model.\n\n## Installation\n\nhttps://docs.gempy.org/installation.html\n\n## Setting Up Our Environment: Importing Libraries\n\nTo work with Python packages in our notebook, we need to import them first. Let's start with that. In the following cell, we will\nimport GemPy and its GemPy viewer module, which we will be using extensively. Additionally, we will use NumPy for various functions,\nas well as Matplotlib and some of its specific modules/functions for visualizing our data and results in 2D and 3D.\n\n"
      ]
    },
    {
      "cell_type": "markdown",
      "metadata": {},
      "source": [
        "Set environmental variable DEFAULT_BACKEND = PYTORCH\n\n"
      ]
    },
    {
      "cell_type": "code",
      "execution_count": null,
      "metadata": {
        "collapsed": false
      },
      "outputs": [],
      "source": [
        "import os\n\nos.environ[\"DEFAULT_BACKEND\"] = \"PYTORCH\"\n\n# Importing GemPy and viewer\nimport gempy as gp\nimport gempy_viewer as gpv\n\n# Auxiliary libraries\nimport numpy as np\nimport matplotlib.pyplot as plt\nimport matplotlib.image as mpimg\n\n# sphinx_gallery_thumbnail_number = 11"
      ]
    },
    {
      "cell_type": "markdown",
      "metadata": {},
      "source": [
        "Main Classes and Objects in GemPy\n\"\"\"\"\"\"\"\"\"\"\"\"\"\"\"\"\"\"\"\"\"\"\"\"\"\"\"\"\"\"\"\"\" \nGemPy uses Python classes and objects to store and manipulate the data used for modeling. This object-oriented approach helps make\nthe code more modular, reusable, and easier to understand. Each class represents a different aspect of the geological modeling process,\nand objects are instances of these classes that contain specific data and methods to operate on that data.\n\nHere are the main data classes:\n\n-  :obj:`gempy.core.data.GeoModel`\n-  :obj:`gempy.core.data.StructuralFrame`\n-  :obj:`gempy.core.data.StructuralGroup`\n-  :obj:`gempy.core.data.StructuralElement`\n-  :obj:`gempy.core.data.SurfacePointsTable`\n-  :obj:`gempy.core.data.OrientationsTable`\n-  :obj:`gempy.core.data.Grid`\n\n## Setting Up a Model: Initializing Objects and Input Data\nBefore computing a geological model, we need to set up the relevant objects and input data on which the model will be based. Data can \nbe input in various ways. One way is to start from scratch and manually input surface points and orientations. Another way is to import \nexisting data from a file, such as a CSV. Here, we will start with the first method to showcase the essential elements and rules needed \nto build a model in GemPy.\n\n## Starting a Model from Scratch Based on a Cross-Section\nThis first example will be based on a conceptual cross-section that includes data from three boreholes in a line. Let's start by loading \nthe image of this cross-section and plotting it using Matplotlib. For this example, we assume that the size of the image corresponds to \nthe real extent of the data. We will see that extent in the plot and also return it by looking at the shape of the image file:\n\n"
      ]
    },
    {
      "cell_type": "code",
      "execution_count": null,
      "metadata": {
        "collapsed": false
      },
      "outputs": [],
      "source": [
        "img = mpimg.imread('boreholes_concept.png')\nplt.imshow(img, origin='upper', alpha=.8)\nimg.shape[:2]"
      ]
    },
    {
      "cell_type": "markdown",
      "metadata": {},
      "source": [
        "OK, so we will base our model creation on this cross-section. Let's get started. To initialize our model, we create a `gempy.Model` object. \nThis object will contain all other data structures and necessary functionality. Here\u2019s what we will do:\n\n1. **Name the Model**: Assign a name to our model.\n\n2. **Define Extent**: Specify the extent in x, y, and z. The extent should make sense depending on your use case and should enclose all \n   relevant data in a representative space. For this example, we align the extent with the cross-section we imported:\n\n    - **X** is parallel to the section.\n    - **Y** is perpendicular. Since we have no data along y, a narrow extent makes sense. We choose an extent of 400, defining it as -200 to 200, \n      placing the cross-section at y=0 (in the middle).\n    - **Z** representing depth, takes a negative value since we are modeling the subsurface.\n\n3. **Initialize Structural Framework**: Set up a default structural framework.\n\n4. **Define either resolution or refinement**: In GemPy 3, you can use either regular grids or octrees.\n    - **Regular grids**: Define a resolution (and refinement=None). A medium resolution of 50x50x50, for example, results in 125,000 voxels.\n      Model voxels are prisms, not cubes, so resolution can differ from extent. Avoid exceeding 100 cells in each direction (1,000,000 voxels)\n      to prevent high computational costs.\n    - **Octrees**: Define a level of refinement (and resolution=None). Higher refinement levels increase computational costs.\n\n.. admonition:: Note on choice of modeling grids \n\n   Which type of grid is used depends on the use case. Note that as of the current version of GemPy 3, \n   the rendering of surfaces uses dual-contouring, which is based on octrees. So even if you choose regular grids, octree-based computing will\n   be executed additionally in order to render the surfaces in 3D.\n\n"
      ]
    },
    {
      "cell_type": "code",
      "execution_count": null,
      "metadata": {
        "collapsed": false
      },
      "outputs": [],
      "source": [
        "geo_model = gp.create_geomodel(\n    project_name='Model1',\n    extent=[0, 780, -200, 200, -582, 0],\n    resolution=(50, 50, 50),\n    # refinement=4, # We will use octrees\n    structural_frame=gp.data.StructuralFrame.initialize_default_structure()\n)"
      ]
    },
    {
      "cell_type": "markdown",
      "metadata": {},
      "source": [
        "## The `geo_model` Object\nThe :obj:`gempy.core.data.GeoModel` object we just initialized contains all the essential information for constructing our model, \nsuch as the parameters defined above,\nand the input data we will introduce further below. You can access different types of information by accessing the attributes. For instance, you\ncan retrieve the coordinates of our modeling grid as follows:\n\n"
      ]
    },
    {
      "cell_type": "code",
      "execution_count": null,
      "metadata": {
        "collapsed": false
      },
      "outputs": [],
      "source": [
        "geo_model.grid"
      ]
    },
    {
      "cell_type": "markdown",
      "metadata": {},
      "source": [
        "The `geo_model` object also contains the structural frame of our model, i.e., information about our main structural groups (also referred to as\nseries or stacks in our model), and their sequential and geological relationships with one another. Each group can contain several elements,\nwhich can be surfaces representing the **bottom** interfaces of lithological units or fault planes. Each structural group also has a relation\ntype that defines the relation of the structural elements to others. The relation type is 'erode' by default but can also be 'onlap' or 'fault' \n(more about this later). The structural frame also contains information about fault relationships, i.e., which elements are affected by which \nfaults. Let's look at our default structural frame:\n\n"
      ]
    },
    {
      "cell_type": "code",
      "execution_count": null,
      "metadata": {
        "collapsed": false
      },
      "outputs": [],
      "source": [
        "geo_model.structural_frame"
      ]
    },
    {
      "cell_type": "markdown",
      "metadata": {},
      "source": [
        "As you can see, by default, there is one element called 'surface 1' and no faults. However, by default, GemPy actually not only starts off \nwith this 'surface 1' but also a 'basement' unit which is always present. We can see this using the following function:\n\n"
      ]
    },
    {
      "cell_type": "code",
      "execution_count": null,
      "metadata": {
        "collapsed": false
      },
      "outputs": [],
      "source": [
        "geo_model.structural_frame.structural_elements"
      ]
    },
    {
      "cell_type": "markdown",
      "metadata": {},
      "source": [
        "We can also rename our structural elements and assign colors as needed. This will later become relevant for the legend in our plots of the\ndata and generated model. Let's assume we already know our uppermost surface, 'surface 1,' is a limestone unit. Let's also ensure it is\nrepresented by the same color as displayed in the cross-section. For this, we input hex color codes.\n\n"
      ]
    },
    {
      "cell_type": "code",
      "execution_count": null,
      "metadata": {
        "collapsed": false
      },
      "outputs": [],
      "source": [
        "geo_model.structural_frame.structural_elements[0].color = '#33ABFF'  # Set 'surface 1' color to blue.\ngeo_model.structural_frame.structural_elements[1].color = '#570987'  # Set basement color to purple.\n\ngeo_model.structural_frame.structural_elements[0].name = 'Limestone'  # Renaming 'surface 1' to 'Limestone'.\ngeo_model.structural_frame.structural_elements[0]"
      ]
    },
    {
      "cell_type": "code",
      "execution_count": null,
      "metadata": {
        "collapsed": false
      },
      "outputs": [],
      "source": [
        "geo_model.structural_frame.structural_groups[0].name = 'Deposit. Series'"
      ]
    },
    {
      "cell_type": "markdown",
      "metadata": {},
      "source": [
        "## Manually Inputting Data\nNow that the `geo_model` object has been created and our first structural element renamed, we can start inputting data by reading it from\nthe cross-section. We start with location points that represent the boundaries between two lithological units. Let's look at the cross-section \nagain. This time we use a `gempy_viewer` function to create a plot that can include the cross-section image, as well as data in the object \n`geo_model` - which is for now empty but we will start adding data next. Let's also add a grid to better read the location of points.\n\nThe image cross-section indicates that there are three lithological boundaries, with one dot for each boundary shown in the first two boreholes.\nThe third borehole doesn't go as deep and only provides one dot, i.e., information about the first boundary. These dots represent the location\nof a boundary surface in depth. Remember also that in GemPy, each surface represents the bottom of the unit it is assigned to.\n\n"
      ]
    },
    {
      "cell_type": "code",
      "execution_count": null,
      "metadata": {
        "collapsed": false
      },
      "outputs": [],
      "source": [
        "p2d = gpv.plot_2d(geo_model, show=False)\np2d.axes[0].imshow(img, origin='upper', alpha=.8, extent=(0, 780, -582, 0))\n\n# Enable grid with minor ticks\np2d.axes[0].grid(which='both')  # Enable both major and minor grids\np2d.axes[0].minorticks_on()  # Enable minor ticks\n\n# Customize the appearance of the grid if needed\np2d.axes[0].grid(which='major', linestyle='--', linewidth='0.8', color='gray')\np2d.axes[0].grid(which='minor', linestyle=':', linewidth='0.4', color='gray')\n\nplt.show()"
      ]
    },
    {
      "cell_type": "markdown",
      "metadata": {},
      "source": [
        "Looking at the plot, we can read the location of the surface points and start adding them to our `geo_model` object. For now, let's focus on \nonly the uppermost layer, the limestone, with its bottom boundary represented by the blue dots. Using the function `add_surface_points`, \nwe can start adding the positional points to our `geo_model` object. Let's start with only one. From looking at the plot, the first blue\npoint seems to be located at approximately 250 in the x direction and around 95 meters in depth. Since we assume the section to be at y=0,\nwe can leave y as 0. We can input that as follows:\n%%\n\n"
      ]
    },
    {
      "cell_type": "code",
      "execution_count": null,
      "metadata": {
        "collapsed": false
      },
      "outputs": [],
      "source": [
        "gp.add_surface_points(\n    geo_model=geo_model,\n    x=[225],\n    y=[0],\n    z=[-95],\n    elements_names=['Limestone']\n)"
      ]
    },
    {
      "cell_type": "markdown",
      "metadata": {},
      "source": [
        "Now let's plot the data with the section and see how we did:\n\n"
      ]
    },
    {
      "cell_type": "code",
      "execution_count": null,
      "metadata": {
        "collapsed": false
      },
      "outputs": [],
      "source": [
        "p2d = gpv.plot_2d(geo_model, show=False)\np2d.axes[0].imshow(img, origin='upper', alpha=.8, extent=(0, 780, -582, 0))\n\n# Enable grid with minor ticks\np2d.axes[0].grid(which='both')  # Enable both major and minor grids\np2d.axes[0].minorticks_on()  # Enable minor ticks\n\n# Customize the appearance of the grid if needed\np2d.axes[0].grid(which='major', linestyle='--', linewidth='0.8', color='gray')\np2d.axes[0].grid(which='minor', linestyle=':', linewidth='0.4', color='gray')\n\nplt.show()"
      ]
    },
    {
      "cell_type": "markdown",
      "metadata": {},
      "source": [
        "Great! As you can see, the data point we entered sits right on top of the blue dot on the borehole. Now let's do the same for the other\nborehole dots. Conveniently, we can use the same function to add several points at a time:\n\n"
      ]
    },
    {
      "cell_type": "code",
      "execution_count": null,
      "metadata": {
        "collapsed": false
      },
      "outputs": [],
      "source": [
        "gp.add_surface_points(\n    geo_model=geo_model,\n    x=[460, 617],\n    y=[0, 0],\n    z=[-100, -10],\n    elements_names=['Limestone', 'Limestone']\n)\n\np2d = gpv.plot_2d(geo_model, show=False)\np2d.axes[0].imshow(img, origin='upper', alpha=.8, extent=(0, 780, -582, 0))\n\n# Enable grid with minor ticks\np2d.axes[0].grid(which='both')  # Enable both major and minor grids\np2d.axes[0].minorticks_on()  # Enable minor ticks\n\n# Customize the appearance of the grid if needed\np2d.axes[0].grid(which='major', linestyle='--', linewidth='0.8', color='gray')\np2d.axes[0].grid(which='minor', linestyle=':', linewidth='0.4', color='gray')\n\nplt.show()"
      ]
    },
    {
      "cell_type": "markdown",
      "metadata": {},
      "source": [
        "## Minimum Data for Model Computation\nOk, good! Now we have added the position of the bottom of this top layer for each borehole. But is this enough to compute our first layer? \nWell, no. GemPy's approach is based on an implicit interpolation method that requires the following minimum data:\n\n - **Two surface points** for at least one surface in a structural group/series\n - **One orientation** per structural group/series\n\nThanks to GemPy's global interpolation approach, once you have one surface defined by two surface points and an orientation in a structural \ngroup, you can add more surfaces (in the same group) with the minimum of one surface point, as it will now take its orientation information\nfrom the other surface.\n\nSo, we are missing an orientation. Let's go ahead and add one. It seems that we can assume a horizontal orientation between the first two \nsurface points (apparent, as we have no information about the y-direction). Let's add a corresponding orientation using the function \n`add_orientations`:\n\n"
      ]
    },
    {
      "cell_type": "code",
      "execution_count": null,
      "metadata": {
        "collapsed": false
      },
      "outputs": [],
      "source": [
        "gp.add_orientations(\n    geo_model=geo_model,\n    x=[350],\n    y=[0],\n    z=[-120],\n    elements_names=['Limestone'],\n    pole_vector=[np.array([0, 0, 1])]\n)\n\np2d = gpv.plot_2d(geo_model, show=False)\np2d.axes[0].imshow(img, origin='upper', alpha=.8, extent=(0, 780, -582, 0))\n\n# Enable grid with minor ticks\np2d.axes[0].grid(which='both')  # Enable both major and minor grids\np2d.axes[0].minorticks_on()  # Enable minor ticks\n\n# Customize the appearance of the grid if needed\np2d.axes[0].grid(which='major', linestyle='--', linewidth='0.8', color='gray')\np2d.axes[0].grid(which='minor', linestyle=':', linewidth='0.4', color='gray')\n\nplt.show()"
      ]
    },
    {
      "cell_type": "markdown",
      "metadata": {},
      "source": [
        "Alright, now we actually have sufficient input data to compute the first version of our model. Let's go ahead and do that using `compute_model`:\n\n"
      ]
    },
    {
      "cell_type": "code",
      "execution_count": null,
      "metadata": {
        "collapsed": false
      },
      "outputs": [],
      "source": [
        "geo_model.update_transform(gp.data.GlobalAnisotropy.NONE)"
      ]
    },
    {
      "cell_type": "code",
      "execution_count": null,
      "metadata": {
        "collapsed": false
      },
      "outputs": [],
      "source": [
        "gp.compute_model(geo_model, engine_config=gp.data.GemPyEngineConfig())"
      ]
    },
    {
      "cell_type": "markdown",
      "metadata": {},
      "source": [
        "Now, the model has been computed and is ready to be visualized. Let's see what it looks like in a 2D section:\n\n"
      ]
    },
    {
      "cell_type": "markdown",
      "metadata": {},
      "source": [
        "2D visualization:\n\n"
      ]
    },
    {
      "cell_type": "code",
      "execution_count": null,
      "metadata": {
        "collapsed": false
      },
      "outputs": [],
      "source": [
        "gpv.plot_2d(geo_model, cell_number='mid')"
      ]
    },
    {
      "cell_type": "markdown",
      "metadata": {},
      "source": [
        "We can also plot it together with our cross-section image. By using transparency on the cross-section image, we can overlay it over the 2D model\nvisualization.\n\n"
      ]
    },
    {
      "cell_type": "code",
      "execution_count": null,
      "metadata": {
        "collapsed": false
      },
      "outputs": [],
      "source": [
        "p2d = gpv.plot_2d(geo_model, show=False)\np2d.axes[0].imshow(img, origin='upper', alpha=.8, extent=(0, 780, -582, 0))\n\n# Enable grid with minor ticks\np2d.axes[0].grid(which='both')  # Enable both major and minor grids\np2d.axes[0].minorticks_on()  # Enable minor ticks\n\n# Customize the appearance of the grid if needed\np2d.axes[0].grid(which='major', linestyle='--', linewidth='0.8', color='gray')\np2d.axes[0].grid(which='minor', linestyle=':', linewidth='0.4', color='gray')\n\nplt.show()"
      ]
    },
    {
      "cell_type": "markdown",
      "metadata": {},
      "source": [
        "You can see how the computed interface runs through the points we defined and is furthermore determined by the one orientation we placed.\nNow, let's look at our 3D model:\n\n"
      ]
    },
    {
      "cell_type": "markdown",
      "metadata": {},
      "source": [
        "3D visualization:\n\n"
      ]
    },
    {
      "cell_type": "code",
      "execution_count": null,
      "metadata": {
        "collapsed": false
      },
      "outputs": [],
      "source": [
        "gpv.plot_3d(geo_model, show_surfaces=True, image=False)"
      ]
    },
    {
      "cell_type": "markdown",
      "metadata": {},
      "source": [
        "Very good, we have successfully computed the first iteration of our model including one lithological interface. You could now go ahead and\nfine-tune the model by adding further points or orientations. For now, let's continue.\n\n## About Scalar Fields\nGemPy's global interpolation approach uses scalar fields to compute models. Each structural group or series has its own scalar field, which\nis defined by the data input to all of its elements and at least the minimum data mentioned above. Given that alone, a scalar field will \nalready be created \"globally\", i.e., for the full extent of the modeling space. The defined surface follows one value along that field as\nan isosurface. A separate structural element will follow a different isosurface, and once you input additional points and orientations, \nthe scalar field will be altered accordingly.\n\nAs mentioned, each structural group has its own scalar field. These can be combined to achieve more complex structures and relationships, \nas we will see later.\n\nLet's take a look at the current scalar field for our current group by plotting it in 2D. Keep it in mind as we go ahead and add additional\nelements and data.\n\n"
      ]
    },
    {
      "cell_type": "code",
      "execution_count": null,
      "metadata": {
        "collapsed": false
      },
      "outputs": [],
      "source": [
        "p2d = gpv.plot_2d(\n    model=geo_model,\n    series_n=0, \n    show_data=True,\n    show_scalar=True,\n    show_lith=False\n)\n\nplt.show()"
      ]
    },
    {
      "cell_type": "markdown",
      "metadata": {},
      "source": [
        "## Adding a Second Lithological Unit\nTo add another unit to our model, we can define it as another structural element and then append it to our `geo_model` object. We do this\nfor the second unit in the following steps. See how we can already give it a name (let's assume this is a siltstone now), a color corresponding \nto the dot colors in the cross-section, as well as define surface points and orientations. By appending it to `structural_groups[0]`, we are\nadding it to our first (and currently only) structural group/series, i.e., it will be in the same stack as our limestone.\n\n"
      ]
    },
    {
      "cell_type": "code",
      "execution_count": null,
      "metadata": {
        "collapsed": false
      },
      "outputs": [],
      "source": [
        "element2 = gp.data.StructuralElement(\n    name='Siltstone',\n    color='#FFA833',  # color=next(geo_model.structural_frame.color_generator),\n    surface_points=gp.data.SurfacePointsTable.from_arrays(\n        x=np.array([460]),\n        y=np.array([0]),\n        z=np.array([-280]),\n        names='Siltstone'\n    ),\n    orientations=gp.data.OrientationsTable.initialize_empty()\n)\n\ngeo_model.structural_frame.structural_groups[0].append_element(element2)"
      ]
    },
    {
      "cell_type": "markdown",
      "metadata": {},
      "source": [
        "Now, we can see that this siltstone unit is part of our structural frame. Note below, that it has by default been added below the limestone. \nThe order of structural elements within one group only affects the default color assigned. We recommend being consistent in the way you \nchoose to order them, and to order them in accordance with geological age. The order of structural groups actually represents geological \ntime relationships, with groups at the top being the youngest and lower ones being older. This, together with their `StackRelationType`, \ndecides how they affect each other via their individual scalar fields, as we will see later.\n\n"
      ]
    },
    {
      "cell_type": "code",
      "execution_count": null,
      "metadata": {
        "collapsed": false
      },
      "outputs": [],
      "source": [
        "geo_model.structural_frame"
      ]
    },
    {
      "cell_type": "code",
      "execution_count": null,
      "metadata": {
        "collapsed": false
      },
      "outputs": [],
      "source": [
        "gp.compute_model(geo_model, engine_config=gp.data.GemPyEngineConfig())"
      ]
    },
    {
      "cell_type": "code",
      "execution_count": null,
      "metadata": {
        "collapsed": false
      },
      "outputs": [],
      "source": [
        "p2d = gpv.plot_2d(geo_model, cell='mid', show=False)\np2d.axes[0].imshow(img, origin='upper', alpha=.8, extent=(0, 780, -582, 0))\n\n# Enable grid with minor ticks\np2d.axes[0].grid(which='both')  # Enable both major and minor grids\np2d.axes[0].minorticks_on()  # Enable minor ticks\n\n# Customize the appearance of the grid if needed\np2d.axes[0].grid(which='major', linestyle='--', linewidth='0.8', color='gray')\np2d.axes[0].grid(which='minor', linestyle=':', linewidth='0.4', color='gray')\n\nplt.show()"
      ]
    },
    {
      "cell_type": "markdown",
      "metadata": {},
      "source": [
        "The 2D visualization of our updated model now shows that the next surface follows the respective point we added. Based on the implicit\nmodeling approach GemPy uses, given this sparse information we have put in, the siltstone bottom interface otherwise follows the course \nand orientation of the limestone we defined earlier. This is due to the scalar field which was defined by the data input for the structural\ngroup as a whole. In our 2D plot, we can see that this fits quite well with the first borehole, too. Still, let's add the remaining point,\nand while we are at it, let's also add the third lithological unit marked in green.\n\n"
      ]
    },
    {
      "cell_type": "markdown",
      "metadata": {},
      "source": [
        "First, we add the two missing points to the Siltstone\n\n"
      ]
    },
    {
      "cell_type": "code",
      "execution_count": null,
      "metadata": {
        "collapsed": false
      },
      "outputs": [],
      "source": [
        "gp.add_surface_points(\n    geo_model=geo_model,\n    x=[225],\n    y=[0],\n    z=[-270],\n    elements_names=['Siltstone']\n)\n\nelement3 = gp.data.StructuralElement(\n    name='Sandstone',\n    color='#72A533',  # next(geo_model.structural_frame.color_generator),\n    surface_points=gp.data.SurfacePointsTable.from_arrays(\n        x=np.array([225, 460]),\n        y=np.array([0, 0]),\n        z=np.array([-436, -441]),\n        names='Sandstone'\n    ),\n    orientations=gp.data.OrientationsTable.initialize_empty()\n)\n\ngeo_model.structural_frame.structural_groups[0].append_element(element3)"
      ]
    },
    {
      "cell_type": "code",
      "execution_count": null,
      "metadata": {
        "collapsed": false
      },
      "outputs": [],
      "source": [
        "gp.compute_model(geo_model)"
      ]
    },
    {
      "cell_type": "code",
      "execution_count": null,
      "metadata": {
        "collapsed": false
      },
      "outputs": [],
      "source": [
        "p2d = gpv.plot_2d(geo_model, show=False)\np2d.axes[0].imshow(img, origin='upper', alpha=.8, extent=(0, 780, -582, 0))\n\n# Enable grid with minor ticks\np2d.axes[0].grid(which='both')  # Enable both major and minor grids\np2d.axes[0].minorticks_on()  # Enable minor ticks\n\n# Customize the appearance of the grid if needed\np2d.axes[0].grid(which='major', linestyle='--', linewidth='0.8', color='gray')\np2d.axes[0].grid(which='minor', linestyle=':', linewidth='0.4', color='gray')\n\nplt.show()"
      ]
    },
    {
      "cell_type": "markdown",
      "metadata": {},
      "source": [
        "3D visualization:\n\n"
      ]
    },
    {
      "cell_type": "code",
      "execution_count": null,
      "metadata": {
        "collapsed": false
      },
      "outputs": [],
      "source": [
        "gpv.plot_3d(geo_model, show_surfaces=True, image=False)"
      ]
    },
    {
      "cell_type": "markdown",
      "metadata": {},
      "source": [
        "## Discontinuities: Combining Scalar Fields\n\nNow that we have created all the lithological units and added all the surface points we got from the boreholes, we have created a very\nsimple geological model. However, geological scenarios are usually more complex. In GemPy, you can not only combine numerous surface\npoints and orientations to create elaborate structures but also create various structural groups that affect each other through combinations\nof their scalar fields. In the following part, we will look at the right side of our cross-section, where we only have limited data, and\nsee how we can add a new structural group to create various types of discontinuities, and with that, possibly even meaningful alternative \nmodel hypotheses.\n\nSo, let's define another structural element that will serve to showcase the different types of discontinuities we can implement in GemPy:\n\n"
      ]
    },
    {
      "cell_type": "code",
      "execution_count": null,
      "metadata": {
        "collapsed": false
      },
      "outputs": [],
      "source": [
        "element_discont = gp.data.StructuralElement(\n    name='Discont_Surface',\n    color='#990000',  # next(geo_model.structural_frame.color_generator),\n    surface_points=gp.data.SurfacePointsTable.from_arrays(\n        x=np.array([550, 650]),\n        y=np.array([0, 0]),\n        z=np.array([-30, -200]),\n        names='Discont_Surface'\n    ),\n    orientations=gp.data.OrientationsTable.from_arrays(\n        x=np.array([600]),\n        y=np.array([0]),\n        z=np.array([-100]),\n        G_x=np.array([.3]),\n        G_y=np.array([0]),\n        G_z=np.array([.3]),\n        names='Discont_Surface'\n    )\n)"
      ]
    },
    {
      "cell_type": "markdown",
      "metadata": {},
      "source": [
        "To place the discontinuity element in a separate structural group, we need to create one. This is what we do next. Note that we directly \nadd the element to the group as we create it, and we define the group's structural relation type as the default 'erode'. We can then insert\nthe group into the structural frame.\n\n"
      ]
    },
    {
      "cell_type": "code",
      "execution_count": null,
      "metadata": {
        "collapsed": false
      },
      "outputs": [],
      "source": [
        "group_discont = gp.data.StructuralGroup(\n    name='Discontinuity',\n    elements=[element_discont],\n    structural_relation=gp.data.StackRelationType.ERODE,\n)\n\n# Insert the fault group into the structural frame:\ngeo_model.structural_frame.insert_group(0, group_discont)"
      ]
    },
    {
      "cell_type": "markdown",
      "metadata": {},
      "source": [
        "Let's take a quick look at the state of our structural frame.\n\n"
      ]
    },
    {
      "cell_type": "code",
      "execution_count": null,
      "metadata": {
        "collapsed": false
      },
      "outputs": [],
      "source": [
        "geo_model.structural_frame"
      ]
    },
    {
      "cell_type": "markdown",
      "metadata": {},
      "source": [
        "We can now see the two different structural groups: the default one containing the deposition series, and the group containing the\ndiscontinuity. Let's go ahead and compute the model. Once the model has been computed, we can plot the scalar fields of both structural\ngroups independently.\n\n"
      ]
    },
    {
      "cell_type": "code",
      "execution_count": null,
      "metadata": {
        "collapsed": false
      },
      "outputs": [],
      "source": [
        "gp.compute_model(geo_model, engine_config=gp.data.GemPyEngineConfig())"
      ]
    },
    {
      "cell_type": "code",
      "execution_count": null,
      "metadata": {
        "collapsed": false
      },
      "outputs": [],
      "source": [
        "p2d = gpv.plot_2d(\n    model=geo_model,\n    series_n=1,  # This setting will now plot the scalar field used for the fault\n    show_data=True,\n    show_scalar=True,\n    show_lith=False\n)\n\nplt.show()"
      ]
    },
    {
      "cell_type": "code",
      "execution_count": null,
      "metadata": {
        "collapsed": false
      },
      "outputs": [],
      "source": [
        "p2d = gpv.plot_2d(\n    model=geo_model,\n    series_n=0,  # This setting will plot the scalar field used for the discontinuity.\n    show_data=True,\n    show_scalar=True,\n    show_lith=False\n)\n\nplt.show()"
      ]
    },
    {
      "cell_type": "markdown",
      "metadata": {},
      "source": [
        "We now have two very different scalar fields. Note how they are each defined by the input data assigned to their respective structural \nelements. Multiple scalar fields in GemPy influence each other depending on (1) their order and (2) their `StackRelationType`. The latter \ndefines how a younger (upper) structural group will relate to the older (lower) structural groups and possibly affect their scalar field.\n\nThe parameter `StackRelationType` can take the following values:\n\n- `BASEMENT`: Treats all lower groups as the basement.\n- `ERODE`: Defines erosive contact/unconformity.\n- `ONLAP`: Defines the younger group to be onlapping onto the older groups.\n- `FAULT`: Defines the group to be a fault.\n\nWe will now take a look at each of these relation types except for the basement type.\n\n"
      ]
    },
    {
      "cell_type": "markdown",
      "metadata": {},
      "source": [
        "## Erosive Contact\nFor this, we don't have to change anything now, as we already set the `StackRelationType` to be `ERODE`. If we now plot it, we will see \nhow this younger structural group erodes all older elements and basically \"cuts them out\" in our model.\n\n"
      ]
    },
    {
      "cell_type": "code",
      "execution_count": null,
      "metadata": {
        "collapsed": false
      },
      "outputs": [],
      "source": [
        "p2d = gpv.plot_2d(geo_model, show=False)\np2d.axes[0].imshow(img, origin='upper', alpha=.8, extent=(0, 780, -582, 0))\n\n# Enable grid with minor ticks\np2d.axes[0].grid(which='both')  # Enable both major and minor grids\np2d.axes[0].minorticks_on()  # Enable minor ticks\n\n# Customize the appearance of the grid if needed\np2d.axes[0].grid(which='major', linestyle='--', linewidth='0.8', color='gray')\np2d.axes[0].grid(which='minor', linestyle=':', linewidth='0.4', color='gray')\n\nplt.show()"
      ]
    },
    {
      "cell_type": "markdown",
      "metadata": {},
      "source": [
        "3D visualization:\n\n"
      ]
    },
    {
      "cell_type": "code",
      "execution_count": null,
      "metadata": {
        "collapsed": false
      },
      "outputs": [],
      "source": [
        "gpv.plot_3d(geo_model, show_surfaces=True, image=False, show_lith=False)"
      ]
    },
    {
      "cell_type": "markdown",
      "metadata": {},
      "source": [
        "We can see how all units of the depositional series stop at the contact with the new discontinuity group. However, this doesn't look \nquite right, and it in particular doesn't fit the surface point that was observed in the third borehole. So let's try another relation type.\n\n## Onlapping\nLet's change the relation type from `ERODE` to `ONLAP` to achieve a different type of discontinuity and then plot it.\n\n"
      ]
    },
    {
      "cell_type": "code",
      "execution_count": null,
      "metadata": {
        "collapsed": false
      },
      "outputs": [],
      "source": [
        "geo_model.structural_frame.structural_groups[0].structural_relation = gp.data.StackRelationType.ONLAP"
      ]
    },
    {
      "cell_type": "code",
      "execution_count": null,
      "metadata": {
        "collapsed": false
      },
      "outputs": [],
      "source": [
        "gp.compute_model(geo_model, engine_config=gp.data.GemPyEngineConfig())"
      ]
    },
    {
      "cell_type": "code",
      "execution_count": null,
      "metadata": {
        "collapsed": false
      },
      "outputs": [],
      "source": [
        "p2d = gpv.plot_2d(geo_model, show=False)\np2d.axes[0].imshow(img, origin='upper', alpha=.8, extent=(0, 780, -582, 0))\n\n# Enable grid with minor ticks\np2d.axes[0].grid(which='both')  # Enable both major and minor grids\np2d.axes[0].minorticks_on()  # Enable minor ticks\n\n# Customize the appearance of the grid if needed\np2d.axes[0].grid(which='major', linestyle='--', linewidth='0.8', color='gray')\np2d.axes[0].grid(which='minor', linestyle=':', linewidth='0.4', color='gray')\n\nplt.show()"
      ]
    },
    {
      "cell_type": "markdown",
      "metadata": {},
      "source": [
        "3D visualization:\n\n"
      ]
    },
    {
      "cell_type": "code",
      "execution_count": null,
      "metadata": {
        "collapsed": false
      },
      "outputs": [],
      "source": [
        "gpv.plot_3d(geo_model, show_surfaces=True, image=False, show_lith=False)"
      ]
    },
    {
      "cell_type": "markdown",
      "metadata": {},
      "source": [
        "Now the unit defined as part of the discontinuity group is onlapping onto the uppermost surface of the default group and ends there. \nThis also doesn't really make sense considering the data given, so let's try the last relation type.\n\n## Faults\nLet's change the relation type to `FAULT` and plot the results. For a fault, we also need to make use of the function `set_is_fault`.\n\n"
      ]
    },
    {
      "cell_type": "code",
      "execution_count": null,
      "metadata": {
        "collapsed": false
      },
      "outputs": [],
      "source": [
        "geo_model.structural_frame.structural_groups[0].structural_relation = gp.data.StackRelationType.FAULT"
      ]
    },
    {
      "cell_type": "code",
      "execution_count": null,
      "metadata": {
        "collapsed": false
      },
      "outputs": [],
      "source": [
        "gp.set_is_fault(\n    frame=geo_model.structural_frame,\n    fault_groups=['Discontinuity']\n)"
      ]
    },
    {
      "cell_type": "markdown",
      "metadata": {},
      "source": [
        "See that the fault relations field in the structural frame now indicates that the fault affects the default formation, i.e., offsets it.\nLet's compute our model including the fault and see what that looks like.\n\n"
      ]
    },
    {
      "cell_type": "code",
      "execution_count": null,
      "metadata": {
        "collapsed": false
      },
      "outputs": [],
      "source": [
        "gp.compute_model(geo_model, engine_config=gp.data.GemPyEngineConfig())"
      ]
    },
    {
      "cell_type": "code",
      "execution_count": null,
      "metadata": {
        "collapsed": false
      },
      "outputs": [],
      "source": [
        "p2d = gpv.plot_2d(geo_model, show=False)\np2d.axes[0].imshow(img, origin='upper', alpha=.8, extent=(0, 780, -582, 0))\n\n# Enable grid with minor ticks\np2d.axes[0].grid(which='both')  # Enable both major and minor grids\np2d.axes[0].minorticks_on()  # Enable minor ticks\n\n# Customize the appearance of the grid if needed\np2d.axes[0].grid(which='major', linestyle='--', linewidth='0.8', color='gray')\np2d.axes[0].grid(which='minor', linestyle=':', linewidth='0.4', color='gray')\n\nplt.show()"
      ]
    },
    {
      "cell_type": "markdown",
      "metadata": {},
      "source": [
        "3D visualization:\n\n"
      ]
    },
    {
      "cell_type": "code",
      "execution_count": null,
      "metadata": {
        "collapsed": false
      },
      "outputs": [],
      "source": [
        "gpv.plot_3d(geo_model, show_surfaces=True, image=False, show_lith=False)"
      ]
    },
    {
      "cell_type": "markdown",
      "metadata": {},
      "source": [
        "In the 2D and 3D visualizations, we can now see how the insertion of a fault has created a viable alternative hypothesis that fits the \noriginal data in the cross-section. Instead of a larger syncline structure and upward-bending of the whole depositional series, we can \nnow explain the shallower depth of the limestone in the third borehole by the effects of a reverse fault. In this model realization,\nall lithological units are oriented near-horizontal but are offset by the fault. Note that in GemPy, the degree of offset is defined \nby the location of the surface points on each side. If there is no data on one side of a fault, a very large offset will be assumed.\n\nNote also that by implementing a fault, the scalar field of the depositional series has been affected by the offset.\n\n"
      ]
    },
    {
      "cell_type": "code",
      "execution_count": null,
      "metadata": {
        "collapsed": false
      },
      "outputs": [],
      "source": [
        "p2d = gpv.plot_2d(\n    model=geo_model,\n    series_n=1,  # This will plot the scalar field used for the fault\n    show_data=True,\n    show_scalar=True,\n    show_lith=False\n)\n\nplt.show()"
      ]
    },
    {
      "cell_type": "markdown",
      "metadata": {},
      "source": [
        "## Topography and Geological Maps\nIn GemPy, we can add more grid types for different purposes, such as to add topography to our model. In this following section,\nwe will exemplify this by creating a random topography grid which allows us to intersect the surfaces as well as compute a high-resolution\ngeological map. GemPy has a built-in function to generate random topography. After executing it, a topography grid will be added to the \n`geo_model`. It can be directly visualized in 2D and 3D.\n\n"
      ]
    },
    {
      "cell_type": "markdown",
      "metadata": {},
      "source": [
        "GemPy offers built-in tools to manage topographic data through gdal.\nFor demonstration, we'll create a random topography:\n\n"
      ]
    },
    {
      "cell_type": "code",
      "execution_count": null,
      "metadata": {
        "collapsed": false
      },
      "outputs": [],
      "source": [
        "gp.set_topography_from_random(\n    grid=geo_model.grid,\n    fractal_dimension=1.9,\n    d_z=np.array([-150, 0]),\n    topography_resolution=np.array([200, 200])\n)"
      ]
    },
    {
      "cell_type": "code",
      "execution_count": null,
      "metadata": {
        "collapsed": false
      },
      "outputs": [],
      "source": [
        "gpv.plot_2d(geo_model, show_topography=True)"
      ]
    },
    {
      "cell_type": "code",
      "execution_count": null,
      "metadata": {
        "collapsed": false
      },
      "outputs": [],
      "source": [
        "gpv.plot_3d(geo_model, show_surfaces=True, image=False, show_topography=True, show_lith=False)"
      ]
    },
    {
      "cell_type": "markdown",
      "metadata": {},
      "source": [
        "If we now also re-compute our geological model, the generated topography grid will display the lithological units that intersect it, \ni.e., which outcrop at the surface. We can therefore display a geological map based on our topography and the underlying 3D geological model. \nTo plot a top-down view of this map, you can pass the arguments `section_names=['topography']` and `show_topography=True` in the plotting\nfunction as shown below.\n\n"
      ]
    },
    {
      "cell_type": "code",
      "execution_count": null,
      "metadata": {
        "collapsed": false
      },
      "outputs": [],
      "source": [
        "gp.compute_model(geo_model)"
      ]
    },
    {
      "cell_type": "code",
      "execution_count": null,
      "metadata": {
        "collapsed": false
      },
      "outputs": [],
      "source": [
        "gpv.plot_2d(geo_model, section_names=['topography'], show_topography=True)"
      ]
    },
    {
      "cell_type": "code",
      "execution_count": null,
      "metadata": {
        "collapsed": false
      },
      "outputs": [],
      "source": [
        "gpv.plot_3d(geo_model, show_surfaces=True, image=False, show_topography=True)"
      ]
    },
    {
      "cell_type": "markdown",
      "metadata": {},
      "source": [
        "We can now see how the topography displays the color of the lithologies outcropping at the surface, together with topographical contour lines.\n\nWhile this topography is random, GemPy also has the capability to include real topography files and arrays via the functions \n`set_topography_from_file` and `set_topography_from_arrays`.\n\n"
      ]
    },
    {
      "cell_type": "markdown",
      "metadata": {},
      "source": [
        "## Extracting Model Solutions\nOnce you have built a model, you might not only want to visualize it, but also further analyze it or export it for further utilization. \nFor this, it is good to know that the solutions from modeling are stored in `geo_model.solutions` and can be returned from there. This\nincludes the following outputs in particular:\n- `geo_model.solutions.dc_meshes`: A list of the surface meshes in the model with the location of vertices and edges for each.\n- `geo_model.solutions.raw_arrays`: An object containing numerous arrays that define various parts of the model. Of particular importance\nare the lithology block (`lith_block`), the fault block (`fault_block`), and the scalar field matrix (`scalar_field_matrix`).\n\n## Mesh Solutions\nLet's take a quick look at how we can return some key information from `geo_model.solutions`. Starting with meshes, we can see that the list \n`dc_meshes` can be indexed to return specific meshes and their respective vertices or edges. Please note that the order will be the same as \nin our `structural_frame`, i.e., the index `[0]` will return the first and top surface, in our case, the discontinuity surface.\n\n"
      ]
    },
    {
      "cell_type": "code",
      "execution_count": null,
      "metadata": {
        "collapsed": false
      },
      "outputs": [],
      "source": [
        "vertices_0 = geo_model.solutions.dc_meshes[0].vertices\nedges_0 = geo_model.solutions.dc_meshes[0].edges\nprint(type(vertices_0), vertices_0, edges_0)"
      ]
    },
    {
      "cell_type": "markdown",
      "metadata": {},
      "source": [
        "We can see that the vertices for this mesh were returned as a Numpy array with values for *x*, *y*, and *z* positions for each vertex. \nHowever, the values don't correspond with our model extent. That is because they have been transformed in GemPy. To return the values\ncorresponding to the original coordinate system, we can invert this transformation as follows:\n\n"
      ]
    },
    {
      "cell_type": "code",
      "execution_count": null,
      "metadata": {
        "collapsed": false
      },
      "outputs": [],
      "source": [
        "geo_model.input_transform.apply_inverse(vertices_0)"
      ]
    },
    {
      "cell_type": "markdown",
      "metadata": {},
      "source": [
        "## Lithology Block\nThe lithology block is an array that, for a given model realization/solution, returns the ID of the lithology for each voxel. Note below\nthat the `lith_block` first returns all values in the shape of one row. You might need to reshape it as shown below. For a regular grid,\nyou can reshape it using the resolution used in `geo_model`.\n\n\n"
      ]
    },
    {
      "cell_type": "code",
      "execution_count": null,
      "metadata": {
        "collapsed": false
      },
      "outputs": [],
      "source": [
        "lith_block = geo_model.solutions.raw_arrays.lith_block\nprint(lith_block.shape, lith_block)"
      ]
    },
    {
      "cell_type": "code",
      "execution_count": null,
      "metadata": {
        "collapsed": false
      },
      "outputs": [],
      "source": [
        "lith_block = lith_block.reshape(50, 50, 50)\nprint(lith_block.shape, lith_block)"
      ]
    },
    {
      "cell_type": "markdown",
      "metadata": {},
      "source": [
        "## Grid Values\nApart from these solutions, you might also need to return grid values. You can access the values for each grid in your `geo_model` \nobject via `geo_model.grid` as shown below.\n%%\n\n"
      ]
    },
    {
      "cell_type": "code",
      "execution_count": null,
      "metadata": {
        "collapsed": false
      },
      "outputs": [],
      "source": [
        "geo_model.grid.regular_grid.values"
      ]
    },
    {
      "cell_type": "code",
      "execution_count": null,
      "metadata": {
        "collapsed": false
      },
      "outputs": [],
      "source": [
        "geo_model.grid.topography.values"
      ]
    }
  ],
  "metadata": {
    "kernelspec": {
      "display_name": "Python 3",
      "language": "python",
      "name": "python3"
    },
    "language_info": {
      "codemirror_mode": {
        "name": "ipython",
        "version": 3
      },
      "file_extension": ".py",
      "mimetype": "text/x-python",
      "name": "python",
      "nbconvert_exporter": "python",
      "pygments_lexer": "ipython3",
      "version": "3.10.12"
    }
  },
  "nbformat": 4,
  "nbformat_minor": 0
}