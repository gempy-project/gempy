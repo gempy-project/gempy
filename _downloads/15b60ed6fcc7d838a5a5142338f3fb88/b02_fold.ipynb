{
  "cells": [
    {
      "cell_type": "code",
      "execution_count": null,
      "metadata": {
        "collapsed": false
      },
      "outputs": [],
      "source": [
        "%matplotlib inline\nfrom pyvista import set_plot_theme\nset_plot_theme('document')"
      ]
    },
    {
      "cell_type": "markdown",
      "metadata": {},
      "source": [
        "\n# Model 2 - Anticline\n\nSimple model of an anticline\n\nThis script demonstrates how to create a geological model of an anticline structure using GemPy,\na Python-based, open-source library for implicit geological modeling.\n"
      ]
    },
    {
      "cell_type": "code",
      "execution_count": null,
      "metadata": {
        "collapsed": false
      },
      "outputs": [],
      "source": [
        "# Import necessary libraries\nimport gempy as gp\nimport gempy_viewer as gpv\n\n\n# sphinx_gallery_thumbnail_number = 2"
      ]
    },
    {
      "cell_type": "markdown",
      "metadata": {},
      "source": [
        "Generate the model\nDefine the path to data\n\n"
      ]
    },
    {
      "cell_type": "code",
      "execution_count": null,
      "metadata": {
        "collapsed": false
      },
      "outputs": [],
      "source": [
        "data_path = 'https://raw.githubusercontent.com/cgre-aachen/gempy_data/master/'\npath_to_data = data_path + \"/data/input_data/jan_models/\"\n# Create a GeoModel instance\ndata: gp.data.GeoModel = gp.create_geomodel(\n    project_name='fold',\n    extent=[0, 1000, 0, 1000, 0, 1000],\n    refinement=6,\n    importer_helper=gp.data.ImporterHelper(\n        path_to_orientations=path_to_data + \"model2_orientations.csv\",\n        path_to_surface_points=path_to_data + \"model2_surface_points.csv\"\n    )\n)\n# Map geological series to surfaces\ngp.map_stack_to_surfaces(\n    gempy_model=data,\n    mapping_object={\"Strat_Series\": ('rock2', 'rock1')}\n)\n# Compute the geological model\ngp.compute_model(data)\ngeo_data = data"
      ]
    },
    {
      "cell_type": "markdown",
      "metadata": {},
      "source": [
        "Plot the initial geological model in the y direction without results\n\n"
      ]
    },
    {
      "cell_type": "code",
      "execution_count": null,
      "metadata": {
        "collapsed": false
      },
      "outputs": [],
      "source": [
        "gpv.plot_2d(geo_data, direction=['y'], show_results=False)\n\n# Plot the result of the model in the y and x direction with data and scalar\ngpv.plot_2d(geo_data, direction='y', show_data=True, show_scalar=False)\ngpv.plot_2d(geo_data, direction='x', show_data=True, show_scalar=True)"
      ]
    }
  ],
  "metadata": {
    "kernelspec": {
      "display_name": "Python 3",
      "language": "python",
      "name": "python3"
    },
    "language_info": {
      "codemirror_mode": {
        "name": "ipython",
        "version": 3
      },
      "file_extension": ".py",
      "mimetype": "text/x-python",
      "name": "python",
      "nbconvert_exporter": "python",
      "pygments_lexer": "ipython3",
      "version": "3.10.12"
    }
  },
  "nbformat": 4,
  "nbformat_minor": 0
}