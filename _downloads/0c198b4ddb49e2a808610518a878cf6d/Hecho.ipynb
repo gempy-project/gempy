{
  "cells": [
    {
      "cell_type": "code",
      "execution_count": null,
      "metadata": {
        "collapsed": false
      },
      "outputs": [],
      "source": [
        "%matplotlib inline\nfrom pyvista import set_plot_theme\nset_plot_theme('document')"
      ]
    },
    {
      "cell_type": "markdown",
      "metadata": {},
      "source": [
        "\n# Geomodeling benchmark: the \"Hecho\"-Model\n\nThis model is part of a geomodeling benchmaring effort. More information (and, hopefully, publication) coming.\n"
      ]
    },
    {
      "cell_type": "code",
      "execution_count": null,
      "metadata": {
        "collapsed": false
      },
      "outputs": [],
      "source": [
        "import os\n\nimport numpy as np"
      ]
    },
    {
      "cell_type": "code",
      "execution_count": null,
      "metadata": {
        "collapsed": false
      },
      "outputs": [],
      "source": [
        "# Aux imports\nimport pandas as pn\n\n# Importing gempy\nimport gempy as gp\nimport gempy_viewer as gpv"
      ]
    },
    {
      "cell_type": "markdown",
      "metadata": {},
      "source": [
        "## Loading surface points from repository:\n\nWith pandas we can do it directly from the web and with the right args\nwe can directly tidy the data in gempy style:\n\n\n"
      ]
    },
    {
      "cell_type": "code",
      "execution_count": null,
      "metadata": {
        "collapsed": false
      },
      "outputs": [],
      "source": [
        "data_path = os.path.abspath('../../data/input_data/Hecho')\ndfs = []\n\n# First stratigraphic data\nfor letter in range(1, 10):\n    dfs.append(pn.read_csv(\n        filepath_or_buffer=data_path + '/H' + str(letter) + '.csv',\n        sep=';',\n        names=['X', 'Y', 'Z', 'surface', '_'],\n        header=0\n    ))\n\n# Also faults\nfor f in range(1, 4):\n    fault_df = pn.read_csv(\n        filepath_or_buffer=data_path + '/F' + str(f) + 'Line.csv',\n        sep=';',\n        names=['X', 'Y', 'Z'],\n        header=0\n    )\n    fault_df['surface'] = 'f' + str(f)\n    dfs.append(fault_df)\n\n# We put all the surfaces points together because is how gempy likes it:\nsurface_points = pn.concat(dfs, sort=True)\nsurface_points.reset_index(inplace=True, drop=False)\nsurface_points.tail()"
      ]
    },
    {
      "cell_type": "markdown",
      "metadata": {},
      "source": [
        "Now we do the same with the orientations:\n\n\n"
      ]
    },
    {
      "cell_type": "code",
      "execution_count": null,
      "metadata": {
        "collapsed": false
      },
      "outputs": [],
      "source": [
        "orientations = pn.read_csv(\n    filepath_or_buffer=data_path + '/Dips.csv',\n    sep=';',\n    names=['X', 'Y', 'Z', 'G_x', 'G_z', '_'],\n    header=0\n)\n# Orientation needs to belong to a surface. This is mainly to categorize to which series belong and to\n# use the same color\norientations['surface'] = 0\n\n# We fill the laking direction with a dummy value:\norientations['G_y'] = 0\n\n# Replace -99999.00000 with NaN\norientations.replace(-99999.00000, np.nan, inplace=True)\n\n# Drop irrelevant columns\norientations.drop(columns=['_'], inplace=True)\n\n# Remove rows containing NaN\norientations.dropna(inplace=True)"
      ]
    },
    {
      "cell_type": "markdown",
      "metadata": {},
      "source": [
        "## Data initialization:\n\nSuggested size of the axis-aligned modeling box: Origin: 0 -0.5 0\nMaximum: 16 0.5 4.5\n\nSuggested resolution: 0.05m (grid size 321 x 21 x 91)\n\n%%\n\n"
      ]
    },
    {
      "cell_type": "code",
      "execution_count": null,
      "metadata": {
        "collapsed": false
      },
      "outputs": [],
      "source": [
        "surface_points_table: gp.data.SurfacePointsTable = gp.data.SurfacePointsTable.from_arrays(\n    x=surface_points['X'].values,\n    y=surface_points['Y'].values,\n    z=surface_points['Z'].values,\n    names=surface_points['surface'].values.astype(str)\n)\n\norientations_table: gp.data.OrientationsTable = gp.data.OrientationsTable.from_arrays(\n    x=orientations['X'].values,\n    y=orientations['Y'].values,\n    z=orientations['Z'].values,\n    G_x=orientations['G_x'].values,\n    G_y=orientations['G_y'].values,\n    G_z=orientations['G_z'].values,\n    names=orientations['surface'].values.astype(str),\n    name_id_map=surface_points_table.name_id_map  # ! Make sure that ids and names are shared\n)\n\nstructural_frame: gp.data.StructuralFrame = gp.data.StructuralFrame.from_data_tables(\n    surface_points=surface_points_table,\n    orientations=orientations_table\n)\n\ngeo_model: gp.data.GeoModel = gp.create_geomodel(\n    project_name='Moureze',\n    extent=[0, 16, -0.5, 0.5, 0, 4.5],\n    resolution=[321, 21, 91],\n    structural_frame=structural_frame\n)\n\ngp.set_section_grid(\n    grid=geo_model.grid,\n    section_dict={\n            'section': ([0, 0], [16, 0], [321, 91])\n    },\n)"
      ]
    },
    {
      "cell_type": "markdown",
      "metadata": {},
      "source": [
        "We need an orientation per series/fault. The faults does not have\norientation so the easiest is to create an orientation from the surface\npoints availablle:\n\n\n"
      ]
    },
    {
      "cell_type": "code",
      "execution_count": null,
      "metadata": {
        "collapsed": false
      },
      "outputs": [],
      "source": [
        "f_names = ['f1', 'f2', 'f3']\nfor fn in f_names:\n    element = geo_model.structural_frame.get_element_by_name(fn)\n    new_orientations = gp.create_orientations_from_surface_points_coords(\n        xyz_coords=element.surface_points.xyz\n    )\n    gp.add_orientations(\n        geo_model=geo_model,\n        x=new_orientations.data['X'],\n        y=new_orientations.data['Y'],\n        z=new_orientations.data['Z'],\n        pole_vector=new_orientations.grads,\n        elements_names=fn\n    )"
      ]
    },
    {
      "cell_type": "markdown",
      "metadata": {},
      "source": [
        "Now we can see how the data looks so far:\n\n\n"
      ]
    },
    {
      "cell_type": "code",
      "execution_count": null,
      "metadata": {
        "collapsed": false
      },
      "outputs": [],
      "source": [
        "gpv.plot_2d(geo_model)"
      ]
    },
    {
      "cell_type": "markdown",
      "metadata": {},
      "source": [
        "By default all surfaces belong to one unique series.\n\n\n"
      ]
    },
    {
      "cell_type": "code",
      "execution_count": null,
      "metadata": {
        "collapsed": false
      },
      "outputs": [],
      "source": [
        "geo_model.structural_frame"
      ]
    },
    {
      "cell_type": "markdown",
      "metadata": {},
      "source": [
        "We will need to separate with surface belong to each series:\n\n\n"
      ]
    },
    {
      "cell_type": "code",
      "execution_count": null,
      "metadata": {
        "collapsed": false
      },
      "outputs": [],
      "source": [
        "gp.map_stack_to_surfaces(\n    gempy_model=geo_model,\n    mapping_object={'Fault1': 'f1', 'Fault2': 'f2', 'Fault3': 'f3'}\n)"
      ]
    },
    {
      "cell_type": "markdown",
      "metadata": {},
      "source": [
        "However if we want the faults to offset the \u201cDefault series\u201d, they will\nneed to be more recent (higher on the pile). We can modify the order by:\n\n\n"
      ]
    },
    {
      "cell_type": "markdown",
      "metadata": {},
      "source": [
        "Lastly, so far we did not specify which series/faults are actula faults:\n\n\n"
      ]
    },
    {
      "cell_type": "code",
      "execution_count": null,
      "metadata": {
        "collapsed": false
      },
      "outputs": [],
      "source": [
        "gp.set_is_fault(\n    frame=geo_model,\n    fault_groups=['Fault1', 'Fault2', 'Fault3']\n)"
      ]
    },
    {
      "cell_type": "markdown",
      "metadata": {},
      "source": [
        "The default range is always the diagonal of the extent. Since in this\nmodel data is very close we will need to reduce the range to 5-10% of\nthat value:\n\n\n"
      ]
    },
    {
      "cell_type": "code",
      "execution_count": null,
      "metadata": {
        "collapsed": false
      },
      "outputs": [],
      "source": [
        "geo_model.interpolation_options.kernel_options.range *= 0.2"
      ]
    },
    {
      "cell_type": "markdown",
      "metadata": {},
      "source": [
        "Explanation of model characteristics and adjustments\nThis model has characteristics that make it difficult to get the right default values:\n- It is large, and we want high resolution\n- Some series have a large conditional number (i.e., the model input is not very stable)\nTo address these issues:\n- Reduce the chunk size during evaluation to trade speed for memory\n- Reduce the std of the error parameter in octree refinement, which evaluates fewer voxels but may leave some without refinement\nEnable debugging options to help tune these parameters.\n\n"
      ]
    },
    {
      "cell_type": "markdown",
      "metadata": {},
      "source": [
        "Setting verbose and condition number options for debugging\n\n"
      ]
    },
    {
      "cell_type": "code",
      "execution_count": null,
      "metadata": {
        "collapsed": false
      },
      "outputs": [],
      "source": [
        "geo_model.interpolation_options.kernel_options.compute_condition_number = True"
      ]
    },
    {
      "cell_type": "markdown",
      "metadata": {},
      "source": [
        "Observations and parameter adjustments\nThe octree refinement is making the octree grid almost dense, and smaller chunks are needed to avoid running out of memory.\nAdjusting parameters accordingly:\n\n"
      ]
    },
    {
      "cell_type": "code",
      "execution_count": null,
      "metadata": {
        "collapsed": false
      },
      "outputs": [],
      "source": [
        "geo_model.interpolation_options.evaluation_options.evaluation_chunk_size = 50_000"
      ]
    },
    {
      "cell_type": "code",
      "execution_count": null,
      "metadata": {
        "collapsed": false
      },
      "outputs": [],
      "source": [
        "gp.compute_model(\n    gempy_model=geo_model,\n    engine_config=gp.data.GemPyEngineConfig(\n        backend=gp.data.AvailableBackends.PYTORCH,\n        dtype='float64'\n    )\n)"
      ]
    },
    {
      "cell_type": "code",
      "execution_count": null,
      "metadata": {
        "collapsed": false
      },
      "outputs": [],
      "source": [
        "gpv.plot_2d(geo_model, cell_number=[10], series_n=3, show_scalar=True)"
      ]
    },
    {
      "cell_type": "code",
      "execution_count": null,
      "metadata": {
        "collapsed": false
      },
      "outputs": [],
      "source": [
        "gpv.plot_2d(geo_model, cell_number=[10], show_data=True)"
      ]
    },
    {
      "cell_type": "code",
      "execution_count": null,
      "metadata": {
        "collapsed": false
      },
      "outputs": [],
      "source": [
        "gpv.plot_2d(geo_model, section_names=['section'], show_data=True)"
      ]
    },
    {
      "cell_type": "markdown",
      "metadata": {},
      "source": [
        "sphinx_gallery_thumbnail_number = 3\n\n"
      ]
    },
    {
      "cell_type": "code",
      "execution_count": null,
      "metadata": {
        "collapsed": false
      },
      "outputs": [],
      "source": [
        "gpv.plot_3d(geo_model, kwargs_plot_structured_grid={'opacity': .2})"
      ]
    }
  ],
  "metadata": {
    "kernelspec": {
      "display_name": "Python 3",
      "language": "python",
      "name": "python3"
    },
    "language_info": {
      "codemirror_mode": {
        "name": "ipython",
        "version": 3
      },
      "file_extension": ".py",
      "mimetype": "text/x-python",
      "name": "python",
      "nbconvert_exporter": "python",
      "pygments_lexer": "ipython3",
      "version": "3.10.12"
    }
  },
  "nbformat": 4,
  "nbformat_minor": 0
}